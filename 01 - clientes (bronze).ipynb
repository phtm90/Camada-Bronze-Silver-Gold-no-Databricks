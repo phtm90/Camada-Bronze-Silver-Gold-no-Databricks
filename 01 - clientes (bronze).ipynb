{
 "cells": [
  {
   "cell_type": "markdown",
   "metadata": {
    "application/vnd.databricks.v1+cell": {
     "cellMetadata": {
      "byteLimit": 2048000,
      "rowLimit": 10000
     },
     "inputWidgets": {},
     "nuid": "46020da1-849f-4c24-85b7-fa836645d09d",
     "showTitle": false,
     "title": ""
    }
   },
   "source": [
    "# Tabela Bronze Clientes\n",
    "## Overview\n",
    "\n",
    " | Detail Tag | Information |\n",
    " |------------|-------------|\n",
    " |Versão inicial | Paulo Henrique  |\n",
    " |Tabela final | bronze.clientes |\n",
    " |Origem dos dados |Camada Bronze |\n",
    "\n",
    "\n",
    "## Histórico de atualização\n",
    " | Date | Developed By | Reason |\n",
    " |:----:|--------------|--------|\n",
    " |29/01/2024 | Paulo Henrique |Criação do notebook |\n",
    " \n",
    " \n",
    "\n",
    "## Informações\n",
    "\n",
    "Este notebook contém a construção da tabela bronze contendo os dados de clientes"
   ]
  },
  {
   "cell_type": "code",
   "execution_count": 0,
   "metadata": {
    "application/vnd.databricks.v1+cell": {
     "cellMetadata": {
      "byteLimit": 2048000,
      "implicitDf": true,
      "rowLimit": 10000
     },
     "inputWidgets": {},
     "nuid": "8e4260b9-21b4-4ba6-91f9-1bc427b146a8",
     "showTitle": false,
     "title": ""
    }
   },
   "outputs": [
    {
     "output_type": "display_data",
     "data": {
      "text/html": [
       "<style scoped>\n",
       "  .table-result-container {\n",
       "    max-height: 300px;\n",
       "    overflow: auto;\n",
       "  }\n",
       "  table, th, td {\n",
       "    border: 1px solid black;\n",
       "    border-collapse: collapse;\n",
       "  }\n",
       "  th, td {\n",
       "    padding: 5px;\n",
       "  }\n",
       "  th {\n",
       "    text-align: left;\n",
       "  }\n",
       "</style><div class='table-result-container'><table class='table-result'><thead style='background-color: white'><tr></tr></thead><tbody></tbody></table></div>"
      ]
     },
     "metadata": {
      "application/vnd.databricks.v1+output": {
       "addedWidgets": {},
       "aggData": [],
       "aggError": "",
       "aggOverflow": false,
       "aggSchema": [],
       "aggSeriesLimitReached": false,
       "aggType": "",
       "arguments": {},
       "columnCustomDisplayInfos": {},
       "data": [],
       "datasetInfos": [],
       "dbfsResultPath": null,
       "isJsonSchema": true,
       "metadata": {},
       "overflow": false,
       "plotOptions": {
        "customPlotOptions": {},
        "displayType": "table",
        "pivotAggregation": null,
        "pivotColumns": null,
        "xColumns": null,
        "yColumns": null
       },
       "removedWidgets": [],
       "schema": [],
       "type": "table"
      }
     },
     "output_type": "display_data"
    }
   ],
   "source": [
    "%sql\n",
    "CREATE DATABASE IF NOT EXISTS bronze;"
   ]
  },
  {
   "cell_type": "code",
   "execution_count": 0,
   "metadata": {
    "application/vnd.databricks.v1+cell": {
     "cellMetadata": {
      "byteLimit": 2048000,
      "rowLimit": 10000
     },
     "inputWidgets": {},
     "nuid": "09e6ef77-e2b0-4d71-84be-06f1a34c5af9",
     "showTitle": false,
     "title": ""
    }
   },
   "outputs": [],
   "source": [
    "from pyspark.sql import SparkSession\n",
    "from pyspark.sql.functions import col, current_date, current_timestamp, date_format, expr\n",
    "import unicodedata\n",
    "import re\n",
    "spark = SparkSession.builder.appName(\"DatabricksTableCreation\").getOrCreate()\n",
    "\n",
    "folder_path = 'dbfs:/FileStore/tables/bronze_silver_gold/clientes_final.csv'\n",
    "table = 'clientes'\n",
    "database_name = 'bronze'"
   ]
  },
  {
   "cell_type": "code",
   "execution_count": 0,
   "metadata": {
    "application/vnd.databricks.v1+cell": {
     "cellMetadata": {
      "byteLimit": 2048000,
      "rowLimit": 10000
     },
     "inputWidgets": {},
     "nuid": "d2b15593-bb83-49b8-b5dd-adbf2911ffad",
     "showTitle": false,
     "title": ""
    }
   },
   "outputs": [
    {
     "output_type": "display_data",
     "data": {
      "text/html": [
       "<style scoped>\n",
       "  .table-result-container {\n",
       "    max-height: 300px;\n",
       "    overflow: auto;\n",
       "  }\n",
       "  table, th, td {\n",
       "    border: 1px solid black;\n",
       "    border-collapse: collapse;\n",
       "  }\n",
       "  th, td {\n",
       "    padding: 5px;\n",
       "  }\n",
       "  th {\n",
       "    text-align: left;\n",
       "  }\n",
       "</style><div class='table-result-container'><table class='table-result'><thead style='background-color: white'><tr><th>ID Cliente</th><th>Nome</th><th>Email</th><th>Telefone</th></tr></thead><tbody><tr><td>1</td><td>Marcos Vinicius Pires</td><td>moreirarafael@gmail.com</td><td>+55 (051) 1476-7634</td></tr><tr><td>2</td><td>Srta. Ana Laura Novaes</td><td>aliciapires@gmail.com</td><td>+55 71 2686-2429</td></tr><tr><td>3</td><td>Sr. Francisco Silveira</td><td>pteixeira@gmail.com</td><td>31 6691-7704</td></tr><tr><td>4</td><td>Elisa da Rocha</td><td>enascimento@gmail.com</td><td>11 1007-1988</td></tr><tr><td>5</td><td>Sr. Kevin da Luz</td><td>moreirajoao-felipe@gmail.com</td><td>0500-152-8310</td></tr><tr><td>6</td><td>Gabriela Cunha</td><td>alexandre58@gmail.com</td><td>0800 925 0073</td></tr><tr><td>7</td><td>Lucca Aragão</td><td>ana-carolina81@gmail.com</td><td>+55 51 3202 5452</td></tr><tr><td>8</td><td>Dr. Vinicius Costela</td><td>maysaporto@gmail.com</td><td>0800 264 7109</td></tr><tr><td>9</td><td>Cauê Teixeira</td><td>marcelocostela@gmail.com</td><td>84 3515 0712</td></tr><tr><td>10</td><td>Vitor Hugo Barbosa</td><td>xnunes@gmail.com</td><td>(041) 1168 4578</td></tr><tr><td>11</td><td>Daniela das Neves</td><td>pauloda-rocha@gmail.com</td><td>11 8447 5932</td></tr><tr><td>12</td><td>Srta. Alexia Barbosa</td><td>maria-luiza70@gmail.com</td><td>+55 (011) 1491 8733</td></tr><tr><td>13</td><td>Clara Duarte</td><td>zcastro@gmail.com</td><td>+55 (011) 7970 2820</td></tr><tr><td>14</td><td>Isadora Farias</td><td>oda-conceicao@gmail.com</td><td>+55 (071) 3621-2422</td></tr><tr><td>15</td><td>Yago Silva</td><td>eduardogoncalves@gmail.com</td><td>+55 11 3961 4788</td></tr><tr><td>16</td><td>Sra. Joana Campos</td><td>icaldeira@gmail.com</td><td>+55 51 1033 2053</td></tr><tr><td>17</td><td>Theo Vieira</td><td>uteixeira@gmail.com</td><td>+55 21 9451 6609</td></tr><tr><td>18</td><td>Sr. Vitor Gabriel da Mata</td><td>marianelopes@gmail.com</td><td>+55 (071) 1609-1632</td></tr><tr><td>19</td><td>Juan Freitas</td><td>dda-mota@gmail.com</td><td>+55 (081) 3267-8941</td></tr><tr><td>20</td><td>Stephany Correia</td><td>aragaomaria-eduarda@gmail.com</td><td>61 1192 3023</td></tr><tr><td>21</td><td>Manuela Monteiro</td><td>nogueiralivia@gmail.com</td><td>+55 (084) 2093 8030</td></tr><tr><td>22</td><td>Stephany Lima</td><td>rcardoso@gmail.com</td><td>(011) 6355 4304</td></tr><tr><td>23</td><td>Vinicius Oliveira</td><td>calebecavalcanti@gmail.com</td><td>(084) 8565-9643</td></tr><tr><td>24</td><td>Maysa Farias</td><td>rodriguessabrina@gmail.com</td><td>71 5335-4258</td></tr><tr><td>25</td><td>André da Mota</td><td>bmoraes@gmail.com</td><td>21 0253 1149</td></tr><tr><td>26</td><td>Vitor Gabriel Teixeira</td><td>mendesana-beatriz@gmail.com</td><td>+55 41 0985 8614</td></tr><tr><td>27</td><td>Giovanna Ferreira</td><td>enricocorreia@gmail.com</td><td>+55 (061) 5577 8085</td></tr><tr><td>28</td><td>Dr. Rafael Teixeira</td><td>jmelo@gmail.com</td><td>(081) 7403 1112</td></tr><tr><td>29</td><td>Alexia Araújo</td><td>eloahnogueira@gmail.com</td><td>+55 (031) 8191 4994</td></tr><tr><td>30</td><td>Stephany Oliveira</td><td>barrosmaria-fernanda@gmail.com</td><td>+55 11 3473 7452</td></tr><tr><td>31</td><td>Leandro Gonçalves</td><td>camilada-rocha@gmail.com</td><td>(041) 8751 0192</td></tr><tr><td>32</td><td>Pietra Azevedo</td><td>alvescalebe@gmail.com</td><td>+55 21 0566-2634</td></tr><tr><td>33</td><td>Cauã Fernandes</td><td>diogojesus@gmail.com</td><td>+55 51 7802 0695</td></tr><tr><td>34</td><td>Dr. Rodrigo Pereira</td><td>ana-julia10@gmail.com</td><td>+55 (021) 8917-1989</td></tr><tr><td>35</td><td>Nicolas Alves</td><td>luiz-gustavo59@gmail.com</td><td>+55 (021) 9891 6736</td></tr><tr><td>36</td><td>Arthur Teixeira</td><td>clarice18@gmail.com</td><td>+55 (084) 8921 0905</td></tr><tr><td>37</td><td>Dr. Caio Alves</td><td>gustavo16@gmail.com</td><td>+55 11 6362-9209</td></tr><tr><td>38</td><td>Emanuella Peixoto</td><td>xcostela@gmail.com</td><td>(084) 5163 1570</td></tr><tr><td>39</td><td>Luiz Fernando Moraes</td><td>jcorreia@gmail.com</td><td>0900 539 8131</td></tr><tr><td>40</td><td>Dr. Pedro Henrique Lima</td><td>crocha@gmail.com</td><td>0900-639-9941</td></tr><tr><td>41</td><td>Laura Nunes</td><td>mouraenzo-gabriel@gmail.com</td><td>+55 (051) 2456-0688</td></tr><tr><td>42</td><td>Rodrigo Aragão</td><td>luiz-miguelgomes@gmail.com</td><td>+55 31 7274-3856</td></tr><tr><td>43</td><td>Danilo Costela</td><td>ada-rocha@gmail.com</td><td>(011) 0634 4629</td></tr><tr><td>44</td><td>João Vitor Viana</td><td>juliamelo@gmail.com</td><td>81 0696-5852</td></tr><tr><td>45</td><td>Marcos Vinicius da Luz</td><td>wpires@gmail.com</td><td>+55 (021) 3422 8667</td></tr><tr><td>46</td><td>Isabel Dias</td><td>ana-julia28@gmail.com</td><td>+55 31 1730 3081</td></tr><tr><td>47</td><td>Dr. Luigi Gonçalves</td><td>lrocha@gmail.com</td><td>(051) 4136-9767</td></tr><tr><td>48</td><td>Leonardo Martins</td><td>dmelo@gmail.com</td><td>+55 41 5084-0399</td></tr><tr><td>49</td><td>Lívia Monteiro</td><td>felipe31@gmail.com</td><td>+55 51 7858 3681</td></tr><tr><td>50</td><td>Augusto Costela</td><td>clariceda-cruz@gmail.com</td><td>+55 (071) 8763 6001</td></tr><tr><td>51</td><td>Joana Carvalho</td><td>ralmeida@gmail.com</td><td>41 5265 6840</td></tr><tr><td>52</td><td>Gustavo Dias</td><td>diasgiovanna@gmail.com</td><td>71 7393-3162</td></tr><tr><td>53</td><td>Caroline Martins</td><td>raquellima@gmail.com</td><td>+55 (081) 1516 6202</td></tr><tr><td>54</td><td>Natália Aragão</td><td>ana-livia49@gmail.com</td><td>0500 188 6965</td></tr><tr><td>55</td><td>Davi Lucas Ferreira</td><td>alvesjoao-gabriel@gmail.com</td><td>0500 807 9266</td></tr><tr><td>56</td><td>Laís Azevedo</td><td>fernandesjoao@gmail.com</td><td>31 5523 9337</td></tr><tr><td>57</td><td>Pedro Henrique Pires</td><td>da-pazana-livia@gmail.com</td><td>11 6438 3626</td></tr><tr><td>58</td><td>Cauê Souza</td><td>vitoriacostela@gmail.com</td><td>+55 (021) 4097 4930</td></tr><tr><td>59</td><td>Olivia Viana</td><td>fogacapedro-miguel@gmail.com</td><td>41 3744 3847</td></tr><tr><td>60</td><td>Fernanda Barros</td><td>luiz-fernando09@gmail.com</td><td>+55 (031) 6928-0773</td></tr><tr><td>61</td><td>Nicolas Silveira</td><td>almeidalivia@gmail.com</td><td>41 9532 5954</td></tr><tr><td>62</td><td>Larissa Campos</td><td>xmartins@gmail.com</td><td>+55 71 8000 2285</td></tr><tr><td>63</td><td>Benjamin Carvalho</td><td>eduardafreitas@gmail.com</td><td>+55 (061) 4909-9127</td></tr><tr><td>64</td><td>Diogo Cavalcanti</td><td>cmoreira@gmail.com</td><td>(051) 2128 6900</td></tr><tr><td>65</td><td>Natália Caldeira</td><td>fnunes@gmail.com</td><td>+55 21 7111-4556</td></tr><tr><td>66</td><td>Sra. Laura Dias</td><td>maria-luiza16@gmail.com</td><td>+55 (051) 4270 4453</td></tr><tr><td>67</td><td>Dr. Pedro Miguel da Cunha</td><td>brunaramos@gmail.com</td><td>21 5431 3398</td></tr><tr><td>68</td><td>Júlia Viana</td><td>bjesus@gmail.com</td><td>(061) 6650 4153</td></tr><tr><td>69</td><td>Eduardo Duarte</td><td>aalmeida@gmail.com</td><td>61 1056 3225</td></tr><tr><td>70</td><td>Leonardo da Conceição</td><td>rafaelasouza@gmail.com</td><td>+55 51 4389 6478</td></tr><tr><td>71</td><td>Lucas Gabriel Souza</td><td>mirella41@gmail.com</td><td>+55 81 4703-4973</td></tr><tr><td>72</td><td>Luana Melo</td><td>jmonteiro@gmail.com.net</td><td>+55 11 4582-8079</td></tr><tr><td>73</td><td>Lívia Porto</td><td>lucas-gabriel90@gmail.com</td><td>(084) 6006 8049</td></tr><tr><td>74</td><td>Pietra Cardoso</td><td>pcardoso@gmail.com</td><td>(084) 7988 2194</td></tr><tr><td>75</td><td>Juliana Oliveira</td><td>thales15@gmail.com</td><td>+55 71 3235 0657</td></tr><tr><td>76</td><td>Alana Carvalho</td><td>eloahmonteiro@gmail.com</td><td>81 4331-9567</td></tr><tr><td>77</td><td>Bianca Farias</td><td>pfreitas@gmail.com</td><td>(061) 9089 8659</td></tr><tr><td>78</td><td>Laís Cardoso</td><td>isabel87@gmail.com</td><td>+55 51 8369 0366</td></tr><tr><td>79</td><td>Luiz Fernando Rezende</td><td>souzavalentina@gmail.com</td><td>+55 71 4084 5652</td></tr><tr><td>80</td><td>Milena da Cruz</td><td>naraujo@gmail.com</td><td>+55 21 8106-1838</td></tr><tr><td>81</td><td>Luigi Ramos</td><td>brunalima@gmail.com</td><td>51 7734 2272</td></tr><tr><td>82</td><td>Samuel Nascimento</td><td>da-mataana-vitoria@gmail.com</td><td>0900-286-0502</td></tr><tr><td>83</td><td>Sr. Cauã da Rosa</td><td>caroline32@gmail.com</td><td>+55 41 5317 0926</td></tr><tr><td>84</td><td>Vinicius da Cruz</td><td>cardososabrina@gmail.com</td><td>81 0296-2985</td></tr><tr><td>85</td><td>Dra. Alana Gonçalves</td><td>jgomes@gmail.com</td><td>(081) 8564 8732</td></tr><tr><td>86</td><td>Caio Melo</td><td>melissanovaes@gmail.com</td><td>+55 41 1746 3121</td></tr><tr><td>87</td><td>Srta. Evelyn Aragão</td><td>costelamurilo@gmail.com</td><td>+55 (041) 8783 6971</td></tr><tr><td>88</td><td>Samuel Teixeira</td><td>olivialopes@gmail.com</td><td>51 4778 1642</td></tr><tr><td>89</td><td>Matheus Rocha</td><td>nascimentoguilherme@gmail.com</td><td>41 6983-1899</td></tr><tr><td>90</td><td>Diogo Duarte</td><td>ian64@gmail.com</td><td>(041) 3534 7583</td></tr><tr><td>91</td><td>João Felipe Mendes</td><td>ryan94@gmail.com</td><td>(061) 7467-7063</td></tr><tr><td>92</td><td>Natália Barros</td><td>joaquim76@gmail.com</td><td>0300-383-7003</td></tr><tr><td>93</td><td>Joaquim da Cunha</td><td>mvieira@gmail.com</td><td>+55 71 7392-5194</td></tr><tr><td>94</td><td>Sophia Duarte</td><td>bdias@gmail.com</td><td>+55 (041) 0488 4557</td></tr><tr><td>95</td><td>Sr. Davi Luiz Ramos</td><td>joao-vitormoraes@gmail.com</td><td>51 5535 5941</td></tr><tr><td>96</td><td>Davi Luiz da Costa</td><td>das-neveseduardo@gmail.com</td><td>11 9336-8713</td></tr><tr><td>97</td><td>Sra. Mariana Moraes</td><td>klopes@gmail.com</td><td>+55 (051) 3687 4036</td></tr><tr><td>98</td><td>Ana Clara da Costa</td><td>lcardoso@gmail.com</td><td>+55 (011) 8094 2877</td></tr><tr><td>99</td><td>Eduardo Nogueira</td><td>rochabryan@gmail.com</td><td>(041) 3113 5914</td></tr><tr><td>100</td><td>Isabelly Pinto</td><td>joao-lucas21@gmail.com</td><td>+55 (011) 7369-8203</td></tr><tr><td>101</td><td>André Viana</td><td>vdias@gmail.com</td><td>0900-296-3899</td></tr><tr><td>102</td><td>Ana Julia Oliveira</td><td>costelamaysa@gmail.com</td><td>(061) 8967-8565</td></tr><tr><td>103</td><td>Larissa Almeida</td><td>pereiraevelyn@gmail.com</td><td>+55 31 0149-0575</td></tr><tr><td>104</td><td>Vitor Hugo Rodrigues</td><td>renangoncalves@gmail.com</td><td>0900 475 6832</td></tr><tr><td>105</td><td>Emanuella Barros</td><td>barroslucas-gabriel@gmail.com</td><td>+55 (081) 6928 3628</td></tr><tr><td>106</td><td>Gustavo Araújo</td><td>bcardoso@gmail.com</td><td>61 3336-3989</td></tr><tr><td>107</td><td>Laís Araújo</td><td>xrocha@gmail.com</td><td>(061) 3458-7731</td></tr><tr><td>108</td><td>João Pedro Araújo</td><td>pintomariane@gmail.com</td><td>(031) 3497 9527</td></tr><tr><td>109</td><td>Dr. Levi Souza</td><td>lavinia33@gmail.com</td><td>0300 323 4036</td></tr><tr><td>110</td><td>Joana Melo</td><td>almeidalara@gmail.com</td><td>+55 41 9408-9786</td></tr><tr><td>111</td><td>Mariane Rodrigues</td><td>pietro70@gmail.com</td><td>+55 (031) 9181 7327</td></tr><tr><td>112</td><td>Dr. Matheus da Cruz</td><td>pereiracaua@gmail.com</td><td>0500-713-7842</td></tr><tr><td>113</td><td>Ana Lívia Rezende</td><td>da-conceicaoluana@gmail.com</td><td>+55 (031) 9111 8615</td></tr><tr><td>114</td><td>Luiz Otávio Gomes</td><td>marcelo92@gmail.com</td><td>+55 (084) 1855-0649</td></tr><tr><td>115</td><td>Clara Cardoso</td><td>moreiramilena@gmail.com</td><td>0300 265 4006</td></tr><tr><td>116</td><td>Maria Araújo</td><td>maysacavalcanti@gmail.com</td><td>84 8076-6705</td></tr><tr><td>117</td><td>Dra. Maria Jesus</td><td>marinamonteiro@gmail.com</td><td>0800-688-4291</td></tr><tr><td>118</td><td>Otávio Rocha</td><td>samuel69@gmail.com</td><td>(081) 1636 4417</td></tr><tr><td>119</td><td>Ana Carolina Alves</td><td>vitor-gabrielsouza@gmail.com</td><td>+55 51 1140 4939</td></tr><tr><td>120</td><td>Clarice Santos</td><td>nina56@gmail.com</td><td>(021) 7122-5770</td></tr><tr><td>121</td><td>Vitória Ramos</td><td>emanuella73@gmail.com</td><td>+55 41 0849 9236</td></tr><tr><td>122</td><td>Paulo das Neves</td><td>xgoncalves@gmail.com</td><td>+55 41 0976 1393</td></tr><tr><td>123</td><td>Theo da Rosa</td><td>cardosojoao-gabriel@gmail.com</td><td>51 8187 4789</td></tr><tr><td>124</td><td>Heloísa Azevedo</td><td>sda-conceicao@gmail.com</td><td>(084) 7704-7002</td></tr><tr><td>125</td><td>João Santos</td><td>theo51@gmail.com</td><td>31 5128 9543</td></tr><tr><td>126</td><td>Ryan Lima</td><td>maria-sophiada-costa@gmail.com</td><td>(084) 3916 5292</td></tr><tr><td>127</td><td>Kaique da Paz</td><td>fernandonascimento@gmail.com</td><td>+55 (061) 2880-2323</td></tr><tr><td>128</td><td>Murilo da Rosa</td><td>levimoraes@gmail.com</td><td>0300-700-1247</td></tr><tr><td>129</td><td>Marcela Monteiro</td><td>theo37@gmail.com</td><td>(011) 8189-0760</td></tr><tr><td>130</td><td>Rafaela Fernandes</td><td>zda-rosa@gmail.com</td><td>41 0663 6195</td></tr><tr><td>131</td><td>Vicente Carvalho</td><td>oliveirafelipe@gmail.com</td><td>+55 61 7836-9352</td></tr><tr><td>132</td><td>Dra. Vitória Cardoso</td><td>calebe34@gmail.com</td><td>+55 (081) 3479-6252</td></tr><tr><td>133</td><td>Lorenzo Lopes</td><td>milena63@gmail.com</td><td>+55 31 4643 2215</td></tr><tr><td>134</td><td>Dr. Igor Cardoso</td><td>marcos-vinicius15@gmail.com</td><td>(011) 9447 3530</td></tr><tr><td>135</td><td>Laís Mendes</td><td>aragaocarolina@gmail.com</td><td>+55 41 3825 9136</td></tr><tr><td>136</td><td>Isabella Dias</td><td>mmoreira@gmail.com</td><td>(061) 6048 1864</td></tr><tr><td>137</td><td>Larissa da Paz</td><td>ncaldeira@gmail.com</td><td>31 1282-9511</td></tr><tr><td>138</td><td>Srta. Ana Júlia Ferreira</td><td>levimonteiro@gmail.com</td><td>71 1556-9309</td></tr><tr><td>139</td><td>Valentina Nogueira</td><td>xrocha@gmail.com</td><td>0300-684-6876</td></tr><tr><td>140</td><td>Sr. Lucas Martins</td><td>larasales@gmail.com</td><td>31 3674 2945</td></tr><tr><td>141</td><td>Ana Vitória Castro</td><td>uferreira@gmail.com</td><td>+55 (031) 9276-6074</td></tr><tr><td>142</td><td>Maria Sophia Fernandes</td><td>nicolaslopes@gmail.com</td><td>+55 (041) 2837 0760</td></tr><tr><td>143</td><td>Nathan Cardoso</td><td>manuelasantos@gmail.com</td><td>+55 84 6215-1248</td></tr><tr><td>144</td><td>Caroline Martins</td><td>monteiroemanuelly@gmail.com</td><td>+55 41 9572-3155</td></tr><tr><td>145</td><td>Valentina Melo</td><td>emanuelporto@gmail.com</td><td>81 0872 1793</td></tr><tr><td>146</td><td>Emilly da Rosa</td><td>fariaslaura@gmail.com</td><td>61 6455 7288</td></tr><tr><td>147</td><td>Henrique Rezende</td><td>yasminda-mata@gmail.com</td><td>0800-623-5438</td></tr><tr><td>148</td><td>Leonardo Sales</td><td>ninacarvalho@gmail.com</td><td>+55 81 6008 3856</td></tr><tr><td>149</td><td>Srta. Agatha Fernandes</td><td>peixotoana-laura@gmail.com</td><td>+55 11 5224-5214</td></tr><tr><td>150</td><td>Luiza Lima</td><td>davi-lucasbarbosa@gmail.com</td><td>+55 61 5641-4366</td></tr><tr><td>151</td><td>Marcela Correia</td><td>almeidaelisa@gmail.com</td><td>61 6757-4277</td></tr><tr><td>152</td><td>João Vitor Campos</td><td>diego45@gmail.com</td><td>71 5905 2214</td></tr><tr><td>153</td><td>Daniela Cardoso</td><td>marcela05@gmail.com</td><td>(084) 9908 6394</td></tr><tr><td>154</td><td>Sr. Leonardo Silva</td><td>heitor44@gmail.com</td><td>+55 (061) 6111 8966</td></tr><tr><td>155</td><td>Bryan Castro</td><td>vitor-gabriel72@gmail.com</td><td>+55 51 6308 2661</td></tr><tr><td>156</td><td>Kamilly Fernandes</td><td>danilo64@gmail.com</td><td>(061) 7449 0789</td></tr><tr><td>157</td><td>Pedro Lucas Ramos</td><td>pfogaca@gmail.com</td><td>0800-106-1834</td></tr><tr><td>158</td><td>Alícia Vieira</td><td>osilveira@gmail.com</td><td>(071) 3993 1572</td></tr><tr><td>159</td><td>Srta. Maria Eduarda Caldeira</td><td>thomas85@gmail.com</td><td>+55 (061) 6770-1299</td></tr><tr><td>160</td><td>João Gabriel Aragão</td><td>vianaluiz-otavio@gmail.com</td><td>(084) 9185-3877</td></tr><tr><td>161</td><td>Sra. Letícia Teixeira</td><td>joao-felipecostela@gmail.com</td><td>(011) 5902 8659</td></tr><tr><td>162</td><td>Dra. Sophie Monteiro</td><td>tdias@gmail.com</td><td>0800 522 8980</td></tr><tr><td>163</td><td>Sra. Melissa Cardoso</td><td>martinsgabriela@gmail.com</td><td>84 5164 7564</td></tr><tr><td>164</td><td>Cauê Moreira</td><td>clara47@gmail.com</td><td>(051) 3018 0023</td></tr><tr><td>165</td><td>André das Neves</td><td>diaspietro@gmail.com</td><td>(061) 3148-3663</td></tr><tr><td>166</td><td>Stephany Azevedo</td><td>luiz-henrique29@gmail.com</td><td>0800 424 4530</td></tr><tr><td>167</td><td>Matheus da Cruz</td><td>amonteiro@gmail.com</td><td>+55 84 9997-0267</td></tr><tr><td>168</td><td>Diego Pereira</td><td>franciscofarias@gmail.com</td><td>(081) 4822-5616</td></tr><tr><td>169</td><td>André Nunes</td><td>da-conceicaosophie@gmail.com</td><td>0800-955-3700</td></tr><tr><td>170</td><td>Maria Clara da Rosa</td><td>muriloaragao@gmail.com</td><td>+55 11 9115-9800</td></tr><tr><td>171</td><td>Maria Vitória da Cruz</td><td>rebeca08@gmail.com</td><td>+55 (061) 0381 2937</td></tr><tr><td>172</td><td>Diego Santos</td><td>lucca90@gmail.com</td><td>0800 366 0651</td></tr><tr><td>173</td><td>Breno Fernandes</td><td>marinasales@gmail.com</td><td>(071) 0428 5649</td></tr><tr><td>174</td><td>Alexia Lopes</td><td>caiorodrigues@gmail.com</td><td>+55 81 2852 6705</td></tr><tr><td>175</td><td>Daniel Porto</td><td>ana-julia94@gmail.com</td><td>+55 (031) 6243 8076</td></tr><tr><td>176</td><td>Juan das Neves</td><td>sarah52@gmail.com</td><td>(081) 2275 5389</td></tr><tr><td>177</td><td>Luiz Miguel Oliveira</td><td>wmoraes@gmail.com</td><td>+55 (011) 9041-2863</td></tr><tr><td>178</td><td>Alana da Rocha</td><td>marcelo79@gmail.com</td><td>61 2753-6700</td></tr><tr><td>179</td><td>Manuela Monteiro</td><td>da-rochadavi@gmail.com</td><td>+55 84 5802-3401</td></tr><tr><td>180</td><td>Dra. Maitê Freitas</td><td>nina14@gmail.com</td><td>+55 61 9945-1181</td></tr><tr><td>181</td><td>Ana Júlia Rocha</td><td>bcarvalho@gmail.com</td><td>0500 276 9791</td></tr><tr><td>182</td><td>Dra. Joana Nogueira</td><td>barrosjoao-miguel@gmail.com</td><td>84 8138-4377</td></tr><tr><td>183</td><td>Diego Gomes</td><td>ifernandes@gmail.com</td><td>71 5942 4773</td></tr><tr><td>184</td><td>Isaac Correia</td><td>da-cruznicole@gmail.com</td><td>+55 (021) 3043 4778</td></tr><tr><td>185</td><td>Laís Rezende</td><td>ramoslivia@gmail.com</td><td>+55 (081) 2178 0335</td></tr><tr><td>186</td><td>Letícia Campos</td><td>yago55@gmail.com</td><td>+55 81 4115 5836</td></tr><tr><td>187</td><td>Sr. Benjamin Pires</td><td>barrosdavi-luiz@gmail.com</td><td>+55 (071) 7723 6844</td></tr><tr><td>188</td><td>Enrico da Rosa</td><td>emanuel23@gmail.com</td><td>+55 (081) 7933-8009</td></tr><tr><td>189</td><td>Maria Fernanda Ribeiro</td><td>zgomes@gmail.com</td><td>+55 (031) 3014-4422</td></tr><tr><td>190</td><td>Elisa Castro</td><td>barrosmiguel@gmail.com</td><td>+55 (084) 1897-2777</td></tr><tr><td>191</td><td>Cauã Dias</td><td>raquelsouza@gmail.com</td><td>+55 (071) 0740 5744</td></tr><tr><td>192</td><td>Carlos Eduardo Mendes</td><td>emanuella96@gmail.com</td><td>+55 (071) 5870-7735</td></tr><tr><td>193</td><td>Diego Gomes</td><td>anthony66@gmail.com</td><td>+55 51 2729 3368</td></tr><tr><td>194</td><td>Fernanda Alves</td><td>evieira@gmail.com</td><td>+55 31 5709 5377</td></tr><tr><td>195</td><td>Bernardo Mendes</td><td>vitorferreira@gmail.com</td><td>+55 (011) 2611-4183</td></tr><tr><td>196</td><td>Davi Luiz da Mata</td><td>fernandafogaca@gmail.com</td><td>+55 (071) 6247 5781</td></tr><tr><td>197</td><td>Carlos Eduardo Peixoto</td><td>sofiaribeiro@gmail.com</td><td>+55 11 5880-0807</td></tr><tr><td>198</td><td>Sra. Isabella da Cunha</td><td>peixotoyuri@gmail.com</td><td>31 1648-6424</td></tr><tr><td>199</td><td>Sr. Levi Nunes</td><td>jda-mota@gmail.com</td><td>+55 11 3602-9543</td></tr><tr><td>200</td><td>Manuela Silveira</td><td>lucca28@gmail.com</td><td>+55 (061) 6738 0436</td></tr></tbody></table></div>"
      ]
     },
     "metadata": {
      "application/vnd.databricks.v1+output": {
       "addedWidgets": {},
       "aggData": [],
       "aggError": "",
       "aggOverflow": false,
       "aggSchema": [],
       "aggSeriesLimitReached": false,
       "aggType": "",
       "arguments": {},
       "columnCustomDisplayInfos": {},
       "data": [
        [
         1,
         "Marcos Vinicius Pires",
         "moreirarafael@gmail.com",
         "+55 (051) 1476-7634"
        ],
        [
         2,
         "Srta. Ana Laura Novaes",
         "aliciapires@gmail.com",
         "+55 71 2686-2429"
        ],
        [
         3,
         "Sr. Francisco Silveira",
         "pteixeira@gmail.com",
         "31 6691-7704"
        ],
        [
         4,
         "Elisa da Rocha",
         "enascimento@gmail.com",
         "11 1007-1988"
        ],
        [
         5,
         "Sr. Kevin da Luz",
         "moreirajoao-felipe@gmail.com",
         "0500-152-8310"
        ],
        [
         6,
         "Gabriela Cunha",
         "alexandre58@gmail.com",
         "0800 925 0073"
        ],
        [
         7,
         "Lucca Aragão",
         "ana-carolina81@gmail.com",
         "+55 51 3202 5452"
        ],
        [
         8,
         "Dr. Vinicius Costela",
         "maysaporto@gmail.com",
         "0800 264 7109"
        ],
        [
         9,
         "Cauê Teixeira",
         "marcelocostela@gmail.com",
         "84 3515 0712"
        ],
        [
         10,
         "Vitor Hugo Barbosa",
         "xnunes@gmail.com",
         "(041) 1168 4578"
        ],
        [
         11,
         "Daniela das Neves",
         "pauloda-rocha@gmail.com",
         "11 8447 5932"
        ],
        [
         12,
         "Srta. Alexia Barbosa",
         "maria-luiza70@gmail.com",
         "+55 (011) 1491 8733"
        ],
        [
         13,
         "Clara Duarte",
         "zcastro@gmail.com",
         "+55 (011) 7970 2820"
        ],
        [
         14,
         "Isadora Farias",
         "oda-conceicao@gmail.com",
         "+55 (071) 3621-2422"
        ],
        [
         15,
         "Yago Silva",
         "eduardogoncalves@gmail.com",
         "+55 11 3961 4788"
        ],
        [
         16,
         "Sra. Joana Campos",
         "icaldeira@gmail.com",
         "+55 51 1033 2053"
        ],
        [
         17,
         "Theo Vieira",
         "uteixeira@gmail.com",
         "+55 21 9451 6609"
        ],
        [
         18,
         "Sr. Vitor Gabriel da Mata",
         "marianelopes@gmail.com",
         "+55 (071) 1609-1632"
        ],
        [
         19,
         "Juan Freitas",
         "dda-mota@gmail.com",
         "+55 (081) 3267-8941"
        ],
        [
         20,
         "Stephany Correia",
         "aragaomaria-eduarda@gmail.com",
         "61 1192 3023"
        ],
        [
         21,
         "Manuela Monteiro",
         "nogueiralivia@gmail.com",
         "+55 (084) 2093 8030"
        ],
        [
         22,
         "Stephany Lima",
         "rcardoso@gmail.com",
         "(011) 6355 4304"
        ],
        [
         23,
         "Vinicius Oliveira",
         "calebecavalcanti@gmail.com",
         "(084) 8565-9643"
        ],
        [
         24,
         "Maysa Farias",
         "rodriguessabrina@gmail.com",
         "71 5335-4258"
        ],
        [
         25,
         "André da Mota",
         "bmoraes@gmail.com",
         "21 0253 1149"
        ],
        [
         26,
         "Vitor Gabriel Teixeira",
         "mendesana-beatriz@gmail.com",
         "+55 41 0985 8614"
        ],
        [
         27,
         "Giovanna Ferreira",
         "enricocorreia@gmail.com",
         "+55 (061) 5577 8085"
        ],
        [
         28,
         "Dr. Rafael Teixeira",
         "jmelo@gmail.com",
         "(081) 7403 1112"
        ],
        [
         29,
         "Alexia Araújo",
         "eloahnogueira@gmail.com",
         "+55 (031) 8191 4994"
        ],
        [
         30,
         "Stephany Oliveira",
         "barrosmaria-fernanda@gmail.com",
         "+55 11 3473 7452"
        ],
        [
         31,
         "Leandro Gonçalves",
         "camilada-rocha@gmail.com",
         "(041) 8751 0192"
        ],
        [
         32,
         "Pietra Azevedo",
         "alvescalebe@gmail.com",
         "+55 21 0566-2634"
        ],
        [
         33,
         "Cauã Fernandes",
         "diogojesus@gmail.com",
         "+55 51 7802 0695"
        ],
        [
         34,
         "Dr. Rodrigo Pereira",
         "ana-julia10@gmail.com",
         "+55 (021) 8917-1989"
        ],
        [
         35,
         "Nicolas Alves",
         "luiz-gustavo59@gmail.com",
         "+55 (021) 9891 6736"
        ],
        [
         36,
         "Arthur Teixeira",
         "clarice18@gmail.com",
         "+55 (084) 8921 0905"
        ],
        [
         37,
         "Dr. Caio Alves",
         "gustavo16@gmail.com",
         "+55 11 6362-9209"
        ],
        [
         38,
         "Emanuella Peixoto",
         "xcostela@gmail.com",
         "(084) 5163 1570"
        ],
        [
         39,
         "Luiz Fernando Moraes",
         "jcorreia@gmail.com",
         "0900 539 8131"
        ],
        [
         40,
         "Dr. Pedro Henrique Lima",
         "crocha@gmail.com",
         "0900-639-9941"
        ],
        [
         41,
         "Laura Nunes",
         "mouraenzo-gabriel@gmail.com",
         "+55 (051) 2456-0688"
        ],
        [
         42,
         "Rodrigo Aragão",
         "luiz-miguelgomes@gmail.com",
         "+55 31 7274-3856"
        ],
        [
         43,
         "Danilo Costela",
         "ada-rocha@gmail.com",
         "(011) 0634 4629"
        ],
        [
         44,
         "João Vitor Viana",
         "juliamelo@gmail.com",
         "81 0696-5852"
        ],
        [
         45,
         "Marcos Vinicius da Luz",
         "wpires@gmail.com",
         "+55 (021) 3422 8667"
        ],
        [
         46,
         "Isabel Dias",
         "ana-julia28@gmail.com",
         "+55 31 1730 3081"
        ],
        [
         47,
         "Dr. Luigi Gonçalves",
         "lrocha@gmail.com",
         "(051) 4136-9767"
        ],
        [
         48,
         "Leonardo Martins",
         "dmelo@gmail.com",
         "+55 41 5084-0399"
        ],
        [
         49,
         "Lívia Monteiro",
         "felipe31@gmail.com",
         "+55 51 7858 3681"
        ],
        [
         50,
         "Augusto Costela",
         "clariceda-cruz@gmail.com",
         "+55 (071) 8763 6001"
        ],
        [
         51,
         "Joana Carvalho",
         "ralmeida@gmail.com",
         "41 5265 6840"
        ],
        [
         52,
         "Gustavo Dias",
         "diasgiovanna@gmail.com",
         "71 7393-3162"
        ],
        [
         53,
         "Caroline Martins",
         "raquellima@gmail.com",
         "+55 (081) 1516 6202"
        ],
        [
         54,
         "Natália Aragão",
         "ana-livia49@gmail.com",
         "0500 188 6965"
        ],
        [
         55,
         "Davi Lucas Ferreira",
         "alvesjoao-gabriel@gmail.com",
         "0500 807 9266"
        ],
        [
         56,
         "Laís Azevedo",
         "fernandesjoao@gmail.com",
         "31 5523 9337"
        ],
        [
         57,
         "Pedro Henrique Pires",
         "da-pazana-livia@gmail.com",
         "11 6438 3626"
        ],
        [
         58,
         "Cauê Souza",
         "vitoriacostela@gmail.com",
         "+55 (021) 4097 4930"
        ],
        [
         59,
         "Olivia Viana",
         "fogacapedro-miguel@gmail.com",
         "41 3744 3847"
        ],
        [
         60,
         "Fernanda Barros",
         "luiz-fernando09@gmail.com",
         "+55 (031) 6928-0773"
        ],
        [
         61,
         "Nicolas Silveira",
         "almeidalivia@gmail.com",
         "41 9532 5954"
        ],
        [
         62,
         "Larissa Campos",
         "xmartins@gmail.com",
         "+55 71 8000 2285"
        ],
        [
         63,
         "Benjamin Carvalho",
         "eduardafreitas@gmail.com",
         "+55 (061) 4909-9127"
        ],
        [
         64,
         "Diogo Cavalcanti",
         "cmoreira@gmail.com",
         "(051) 2128 6900"
        ],
        [
         65,
         "Natália Caldeira",
         "fnunes@gmail.com",
         "+55 21 7111-4556"
        ],
        [
         66,
         "Sra. Laura Dias",
         "maria-luiza16@gmail.com",
         "+55 (051) 4270 4453"
        ],
        [
         67,
         "Dr. Pedro Miguel da Cunha",
         "brunaramos@gmail.com",
         "21 5431 3398"
        ],
        [
         68,
         "Júlia Viana",
         "bjesus@gmail.com",
         "(061) 6650 4153"
        ],
        [
         69,
         "Eduardo Duarte",
         "aalmeida@gmail.com",
         "61 1056 3225"
        ],
        [
         70,
         "Leonardo da Conceição",
         "rafaelasouza@gmail.com",
         "+55 51 4389 6478"
        ],
        [
         71,
         "Lucas Gabriel Souza",
         "mirella41@gmail.com",
         "+55 81 4703-4973"
        ],
        [
         72,
         "Luana Melo",
         "jmonteiro@gmail.com.net",
         "+55 11 4582-8079"
        ],
        [
         73,
         "Lívia Porto",
         "lucas-gabriel90@gmail.com",
         "(084) 6006 8049"
        ],
        [
         74,
         "Pietra Cardoso",
         "pcardoso@gmail.com",
         "(084) 7988 2194"
        ],
        [
         75,
         "Juliana Oliveira",
         "thales15@gmail.com",
         "+55 71 3235 0657"
        ],
        [
         76,
         "Alana Carvalho",
         "eloahmonteiro@gmail.com",
         "81 4331-9567"
        ],
        [
         77,
         "Bianca Farias",
         "pfreitas@gmail.com",
         "(061) 9089 8659"
        ],
        [
         78,
         "Laís Cardoso",
         "isabel87@gmail.com",
         "+55 51 8369 0366"
        ],
        [
         79,
         "Luiz Fernando Rezende",
         "souzavalentina@gmail.com",
         "+55 71 4084 5652"
        ],
        [
         80,
         "Milena da Cruz",
         "naraujo@gmail.com",
         "+55 21 8106-1838"
        ],
        [
         81,
         "Luigi Ramos",
         "brunalima@gmail.com",
         "51 7734 2272"
        ],
        [
         82,
         "Samuel Nascimento",
         "da-mataana-vitoria@gmail.com",
         "0900-286-0502"
        ],
        [
         83,
         "Sr. Cauã da Rosa",
         "caroline32@gmail.com",
         "+55 41 5317 0926"
        ],
        [
         84,
         "Vinicius da Cruz",
         "cardososabrina@gmail.com",
         "81 0296-2985"
        ],
        [
         85,
         "Dra. Alana Gonçalves",
         "jgomes@gmail.com",
         "(081) 8564 8732"
        ],
        [
         86,
         "Caio Melo",
         "melissanovaes@gmail.com",
         "+55 41 1746 3121"
        ],
        [
         87,
         "Srta. Evelyn Aragão",
         "costelamurilo@gmail.com",
         "+55 (041) 8783 6971"
        ],
        [
         88,
         "Samuel Teixeira",
         "olivialopes@gmail.com",
         "51 4778 1642"
        ],
        [
         89,
         "Matheus Rocha",
         "nascimentoguilherme@gmail.com",
         "41 6983-1899"
        ],
        [
         90,
         "Diogo Duarte",
         "ian64@gmail.com",
         "(041) 3534 7583"
        ],
        [
         91,
         "João Felipe Mendes",
         "ryan94@gmail.com",
         "(061) 7467-7063"
        ],
        [
         92,
         "Natália Barros",
         "joaquim76@gmail.com",
         "0300-383-7003"
        ],
        [
         93,
         "Joaquim da Cunha",
         "mvieira@gmail.com",
         "+55 71 7392-5194"
        ],
        [
         94,
         "Sophia Duarte",
         "bdias@gmail.com",
         "+55 (041) 0488 4557"
        ],
        [
         95,
         "Sr. Davi Luiz Ramos",
         "joao-vitormoraes@gmail.com",
         "51 5535 5941"
        ],
        [
         96,
         "Davi Luiz da Costa",
         "das-neveseduardo@gmail.com",
         "11 9336-8713"
        ],
        [
         97,
         "Sra. Mariana Moraes",
         "klopes@gmail.com",
         "+55 (051) 3687 4036"
        ],
        [
         98,
         "Ana Clara da Costa",
         "lcardoso@gmail.com",
         "+55 (011) 8094 2877"
        ],
        [
         99,
         "Eduardo Nogueira",
         "rochabryan@gmail.com",
         "(041) 3113 5914"
        ],
        [
         100,
         "Isabelly Pinto",
         "joao-lucas21@gmail.com",
         "+55 (011) 7369-8203"
        ],
        [
         101,
         "André Viana",
         "vdias@gmail.com",
         "0900-296-3899"
        ],
        [
         102,
         "Ana Julia Oliveira",
         "costelamaysa@gmail.com",
         "(061) 8967-8565"
        ],
        [
         103,
         "Larissa Almeida",
         "pereiraevelyn@gmail.com",
         "+55 31 0149-0575"
        ],
        [
         104,
         "Vitor Hugo Rodrigues",
         "renangoncalves@gmail.com",
         "0900 475 6832"
        ],
        [
         105,
         "Emanuella Barros",
         "barroslucas-gabriel@gmail.com",
         "+55 (081) 6928 3628"
        ],
        [
         106,
         "Gustavo Araújo",
         "bcardoso@gmail.com",
         "61 3336-3989"
        ],
        [
         107,
         "Laís Araújo",
         "xrocha@gmail.com",
         "(061) 3458-7731"
        ],
        [
         108,
         "João Pedro Araújo",
         "pintomariane@gmail.com",
         "(031) 3497 9527"
        ],
        [
         109,
         "Dr. Levi Souza",
         "lavinia33@gmail.com",
         "0300 323 4036"
        ],
        [
         110,
         "Joana Melo",
         "almeidalara@gmail.com",
         "+55 41 9408-9786"
        ],
        [
         111,
         "Mariane Rodrigues",
         "pietro70@gmail.com",
         "+55 (031) 9181 7327"
        ],
        [
         112,
         "Dr. Matheus da Cruz",
         "pereiracaua@gmail.com",
         "0500-713-7842"
        ],
        [
         113,
         "Ana Lívia Rezende",
         "da-conceicaoluana@gmail.com",
         "+55 (031) 9111 8615"
        ],
        [
         114,
         "Luiz Otávio Gomes",
         "marcelo92@gmail.com",
         "+55 (084) 1855-0649"
        ],
        [
         115,
         "Clara Cardoso",
         "moreiramilena@gmail.com",
         "0300 265 4006"
        ],
        [
         116,
         "Maria Araújo",
         "maysacavalcanti@gmail.com",
         "84 8076-6705"
        ],
        [
         117,
         "Dra. Maria Jesus",
         "marinamonteiro@gmail.com",
         "0800-688-4291"
        ],
        [
         118,
         "Otávio Rocha",
         "samuel69@gmail.com",
         "(081) 1636 4417"
        ],
        [
         119,
         "Ana Carolina Alves",
         "vitor-gabrielsouza@gmail.com",
         "+55 51 1140 4939"
        ],
        [
         120,
         "Clarice Santos",
         "nina56@gmail.com",
         "(021) 7122-5770"
        ],
        [
         121,
         "Vitória Ramos",
         "emanuella73@gmail.com",
         "+55 41 0849 9236"
        ],
        [
         122,
         "Paulo das Neves",
         "xgoncalves@gmail.com",
         "+55 41 0976 1393"
        ],
        [
         123,
         "Theo da Rosa",
         "cardosojoao-gabriel@gmail.com",
         "51 8187 4789"
        ],
        [
         124,
         "Heloísa Azevedo",
         "sda-conceicao@gmail.com",
         "(084) 7704-7002"
        ],
        [
         125,
         "João Santos",
         "theo51@gmail.com",
         "31 5128 9543"
        ],
        [
         126,
         "Ryan Lima",
         "maria-sophiada-costa@gmail.com",
         "(084) 3916 5292"
        ],
        [
         127,
         "Kaique da Paz",
         "fernandonascimento@gmail.com",
         "+55 (061) 2880-2323"
        ],
        [
         128,
         "Murilo da Rosa",
         "levimoraes@gmail.com",
         "0300-700-1247"
        ],
        [
         129,
         "Marcela Monteiro",
         "theo37@gmail.com",
         "(011) 8189-0760"
        ],
        [
         130,
         "Rafaela Fernandes",
         "zda-rosa@gmail.com",
         "41 0663 6195"
        ],
        [
         131,
         "Vicente Carvalho",
         "oliveirafelipe@gmail.com",
         "+55 61 7836-9352"
        ],
        [
         132,
         "Dra. Vitória Cardoso",
         "calebe34@gmail.com",
         "+55 (081) 3479-6252"
        ],
        [
         133,
         "Lorenzo Lopes",
         "milena63@gmail.com",
         "+55 31 4643 2215"
        ],
        [
         134,
         "Dr. Igor Cardoso",
         "marcos-vinicius15@gmail.com",
         "(011) 9447 3530"
        ],
        [
         135,
         "Laís Mendes",
         "aragaocarolina@gmail.com",
         "+55 41 3825 9136"
        ],
        [
         136,
         "Isabella Dias",
         "mmoreira@gmail.com",
         "(061) 6048 1864"
        ],
        [
         137,
         "Larissa da Paz",
         "ncaldeira@gmail.com",
         "31 1282-9511"
        ],
        [
         138,
         "Srta. Ana Júlia Ferreira",
         "levimonteiro@gmail.com",
         "71 1556-9309"
        ],
        [
         139,
         "Valentina Nogueira",
         "xrocha@gmail.com",
         "0300-684-6876"
        ],
        [
         140,
         "Sr. Lucas Martins",
         "larasales@gmail.com",
         "31 3674 2945"
        ],
        [
         141,
         "Ana Vitória Castro",
         "uferreira@gmail.com",
         "+55 (031) 9276-6074"
        ],
        [
         142,
         "Maria Sophia Fernandes",
         "nicolaslopes@gmail.com",
         "+55 (041) 2837 0760"
        ],
        [
         143,
         "Nathan Cardoso",
         "manuelasantos@gmail.com",
         "+55 84 6215-1248"
        ],
        [
         144,
         "Caroline Martins",
         "monteiroemanuelly@gmail.com",
         "+55 41 9572-3155"
        ],
        [
         145,
         "Valentina Melo",
         "emanuelporto@gmail.com",
         "81 0872 1793"
        ],
        [
         146,
         "Emilly da Rosa",
         "fariaslaura@gmail.com",
         "61 6455 7288"
        ],
        [
         147,
         "Henrique Rezende",
         "yasminda-mata@gmail.com",
         "0800-623-5438"
        ],
        [
         148,
         "Leonardo Sales",
         "ninacarvalho@gmail.com",
         "+55 81 6008 3856"
        ],
        [
         149,
         "Srta. Agatha Fernandes",
         "peixotoana-laura@gmail.com",
         "+55 11 5224-5214"
        ],
        [
         150,
         "Luiza Lima",
         "davi-lucasbarbosa@gmail.com",
         "+55 61 5641-4366"
        ],
        [
         151,
         "Marcela Correia",
         "almeidaelisa@gmail.com",
         "61 6757-4277"
        ],
        [
         152,
         "João Vitor Campos",
         "diego45@gmail.com",
         "71 5905 2214"
        ],
        [
         153,
         "Daniela Cardoso",
         "marcela05@gmail.com",
         "(084) 9908 6394"
        ],
        [
         154,
         "Sr. Leonardo Silva",
         "heitor44@gmail.com",
         "+55 (061) 6111 8966"
        ],
        [
         155,
         "Bryan Castro",
         "vitor-gabriel72@gmail.com",
         "+55 51 6308 2661"
        ],
        [
         156,
         "Kamilly Fernandes",
         "danilo64@gmail.com",
         "(061) 7449 0789"
        ],
        [
         157,
         "Pedro Lucas Ramos",
         "pfogaca@gmail.com",
         "0800-106-1834"
        ],
        [
         158,
         "Alícia Vieira",
         "osilveira@gmail.com",
         "(071) 3993 1572"
        ],
        [
         159,
         "Srta. Maria Eduarda Caldeira",
         "thomas85@gmail.com",
         "+55 (061) 6770-1299"
        ],
        [
         160,
         "João Gabriel Aragão",
         "vianaluiz-otavio@gmail.com",
         "(084) 9185-3877"
        ],
        [
         161,
         "Sra. Letícia Teixeira",
         "joao-felipecostela@gmail.com",
         "(011) 5902 8659"
        ],
        [
         162,
         "Dra. Sophie Monteiro",
         "tdias@gmail.com",
         "0800 522 8980"
        ],
        [
         163,
         "Sra. Melissa Cardoso",
         "martinsgabriela@gmail.com",
         "84 5164 7564"
        ],
        [
         164,
         "Cauê Moreira",
         "clara47@gmail.com",
         "(051) 3018 0023"
        ],
        [
         165,
         "André das Neves",
         "diaspietro@gmail.com",
         "(061) 3148-3663"
        ],
        [
         166,
         "Stephany Azevedo",
         "luiz-henrique29@gmail.com",
         "0800 424 4530"
        ],
        [
         167,
         "Matheus da Cruz",
         "amonteiro@gmail.com",
         "+55 84 9997-0267"
        ],
        [
         168,
         "Diego Pereira",
         "franciscofarias@gmail.com",
         "(081) 4822-5616"
        ],
        [
         169,
         "André Nunes",
         "da-conceicaosophie@gmail.com",
         "0800-955-3700"
        ],
        [
         170,
         "Maria Clara da Rosa",
         "muriloaragao@gmail.com",
         "+55 11 9115-9800"
        ],
        [
         171,
         "Maria Vitória da Cruz",
         "rebeca08@gmail.com",
         "+55 (061) 0381 2937"
        ],
        [
         172,
         "Diego Santos",
         "lucca90@gmail.com",
         "0800 366 0651"
        ],
        [
         173,
         "Breno Fernandes",
         "marinasales@gmail.com",
         "(071) 0428 5649"
        ],
        [
         174,
         "Alexia Lopes",
         "caiorodrigues@gmail.com",
         "+55 81 2852 6705"
        ],
        [
         175,
         "Daniel Porto",
         "ana-julia94@gmail.com",
         "+55 (031) 6243 8076"
        ],
        [
         176,
         "Juan das Neves",
         "sarah52@gmail.com",
         "(081) 2275 5389"
        ],
        [
         177,
         "Luiz Miguel Oliveira",
         "wmoraes@gmail.com",
         "+55 (011) 9041-2863"
        ],
        [
         178,
         "Alana da Rocha",
         "marcelo79@gmail.com",
         "61 2753-6700"
        ],
        [
         179,
         "Manuela Monteiro",
         "da-rochadavi@gmail.com",
         "+55 84 5802-3401"
        ],
        [
         180,
         "Dra. Maitê Freitas",
         "nina14@gmail.com",
         "+55 61 9945-1181"
        ],
        [
         181,
         "Ana Júlia Rocha",
         "bcarvalho@gmail.com",
         "0500 276 9791"
        ],
        [
         182,
         "Dra. Joana Nogueira",
         "barrosjoao-miguel@gmail.com",
         "84 8138-4377"
        ],
        [
         183,
         "Diego Gomes",
         "ifernandes@gmail.com",
         "71 5942 4773"
        ],
        [
         184,
         "Isaac Correia",
         "da-cruznicole@gmail.com",
         "+55 (021) 3043 4778"
        ],
        [
         185,
         "Laís Rezende",
         "ramoslivia@gmail.com",
         "+55 (081) 2178 0335"
        ],
        [
         186,
         "Letícia Campos",
         "yago55@gmail.com",
         "+55 81 4115 5836"
        ],
        [
         187,
         "Sr. Benjamin Pires",
         "barrosdavi-luiz@gmail.com",
         "+55 (071) 7723 6844"
        ],
        [
         188,
         "Enrico da Rosa",
         "emanuel23@gmail.com",
         "+55 (081) 7933-8009"
        ],
        [
         189,
         "Maria Fernanda Ribeiro",
         "zgomes@gmail.com",
         "+55 (031) 3014-4422"
        ],
        [
         190,
         "Elisa Castro",
         "barrosmiguel@gmail.com",
         "+55 (084) 1897-2777"
        ],
        [
         191,
         "Cauã Dias",
         "raquelsouza@gmail.com",
         "+55 (071) 0740 5744"
        ],
        [
         192,
         "Carlos Eduardo Mendes",
         "emanuella96@gmail.com",
         "+55 (071) 5870-7735"
        ],
        [
         193,
         "Diego Gomes",
         "anthony66@gmail.com",
         "+55 51 2729 3368"
        ],
        [
         194,
         "Fernanda Alves",
         "evieira@gmail.com",
         "+55 31 5709 5377"
        ],
        [
         195,
         "Bernardo Mendes",
         "vitorferreira@gmail.com",
         "+55 (011) 2611-4183"
        ],
        [
         196,
         "Davi Luiz da Mata",
         "fernandafogaca@gmail.com",
         "+55 (071) 6247 5781"
        ],
        [
         197,
         "Carlos Eduardo Peixoto",
         "sofiaribeiro@gmail.com",
         "+55 11 5880-0807"
        ],
        [
         198,
         "Sra. Isabella da Cunha",
         "peixotoyuri@gmail.com",
         "31 1648-6424"
        ],
        [
         199,
         "Sr. Levi Nunes",
         "jda-mota@gmail.com",
         "+55 11 3602-9543"
        ],
        [
         200,
         "Manuela Silveira",
         "lucca28@gmail.com",
         "+55 (061) 6738 0436"
        ]
       ],
       "datasetInfos": [],
       "dbfsResultPath": null,
       "isJsonSchema": true,
       "metadata": {},
       "overflow": false,
       "plotOptions": {
        "customPlotOptions": {},
        "displayType": "table",
        "pivotAggregation": null,
        "pivotColumns": null,
        "xColumns": null,
        "yColumns": null
       },
       "removedWidgets": [],
       "schema": [
        {
         "metadata": "{}",
         "name": "ID Cliente",
         "type": "\"integer\""
        },
        {
         "metadata": "{}",
         "name": "Nome",
         "type": "\"string\""
        },
        {
         "metadata": "{}",
         "name": "Email",
         "type": "\"string\""
        },
        {
         "metadata": "{}",
         "name": "Telefone",
         "type": "\"string\""
        }
       ],
       "type": "table"
      }
     },
     "output_type": "display_data"
    }
   ],
   "source": [
    "df = spark.read.csv(folder_path, header=True, inferSchema=True)\n",
    "df.display()\n"
   ]
  },
  {
   "cell_type": "code",
   "execution_count": 0,
   "metadata": {
    "application/vnd.databricks.v1+cell": {
     "cellMetadata": {
      "byteLimit": 2048000,
      "rowLimit": 10000
     },
     "inputWidgets": {},
     "nuid": "9b0ee358-0ed5-4635-9018-61a5862ba711",
     "showTitle": false,
     "title": ""
    }
   },
   "outputs": [
    {
     "output_type": "stream",
     "name": "stdout",
     "output_type": "stream",
     "text": [
      "root\n |-- id_cliente: integer (nullable = true)\n |-- nome: string (nullable = true)\n |-- email: string (nullable = true)\n |-- telefone: string (nullable = true)\n\n"
     ]
    }
   ],
   "source": [
    "def normalize_column_name(name):\n",
    "    # Normalizar para a forma NFD e codificar para ASCII, ignorando erros de codificação\n",
    "    name = unicodedata.normalize('NFD', name).encode('ascii', 'ignore').decode('utf-8')\n",
    "    # Substituir \"ç\" por \"c\"\n",
    "    name = name.replace('ç', 'c')\n",
    "    # Substituir espaços por underscores\n",
    "    name = name.replace(' ', '_')\n",
    "    # Converter para minúsculas\n",
    "    name = name.lower()\n",
    "    return name\n",
    "\n",
    "# Supondo que df seja o seu DataFrame PySpark\n",
    "# Aplicar a normalização nos nomes das colunas\n",
    "df = df.select([col(c).alias(normalize_column_name(c)) for c in df.columns])\n",
    "\n",
    "# Exibir o esquema do DataFrame para verificar os nomes das colunas\n",
    "df.printSchema()"
   ]
  },
  {
   "cell_type": "code",
   "execution_count": 0,
   "metadata": {
    "application/vnd.databricks.v1+cell": {
     "cellMetadata": {
      "byteLimit": 2048000,
      "rowLimit": 10000
     },
     "inputWidgets": {},
     "nuid": "c967aab1-6085-464e-9d5b-bfd9fe76b965",
     "showTitle": false,
     "title": ""
    }
   },
   "outputs": [
    {
     "output_type": "stream",
     "name": "stdout",
     "output_type": "stream",
     "text": [
      "root\n |-- id_cliente: integer (nullable = true)\n |-- nome: string (nullable = true)\n |-- email: string (nullable = true)\n |-- telefone: string (nullable = true)\n |-- data_carga: date (nullable = false)\n |-- hora_carga: string (nullable = false)\n\n"
     ]
    }
   ],
   "source": [
    "# Adicionar coluna data_carga com a data atual\n",
    "df = df.withColumn(\"data_carga\", current_date())\n",
    "# Adicionar coluna hora_carga com o horário atual formatado como HH:mm:ss\n",
    "df = df.withColumn(\"hora_carga\", date_format(current_timestamp(), \"HH:mm:ss\"))\n",
    "# Exibir o esquema do DataFrame para verificar as novas colunas\n",
    "df.printSchema()"
   ]
  },
  {
   "cell_type": "code",
   "execution_count": 0,
   "metadata": {
    "application/vnd.databricks.v1+cell": {
     "cellMetadata": {
      "byteLimit": 2048000,
      "implicitDf": true,
      "rowLimit": 10000
     },
     "inputWidgets": {},
     "nuid": "0515fcd7-7e1a-4c15-86cd-45b580853b84",
     "showTitle": false,
     "title": ""
    }
   },
   "outputs": [],
   "source": [
    "df.write.format('delta').mode('overwrite').option('overwriteSchema',True).saveAsTable(f'{database_name}.{table}')"
   ]
  },
  {
   "cell_type": "code",
   "execution_count": 0,
   "metadata": {
    "application/vnd.databricks.v1+cell": {
     "cellMetadata": {
      "byteLimit": 2048000,
      "implicitDf": true,
      "rowLimit": 10000
     },
     "inputWidgets": {},
     "nuid": "3230231b-9e5b-4c36-88b8-459e3c49861c",
     "showTitle": false,
     "title": ""
    }
   },
   "outputs": [
    {
     "output_type": "display_data",
     "data": {
      "text/html": [
       "<style scoped>\n",
       "  .table-result-container {\n",
       "    max-height: 300px;\n",
       "    overflow: auto;\n",
       "  }\n",
       "  table, th, td {\n",
       "    border: 1px solid black;\n",
       "    border-collapse: collapse;\n",
       "  }\n",
       "  th, td {\n",
       "    padding: 5px;\n",
       "  }\n",
       "  th {\n",
       "    text-align: left;\n",
       "  }\n",
       "</style><div class='table-result-container'><table class='table-result'><thead style='background-color: white'><tr><th>id_cliente</th><th>nome</th><th>email</th><th>telefone</th><th>data_carga</th><th>hora_carga</th></tr></thead><tbody><tr><td>1</td><td>Marcos Vinicius Pires</td><td>moreirarafael@gmail.com</td><td>+55 (051) 1476-7634</td><td>2024-02-07</td><td>21:01:24</td></tr><tr><td>2</td><td>Srta. Ana Laura Novaes</td><td>aliciapires@gmail.com</td><td>+55 71 2686-2429</td><td>2024-02-07</td><td>21:01:24</td></tr><tr><td>3</td><td>Sr. Francisco Silveira</td><td>pteixeira@gmail.com</td><td>31 6691-7704</td><td>2024-02-07</td><td>21:01:24</td></tr><tr><td>4</td><td>Elisa da Rocha</td><td>enascimento@gmail.com</td><td>11 1007-1988</td><td>2024-02-07</td><td>21:01:24</td></tr><tr><td>5</td><td>Sr. Kevin da Luz</td><td>moreirajoao-felipe@gmail.com</td><td>0500-152-8310</td><td>2024-02-07</td><td>21:01:24</td></tr><tr><td>6</td><td>Gabriela Cunha</td><td>alexandre58@gmail.com</td><td>0800 925 0073</td><td>2024-02-07</td><td>21:01:24</td></tr><tr><td>7</td><td>Lucca Aragão</td><td>ana-carolina81@gmail.com</td><td>+55 51 3202 5452</td><td>2024-02-07</td><td>21:01:24</td></tr><tr><td>8</td><td>Dr. Vinicius Costela</td><td>maysaporto@gmail.com</td><td>0800 264 7109</td><td>2024-02-07</td><td>21:01:24</td></tr><tr><td>9</td><td>Cauê Teixeira</td><td>marcelocostela@gmail.com</td><td>84 3515 0712</td><td>2024-02-07</td><td>21:01:24</td></tr><tr><td>10</td><td>Vitor Hugo Barbosa</td><td>xnunes@gmail.com</td><td>(041) 1168 4578</td><td>2024-02-07</td><td>21:01:24</td></tr><tr><td>11</td><td>Daniela das Neves</td><td>pauloda-rocha@gmail.com</td><td>11 8447 5932</td><td>2024-02-07</td><td>21:01:24</td></tr><tr><td>12</td><td>Srta. Alexia Barbosa</td><td>maria-luiza70@gmail.com</td><td>+55 (011) 1491 8733</td><td>2024-02-07</td><td>21:01:24</td></tr><tr><td>13</td><td>Clara Duarte</td><td>zcastro@gmail.com</td><td>+55 (011) 7970 2820</td><td>2024-02-07</td><td>21:01:24</td></tr><tr><td>14</td><td>Isadora Farias</td><td>oda-conceicao@gmail.com</td><td>+55 (071) 3621-2422</td><td>2024-02-07</td><td>21:01:24</td></tr><tr><td>15</td><td>Yago Silva</td><td>eduardogoncalves@gmail.com</td><td>+55 11 3961 4788</td><td>2024-02-07</td><td>21:01:24</td></tr><tr><td>16</td><td>Sra. Joana Campos</td><td>icaldeira@gmail.com</td><td>+55 51 1033 2053</td><td>2024-02-07</td><td>21:01:24</td></tr><tr><td>17</td><td>Theo Vieira</td><td>uteixeira@gmail.com</td><td>+55 21 9451 6609</td><td>2024-02-07</td><td>21:01:24</td></tr><tr><td>18</td><td>Sr. Vitor Gabriel da Mata</td><td>marianelopes@gmail.com</td><td>+55 (071) 1609-1632</td><td>2024-02-07</td><td>21:01:24</td></tr><tr><td>19</td><td>Juan Freitas</td><td>dda-mota@gmail.com</td><td>+55 (081) 3267-8941</td><td>2024-02-07</td><td>21:01:24</td></tr><tr><td>20</td><td>Stephany Correia</td><td>aragaomaria-eduarda@gmail.com</td><td>61 1192 3023</td><td>2024-02-07</td><td>21:01:24</td></tr><tr><td>21</td><td>Manuela Monteiro</td><td>nogueiralivia@gmail.com</td><td>+55 (084) 2093 8030</td><td>2024-02-07</td><td>21:01:24</td></tr><tr><td>22</td><td>Stephany Lima</td><td>rcardoso@gmail.com</td><td>(011) 6355 4304</td><td>2024-02-07</td><td>21:01:24</td></tr><tr><td>23</td><td>Vinicius Oliveira</td><td>calebecavalcanti@gmail.com</td><td>(084) 8565-9643</td><td>2024-02-07</td><td>21:01:24</td></tr><tr><td>24</td><td>Maysa Farias</td><td>rodriguessabrina@gmail.com</td><td>71 5335-4258</td><td>2024-02-07</td><td>21:01:24</td></tr><tr><td>25</td><td>André da Mota</td><td>bmoraes@gmail.com</td><td>21 0253 1149</td><td>2024-02-07</td><td>21:01:24</td></tr><tr><td>26</td><td>Vitor Gabriel Teixeira</td><td>mendesana-beatriz@gmail.com</td><td>+55 41 0985 8614</td><td>2024-02-07</td><td>21:01:24</td></tr><tr><td>27</td><td>Giovanna Ferreira</td><td>enricocorreia@gmail.com</td><td>+55 (061) 5577 8085</td><td>2024-02-07</td><td>21:01:24</td></tr><tr><td>28</td><td>Dr. Rafael Teixeira</td><td>jmelo@gmail.com</td><td>(081) 7403 1112</td><td>2024-02-07</td><td>21:01:24</td></tr><tr><td>29</td><td>Alexia Araújo</td><td>eloahnogueira@gmail.com</td><td>+55 (031) 8191 4994</td><td>2024-02-07</td><td>21:01:24</td></tr><tr><td>30</td><td>Stephany Oliveira</td><td>barrosmaria-fernanda@gmail.com</td><td>+55 11 3473 7452</td><td>2024-02-07</td><td>21:01:24</td></tr><tr><td>31</td><td>Leandro Gonçalves</td><td>camilada-rocha@gmail.com</td><td>(041) 8751 0192</td><td>2024-02-07</td><td>21:01:24</td></tr><tr><td>32</td><td>Pietra Azevedo</td><td>alvescalebe@gmail.com</td><td>+55 21 0566-2634</td><td>2024-02-07</td><td>21:01:24</td></tr><tr><td>33</td><td>Cauã Fernandes</td><td>diogojesus@gmail.com</td><td>+55 51 7802 0695</td><td>2024-02-07</td><td>21:01:24</td></tr><tr><td>34</td><td>Dr. Rodrigo Pereira</td><td>ana-julia10@gmail.com</td><td>+55 (021) 8917-1989</td><td>2024-02-07</td><td>21:01:24</td></tr><tr><td>35</td><td>Nicolas Alves</td><td>luiz-gustavo59@gmail.com</td><td>+55 (021) 9891 6736</td><td>2024-02-07</td><td>21:01:24</td></tr><tr><td>36</td><td>Arthur Teixeira</td><td>clarice18@gmail.com</td><td>+55 (084) 8921 0905</td><td>2024-02-07</td><td>21:01:24</td></tr><tr><td>37</td><td>Dr. Caio Alves</td><td>gustavo16@gmail.com</td><td>+55 11 6362-9209</td><td>2024-02-07</td><td>21:01:24</td></tr><tr><td>38</td><td>Emanuella Peixoto</td><td>xcostela@gmail.com</td><td>(084) 5163 1570</td><td>2024-02-07</td><td>21:01:24</td></tr><tr><td>39</td><td>Luiz Fernando Moraes</td><td>jcorreia@gmail.com</td><td>0900 539 8131</td><td>2024-02-07</td><td>21:01:24</td></tr><tr><td>40</td><td>Dr. Pedro Henrique Lima</td><td>crocha@gmail.com</td><td>0900-639-9941</td><td>2024-02-07</td><td>21:01:24</td></tr><tr><td>41</td><td>Laura Nunes</td><td>mouraenzo-gabriel@gmail.com</td><td>+55 (051) 2456-0688</td><td>2024-02-07</td><td>21:01:24</td></tr><tr><td>42</td><td>Rodrigo Aragão</td><td>luiz-miguelgomes@gmail.com</td><td>+55 31 7274-3856</td><td>2024-02-07</td><td>21:01:24</td></tr><tr><td>43</td><td>Danilo Costela</td><td>ada-rocha@gmail.com</td><td>(011) 0634 4629</td><td>2024-02-07</td><td>21:01:24</td></tr><tr><td>44</td><td>João Vitor Viana</td><td>juliamelo@gmail.com</td><td>81 0696-5852</td><td>2024-02-07</td><td>21:01:24</td></tr><tr><td>45</td><td>Marcos Vinicius da Luz</td><td>wpires@gmail.com</td><td>+55 (021) 3422 8667</td><td>2024-02-07</td><td>21:01:24</td></tr><tr><td>46</td><td>Isabel Dias</td><td>ana-julia28@gmail.com</td><td>+55 31 1730 3081</td><td>2024-02-07</td><td>21:01:24</td></tr><tr><td>47</td><td>Dr. Luigi Gonçalves</td><td>lrocha@gmail.com</td><td>(051) 4136-9767</td><td>2024-02-07</td><td>21:01:24</td></tr><tr><td>48</td><td>Leonardo Martins</td><td>dmelo@gmail.com</td><td>+55 41 5084-0399</td><td>2024-02-07</td><td>21:01:24</td></tr><tr><td>49</td><td>Lívia Monteiro</td><td>felipe31@gmail.com</td><td>+55 51 7858 3681</td><td>2024-02-07</td><td>21:01:24</td></tr><tr><td>50</td><td>Augusto Costela</td><td>clariceda-cruz@gmail.com</td><td>+55 (071) 8763 6001</td><td>2024-02-07</td><td>21:01:24</td></tr><tr><td>51</td><td>Joana Carvalho</td><td>ralmeida@gmail.com</td><td>41 5265 6840</td><td>2024-02-07</td><td>21:01:24</td></tr><tr><td>52</td><td>Gustavo Dias</td><td>diasgiovanna@gmail.com</td><td>71 7393-3162</td><td>2024-02-07</td><td>21:01:24</td></tr><tr><td>53</td><td>Caroline Martins</td><td>raquellima@gmail.com</td><td>+55 (081) 1516 6202</td><td>2024-02-07</td><td>21:01:24</td></tr><tr><td>54</td><td>Natália Aragão</td><td>ana-livia49@gmail.com</td><td>0500 188 6965</td><td>2024-02-07</td><td>21:01:24</td></tr><tr><td>55</td><td>Davi Lucas Ferreira</td><td>alvesjoao-gabriel@gmail.com</td><td>0500 807 9266</td><td>2024-02-07</td><td>21:01:24</td></tr><tr><td>56</td><td>Laís Azevedo</td><td>fernandesjoao@gmail.com</td><td>31 5523 9337</td><td>2024-02-07</td><td>21:01:24</td></tr><tr><td>57</td><td>Pedro Henrique Pires</td><td>da-pazana-livia@gmail.com</td><td>11 6438 3626</td><td>2024-02-07</td><td>21:01:24</td></tr><tr><td>58</td><td>Cauê Souza</td><td>vitoriacostela@gmail.com</td><td>+55 (021) 4097 4930</td><td>2024-02-07</td><td>21:01:24</td></tr><tr><td>59</td><td>Olivia Viana</td><td>fogacapedro-miguel@gmail.com</td><td>41 3744 3847</td><td>2024-02-07</td><td>21:01:24</td></tr><tr><td>60</td><td>Fernanda Barros</td><td>luiz-fernando09@gmail.com</td><td>+55 (031) 6928-0773</td><td>2024-02-07</td><td>21:01:24</td></tr><tr><td>61</td><td>Nicolas Silveira</td><td>almeidalivia@gmail.com</td><td>41 9532 5954</td><td>2024-02-07</td><td>21:01:24</td></tr><tr><td>62</td><td>Larissa Campos</td><td>xmartins@gmail.com</td><td>+55 71 8000 2285</td><td>2024-02-07</td><td>21:01:24</td></tr><tr><td>63</td><td>Benjamin Carvalho</td><td>eduardafreitas@gmail.com</td><td>+55 (061) 4909-9127</td><td>2024-02-07</td><td>21:01:24</td></tr><tr><td>64</td><td>Diogo Cavalcanti</td><td>cmoreira@gmail.com</td><td>(051) 2128 6900</td><td>2024-02-07</td><td>21:01:24</td></tr><tr><td>65</td><td>Natália Caldeira</td><td>fnunes@gmail.com</td><td>+55 21 7111-4556</td><td>2024-02-07</td><td>21:01:24</td></tr><tr><td>66</td><td>Sra. Laura Dias</td><td>maria-luiza16@gmail.com</td><td>+55 (051) 4270 4453</td><td>2024-02-07</td><td>21:01:24</td></tr><tr><td>67</td><td>Dr. Pedro Miguel da Cunha</td><td>brunaramos@gmail.com</td><td>21 5431 3398</td><td>2024-02-07</td><td>21:01:24</td></tr><tr><td>68</td><td>Júlia Viana</td><td>bjesus@gmail.com</td><td>(061) 6650 4153</td><td>2024-02-07</td><td>21:01:24</td></tr><tr><td>69</td><td>Eduardo Duarte</td><td>aalmeida@gmail.com</td><td>61 1056 3225</td><td>2024-02-07</td><td>21:01:24</td></tr><tr><td>70</td><td>Leonardo da Conceição</td><td>rafaelasouza@gmail.com</td><td>+55 51 4389 6478</td><td>2024-02-07</td><td>21:01:24</td></tr><tr><td>71</td><td>Lucas Gabriel Souza</td><td>mirella41@gmail.com</td><td>+55 81 4703-4973</td><td>2024-02-07</td><td>21:01:24</td></tr><tr><td>72</td><td>Luana Melo</td><td>jmonteiro@gmail.com.net</td><td>+55 11 4582-8079</td><td>2024-02-07</td><td>21:01:24</td></tr><tr><td>73</td><td>Lívia Porto</td><td>lucas-gabriel90@gmail.com</td><td>(084) 6006 8049</td><td>2024-02-07</td><td>21:01:24</td></tr><tr><td>74</td><td>Pietra Cardoso</td><td>pcardoso@gmail.com</td><td>(084) 7988 2194</td><td>2024-02-07</td><td>21:01:24</td></tr><tr><td>75</td><td>Juliana Oliveira</td><td>thales15@gmail.com</td><td>+55 71 3235 0657</td><td>2024-02-07</td><td>21:01:24</td></tr><tr><td>76</td><td>Alana Carvalho</td><td>eloahmonteiro@gmail.com</td><td>81 4331-9567</td><td>2024-02-07</td><td>21:01:24</td></tr><tr><td>77</td><td>Bianca Farias</td><td>pfreitas@gmail.com</td><td>(061) 9089 8659</td><td>2024-02-07</td><td>21:01:24</td></tr><tr><td>78</td><td>Laís Cardoso</td><td>isabel87@gmail.com</td><td>+55 51 8369 0366</td><td>2024-02-07</td><td>21:01:24</td></tr><tr><td>79</td><td>Luiz Fernando Rezende</td><td>souzavalentina@gmail.com</td><td>+55 71 4084 5652</td><td>2024-02-07</td><td>21:01:24</td></tr><tr><td>80</td><td>Milena da Cruz</td><td>naraujo@gmail.com</td><td>+55 21 8106-1838</td><td>2024-02-07</td><td>21:01:24</td></tr><tr><td>81</td><td>Luigi Ramos</td><td>brunalima@gmail.com</td><td>51 7734 2272</td><td>2024-02-07</td><td>21:01:24</td></tr><tr><td>82</td><td>Samuel Nascimento</td><td>da-mataana-vitoria@gmail.com</td><td>0900-286-0502</td><td>2024-02-07</td><td>21:01:24</td></tr><tr><td>83</td><td>Sr. Cauã da Rosa</td><td>caroline32@gmail.com</td><td>+55 41 5317 0926</td><td>2024-02-07</td><td>21:01:24</td></tr><tr><td>84</td><td>Vinicius da Cruz</td><td>cardososabrina@gmail.com</td><td>81 0296-2985</td><td>2024-02-07</td><td>21:01:24</td></tr><tr><td>85</td><td>Dra. Alana Gonçalves</td><td>jgomes@gmail.com</td><td>(081) 8564 8732</td><td>2024-02-07</td><td>21:01:24</td></tr><tr><td>86</td><td>Caio Melo</td><td>melissanovaes@gmail.com</td><td>+55 41 1746 3121</td><td>2024-02-07</td><td>21:01:24</td></tr><tr><td>87</td><td>Srta. Evelyn Aragão</td><td>costelamurilo@gmail.com</td><td>+55 (041) 8783 6971</td><td>2024-02-07</td><td>21:01:24</td></tr><tr><td>88</td><td>Samuel Teixeira</td><td>olivialopes@gmail.com</td><td>51 4778 1642</td><td>2024-02-07</td><td>21:01:24</td></tr><tr><td>89</td><td>Matheus Rocha</td><td>nascimentoguilherme@gmail.com</td><td>41 6983-1899</td><td>2024-02-07</td><td>21:01:24</td></tr><tr><td>90</td><td>Diogo Duarte</td><td>ian64@gmail.com</td><td>(041) 3534 7583</td><td>2024-02-07</td><td>21:01:24</td></tr><tr><td>91</td><td>João Felipe Mendes</td><td>ryan94@gmail.com</td><td>(061) 7467-7063</td><td>2024-02-07</td><td>21:01:24</td></tr><tr><td>92</td><td>Natália Barros</td><td>joaquim76@gmail.com</td><td>0300-383-7003</td><td>2024-02-07</td><td>21:01:24</td></tr><tr><td>93</td><td>Joaquim da Cunha</td><td>mvieira@gmail.com</td><td>+55 71 7392-5194</td><td>2024-02-07</td><td>21:01:24</td></tr><tr><td>94</td><td>Sophia Duarte</td><td>bdias@gmail.com</td><td>+55 (041) 0488 4557</td><td>2024-02-07</td><td>21:01:24</td></tr><tr><td>95</td><td>Sr. Davi Luiz Ramos</td><td>joao-vitormoraes@gmail.com</td><td>51 5535 5941</td><td>2024-02-07</td><td>21:01:24</td></tr><tr><td>96</td><td>Davi Luiz da Costa</td><td>das-neveseduardo@gmail.com</td><td>11 9336-8713</td><td>2024-02-07</td><td>21:01:24</td></tr><tr><td>97</td><td>Sra. Mariana Moraes</td><td>klopes@gmail.com</td><td>+55 (051) 3687 4036</td><td>2024-02-07</td><td>21:01:24</td></tr><tr><td>98</td><td>Ana Clara da Costa</td><td>lcardoso@gmail.com</td><td>+55 (011) 8094 2877</td><td>2024-02-07</td><td>21:01:24</td></tr><tr><td>99</td><td>Eduardo Nogueira</td><td>rochabryan@gmail.com</td><td>(041) 3113 5914</td><td>2024-02-07</td><td>21:01:24</td></tr><tr><td>100</td><td>Isabelly Pinto</td><td>joao-lucas21@gmail.com</td><td>+55 (011) 7369-8203</td><td>2024-02-07</td><td>21:01:24</td></tr><tr><td>101</td><td>André Viana</td><td>vdias@gmail.com</td><td>0900-296-3899</td><td>2024-02-07</td><td>21:01:24</td></tr><tr><td>102</td><td>Ana Julia Oliveira</td><td>costelamaysa@gmail.com</td><td>(061) 8967-8565</td><td>2024-02-07</td><td>21:01:24</td></tr><tr><td>103</td><td>Larissa Almeida</td><td>pereiraevelyn@gmail.com</td><td>+55 31 0149-0575</td><td>2024-02-07</td><td>21:01:24</td></tr><tr><td>104</td><td>Vitor Hugo Rodrigues</td><td>renangoncalves@gmail.com</td><td>0900 475 6832</td><td>2024-02-07</td><td>21:01:24</td></tr><tr><td>105</td><td>Emanuella Barros</td><td>barroslucas-gabriel@gmail.com</td><td>+55 (081) 6928 3628</td><td>2024-02-07</td><td>21:01:24</td></tr><tr><td>106</td><td>Gustavo Araújo</td><td>bcardoso@gmail.com</td><td>61 3336-3989</td><td>2024-02-07</td><td>21:01:24</td></tr><tr><td>107</td><td>Laís Araújo</td><td>xrocha@gmail.com</td><td>(061) 3458-7731</td><td>2024-02-07</td><td>21:01:24</td></tr><tr><td>108</td><td>João Pedro Araújo</td><td>pintomariane@gmail.com</td><td>(031) 3497 9527</td><td>2024-02-07</td><td>21:01:24</td></tr><tr><td>109</td><td>Dr. Levi Souza</td><td>lavinia33@gmail.com</td><td>0300 323 4036</td><td>2024-02-07</td><td>21:01:24</td></tr><tr><td>110</td><td>Joana Melo</td><td>almeidalara@gmail.com</td><td>+55 41 9408-9786</td><td>2024-02-07</td><td>21:01:24</td></tr><tr><td>111</td><td>Mariane Rodrigues</td><td>pietro70@gmail.com</td><td>+55 (031) 9181 7327</td><td>2024-02-07</td><td>21:01:24</td></tr><tr><td>112</td><td>Dr. Matheus da Cruz</td><td>pereiracaua@gmail.com</td><td>0500-713-7842</td><td>2024-02-07</td><td>21:01:24</td></tr><tr><td>113</td><td>Ana Lívia Rezende</td><td>da-conceicaoluana@gmail.com</td><td>+55 (031) 9111 8615</td><td>2024-02-07</td><td>21:01:24</td></tr><tr><td>114</td><td>Luiz Otávio Gomes</td><td>marcelo92@gmail.com</td><td>+55 (084) 1855-0649</td><td>2024-02-07</td><td>21:01:24</td></tr><tr><td>115</td><td>Clara Cardoso</td><td>moreiramilena@gmail.com</td><td>0300 265 4006</td><td>2024-02-07</td><td>21:01:24</td></tr><tr><td>116</td><td>Maria Araújo</td><td>maysacavalcanti@gmail.com</td><td>84 8076-6705</td><td>2024-02-07</td><td>21:01:24</td></tr><tr><td>117</td><td>Dra. Maria Jesus</td><td>marinamonteiro@gmail.com</td><td>0800-688-4291</td><td>2024-02-07</td><td>21:01:24</td></tr><tr><td>118</td><td>Otávio Rocha</td><td>samuel69@gmail.com</td><td>(081) 1636 4417</td><td>2024-02-07</td><td>21:01:24</td></tr><tr><td>119</td><td>Ana Carolina Alves</td><td>vitor-gabrielsouza@gmail.com</td><td>+55 51 1140 4939</td><td>2024-02-07</td><td>21:01:24</td></tr><tr><td>120</td><td>Clarice Santos</td><td>nina56@gmail.com</td><td>(021) 7122-5770</td><td>2024-02-07</td><td>21:01:24</td></tr><tr><td>121</td><td>Vitória Ramos</td><td>emanuella73@gmail.com</td><td>+55 41 0849 9236</td><td>2024-02-07</td><td>21:01:24</td></tr><tr><td>122</td><td>Paulo das Neves</td><td>xgoncalves@gmail.com</td><td>+55 41 0976 1393</td><td>2024-02-07</td><td>21:01:24</td></tr><tr><td>123</td><td>Theo da Rosa</td><td>cardosojoao-gabriel@gmail.com</td><td>51 8187 4789</td><td>2024-02-07</td><td>21:01:24</td></tr><tr><td>124</td><td>Heloísa Azevedo</td><td>sda-conceicao@gmail.com</td><td>(084) 7704-7002</td><td>2024-02-07</td><td>21:01:24</td></tr><tr><td>125</td><td>João Santos</td><td>theo51@gmail.com</td><td>31 5128 9543</td><td>2024-02-07</td><td>21:01:24</td></tr><tr><td>126</td><td>Ryan Lima</td><td>maria-sophiada-costa@gmail.com</td><td>(084) 3916 5292</td><td>2024-02-07</td><td>21:01:24</td></tr><tr><td>127</td><td>Kaique da Paz</td><td>fernandonascimento@gmail.com</td><td>+55 (061) 2880-2323</td><td>2024-02-07</td><td>21:01:24</td></tr><tr><td>128</td><td>Murilo da Rosa</td><td>levimoraes@gmail.com</td><td>0300-700-1247</td><td>2024-02-07</td><td>21:01:24</td></tr><tr><td>129</td><td>Marcela Monteiro</td><td>theo37@gmail.com</td><td>(011) 8189-0760</td><td>2024-02-07</td><td>21:01:24</td></tr><tr><td>130</td><td>Rafaela Fernandes</td><td>zda-rosa@gmail.com</td><td>41 0663 6195</td><td>2024-02-07</td><td>21:01:24</td></tr><tr><td>131</td><td>Vicente Carvalho</td><td>oliveirafelipe@gmail.com</td><td>+55 61 7836-9352</td><td>2024-02-07</td><td>21:01:24</td></tr><tr><td>132</td><td>Dra. Vitória Cardoso</td><td>calebe34@gmail.com</td><td>+55 (081) 3479-6252</td><td>2024-02-07</td><td>21:01:24</td></tr><tr><td>133</td><td>Lorenzo Lopes</td><td>milena63@gmail.com</td><td>+55 31 4643 2215</td><td>2024-02-07</td><td>21:01:24</td></tr><tr><td>134</td><td>Dr. Igor Cardoso</td><td>marcos-vinicius15@gmail.com</td><td>(011) 9447 3530</td><td>2024-02-07</td><td>21:01:24</td></tr><tr><td>135</td><td>Laís Mendes</td><td>aragaocarolina@gmail.com</td><td>+55 41 3825 9136</td><td>2024-02-07</td><td>21:01:24</td></tr><tr><td>136</td><td>Isabella Dias</td><td>mmoreira@gmail.com</td><td>(061) 6048 1864</td><td>2024-02-07</td><td>21:01:24</td></tr><tr><td>137</td><td>Larissa da Paz</td><td>ncaldeira@gmail.com</td><td>31 1282-9511</td><td>2024-02-07</td><td>21:01:24</td></tr><tr><td>138</td><td>Srta. Ana Júlia Ferreira</td><td>levimonteiro@gmail.com</td><td>71 1556-9309</td><td>2024-02-07</td><td>21:01:24</td></tr><tr><td>139</td><td>Valentina Nogueira</td><td>xrocha@gmail.com</td><td>0300-684-6876</td><td>2024-02-07</td><td>21:01:24</td></tr><tr><td>140</td><td>Sr. Lucas Martins</td><td>larasales@gmail.com</td><td>31 3674 2945</td><td>2024-02-07</td><td>21:01:24</td></tr><tr><td>141</td><td>Ana Vitória Castro</td><td>uferreira@gmail.com</td><td>+55 (031) 9276-6074</td><td>2024-02-07</td><td>21:01:24</td></tr><tr><td>142</td><td>Maria Sophia Fernandes</td><td>nicolaslopes@gmail.com</td><td>+55 (041) 2837 0760</td><td>2024-02-07</td><td>21:01:24</td></tr><tr><td>143</td><td>Nathan Cardoso</td><td>manuelasantos@gmail.com</td><td>+55 84 6215-1248</td><td>2024-02-07</td><td>21:01:24</td></tr><tr><td>144</td><td>Caroline Martins</td><td>monteiroemanuelly@gmail.com</td><td>+55 41 9572-3155</td><td>2024-02-07</td><td>21:01:24</td></tr><tr><td>145</td><td>Valentina Melo</td><td>emanuelporto@gmail.com</td><td>81 0872 1793</td><td>2024-02-07</td><td>21:01:24</td></tr><tr><td>146</td><td>Emilly da Rosa</td><td>fariaslaura@gmail.com</td><td>61 6455 7288</td><td>2024-02-07</td><td>21:01:24</td></tr><tr><td>147</td><td>Henrique Rezende</td><td>yasminda-mata@gmail.com</td><td>0800-623-5438</td><td>2024-02-07</td><td>21:01:24</td></tr><tr><td>148</td><td>Leonardo Sales</td><td>ninacarvalho@gmail.com</td><td>+55 81 6008 3856</td><td>2024-02-07</td><td>21:01:24</td></tr><tr><td>149</td><td>Srta. Agatha Fernandes</td><td>peixotoana-laura@gmail.com</td><td>+55 11 5224-5214</td><td>2024-02-07</td><td>21:01:24</td></tr><tr><td>150</td><td>Luiza Lima</td><td>davi-lucasbarbosa@gmail.com</td><td>+55 61 5641-4366</td><td>2024-02-07</td><td>21:01:24</td></tr><tr><td>151</td><td>Marcela Correia</td><td>almeidaelisa@gmail.com</td><td>61 6757-4277</td><td>2024-02-07</td><td>21:01:24</td></tr><tr><td>152</td><td>João Vitor Campos</td><td>diego45@gmail.com</td><td>71 5905 2214</td><td>2024-02-07</td><td>21:01:24</td></tr><tr><td>153</td><td>Daniela Cardoso</td><td>marcela05@gmail.com</td><td>(084) 9908 6394</td><td>2024-02-07</td><td>21:01:24</td></tr><tr><td>154</td><td>Sr. Leonardo Silva</td><td>heitor44@gmail.com</td><td>+55 (061) 6111 8966</td><td>2024-02-07</td><td>21:01:24</td></tr><tr><td>155</td><td>Bryan Castro</td><td>vitor-gabriel72@gmail.com</td><td>+55 51 6308 2661</td><td>2024-02-07</td><td>21:01:24</td></tr><tr><td>156</td><td>Kamilly Fernandes</td><td>danilo64@gmail.com</td><td>(061) 7449 0789</td><td>2024-02-07</td><td>21:01:24</td></tr><tr><td>157</td><td>Pedro Lucas Ramos</td><td>pfogaca@gmail.com</td><td>0800-106-1834</td><td>2024-02-07</td><td>21:01:24</td></tr><tr><td>158</td><td>Alícia Vieira</td><td>osilveira@gmail.com</td><td>(071) 3993 1572</td><td>2024-02-07</td><td>21:01:24</td></tr><tr><td>159</td><td>Srta. Maria Eduarda Caldeira</td><td>thomas85@gmail.com</td><td>+55 (061) 6770-1299</td><td>2024-02-07</td><td>21:01:24</td></tr><tr><td>160</td><td>João Gabriel Aragão</td><td>vianaluiz-otavio@gmail.com</td><td>(084) 9185-3877</td><td>2024-02-07</td><td>21:01:24</td></tr><tr><td>161</td><td>Sra. Letícia Teixeira</td><td>joao-felipecostela@gmail.com</td><td>(011) 5902 8659</td><td>2024-02-07</td><td>21:01:24</td></tr><tr><td>162</td><td>Dra. Sophie Monteiro</td><td>tdias@gmail.com</td><td>0800 522 8980</td><td>2024-02-07</td><td>21:01:24</td></tr><tr><td>163</td><td>Sra. Melissa Cardoso</td><td>martinsgabriela@gmail.com</td><td>84 5164 7564</td><td>2024-02-07</td><td>21:01:24</td></tr><tr><td>164</td><td>Cauê Moreira</td><td>clara47@gmail.com</td><td>(051) 3018 0023</td><td>2024-02-07</td><td>21:01:24</td></tr><tr><td>165</td><td>André das Neves</td><td>diaspietro@gmail.com</td><td>(061) 3148-3663</td><td>2024-02-07</td><td>21:01:24</td></tr><tr><td>166</td><td>Stephany Azevedo</td><td>luiz-henrique29@gmail.com</td><td>0800 424 4530</td><td>2024-02-07</td><td>21:01:24</td></tr><tr><td>167</td><td>Matheus da Cruz</td><td>amonteiro@gmail.com</td><td>+55 84 9997-0267</td><td>2024-02-07</td><td>21:01:24</td></tr><tr><td>168</td><td>Diego Pereira</td><td>franciscofarias@gmail.com</td><td>(081) 4822-5616</td><td>2024-02-07</td><td>21:01:24</td></tr><tr><td>169</td><td>André Nunes</td><td>da-conceicaosophie@gmail.com</td><td>0800-955-3700</td><td>2024-02-07</td><td>21:01:24</td></tr><tr><td>170</td><td>Maria Clara da Rosa</td><td>muriloaragao@gmail.com</td><td>+55 11 9115-9800</td><td>2024-02-07</td><td>21:01:24</td></tr><tr><td>171</td><td>Maria Vitória da Cruz</td><td>rebeca08@gmail.com</td><td>+55 (061) 0381 2937</td><td>2024-02-07</td><td>21:01:24</td></tr><tr><td>172</td><td>Diego Santos</td><td>lucca90@gmail.com</td><td>0800 366 0651</td><td>2024-02-07</td><td>21:01:24</td></tr><tr><td>173</td><td>Breno Fernandes</td><td>marinasales@gmail.com</td><td>(071) 0428 5649</td><td>2024-02-07</td><td>21:01:24</td></tr><tr><td>174</td><td>Alexia Lopes</td><td>caiorodrigues@gmail.com</td><td>+55 81 2852 6705</td><td>2024-02-07</td><td>21:01:24</td></tr><tr><td>175</td><td>Daniel Porto</td><td>ana-julia94@gmail.com</td><td>+55 (031) 6243 8076</td><td>2024-02-07</td><td>21:01:24</td></tr><tr><td>176</td><td>Juan das Neves</td><td>sarah52@gmail.com</td><td>(081) 2275 5389</td><td>2024-02-07</td><td>21:01:24</td></tr><tr><td>177</td><td>Luiz Miguel Oliveira</td><td>wmoraes@gmail.com</td><td>+55 (011) 9041-2863</td><td>2024-02-07</td><td>21:01:24</td></tr><tr><td>178</td><td>Alana da Rocha</td><td>marcelo79@gmail.com</td><td>61 2753-6700</td><td>2024-02-07</td><td>21:01:24</td></tr><tr><td>179</td><td>Manuela Monteiro</td><td>da-rochadavi@gmail.com</td><td>+55 84 5802-3401</td><td>2024-02-07</td><td>21:01:24</td></tr><tr><td>180</td><td>Dra. Maitê Freitas</td><td>nina14@gmail.com</td><td>+55 61 9945-1181</td><td>2024-02-07</td><td>21:01:24</td></tr><tr><td>181</td><td>Ana Júlia Rocha</td><td>bcarvalho@gmail.com</td><td>0500 276 9791</td><td>2024-02-07</td><td>21:01:24</td></tr><tr><td>182</td><td>Dra. Joana Nogueira</td><td>barrosjoao-miguel@gmail.com</td><td>84 8138-4377</td><td>2024-02-07</td><td>21:01:24</td></tr><tr><td>183</td><td>Diego Gomes</td><td>ifernandes@gmail.com</td><td>71 5942 4773</td><td>2024-02-07</td><td>21:01:24</td></tr><tr><td>184</td><td>Isaac Correia</td><td>da-cruznicole@gmail.com</td><td>+55 (021) 3043 4778</td><td>2024-02-07</td><td>21:01:24</td></tr><tr><td>185</td><td>Laís Rezende</td><td>ramoslivia@gmail.com</td><td>+55 (081) 2178 0335</td><td>2024-02-07</td><td>21:01:24</td></tr><tr><td>186</td><td>Letícia Campos</td><td>yago55@gmail.com</td><td>+55 81 4115 5836</td><td>2024-02-07</td><td>21:01:24</td></tr><tr><td>187</td><td>Sr. Benjamin Pires</td><td>barrosdavi-luiz@gmail.com</td><td>+55 (071) 7723 6844</td><td>2024-02-07</td><td>21:01:24</td></tr><tr><td>188</td><td>Enrico da Rosa</td><td>emanuel23@gmail.com</td><td>+55 (081) 7933-8009</td><td>2024-02-07</td><td>21:01:24</td></tr><tr><td>189</td><td>Maria Fernanda Ribeiro</td><td>zgomes@gmail.com</td><td>+55 (031) 3014-4422</td><td>2024-02-07</td><td>21:01:24</td></tr><tr><td>190</td><td>Elisa Castro</td><td>barrosmiguel@gmail.com</td><td>+55 (084) 1897-2777</td><td>2024-02-07</td><td>21:01:24</td></tr><tr><td>191</td><td>Cauã Dias</td><td>raquelsouza@gmail.com</td><td>+55 (071) 0740 5744</td><td>2024-02-07</td><td>21:01:24</td></tr><tr><td>192</td><td>Carlos Eduardo Mendes</td><td>emanuella96@gmail.com</td><td>+55 (071) 5870-7735</td><td>2024-02-07</td><td>21:01:24</td></tr><tr><td>193</td><td>Diego Gomes</td><td>anthony66@gmail.com</td><td>+55 51 2729 3368</td><td>2024-02-07</td><td>21:01:24</td></tr><tr><td>194</td><td>Fernanda Alves</td><td>evieira@gmail.com</td><td>+55 31 5709 5377</td><td>2024-02-07</td><td>21:01:24</td></tr><tr><td>195</td><td>Bernardo Mendes</td><td>vitorferreira@gmail.com</td><td>+55 (011) 2611-4183</td><td>2024-02-07</td><td>21:01:24</td></tr><tr><td>196</td><td>Davi Luiz da Mata</td><td>fernandafogaca@gmail.com</td><td>+55 (071) 6247 5781</td><td>2024-02-07</td><td>21:01:24</td></tr><tr><td>197</td><td>Carlos Eduardo Peixoto</td><td>sofiaribeiro@gmail.com</td><td>+55 11 5880-0807</td><td>2024-02-07</td><td>21:01:24</td></tr><tr><td>198</td><td>Sra. Isabella da Cunha</td><td>peixotoyuri@gmail.com</td><td>31 1648-6424</td><td>2024-02-07</td><td>21:01:24</td></tr><tr><td>199</td><td>Sr. Levi Nunes</td><td>jda-mota@gmail.com</td><td>+55 11 3602-9543</td><td>2024-02-07</td><td>21:01:24</td></tr><tr><td>200</td><td>Manuela Silveira</td><td>lucca28@gmail.com</td><td>+55 (061) 6738 0436</td><td>2024-02-07</td><td>21:01:24</td></tr></tbody></table></div>"
      ]
     },
     "metadata": {
      "application/vnd.databricks.v1+output": {
       "addedWidgets": {},
       "aggData": [],
       "aggError": "",
       "aggOverflow": false,
       "aggSchema": [],
       "aggSeriesLimitReached": false,
       "aggType": "",
       "arguments": {},
       "columnCustomDisplayInfos": {},
       "data": [
        [
         1,
         "Marcos Vinicius Pires",
         "moreirarafael@gmail.com",
         "+55 (051) 1476-7634",
         "2024-02-07",
         "21:01:24"
        ],
        [
         2,
         "Srta. Ana Laura Novaes",
         "aliciapires@gmail.com",
         "+55 71 2686-2429",
         "2024-02-07",
         "21:01:24"
        ],
        [
         3,
         "Sr. Francisco Silveira",
         "pteixeira@gmail.com",
         "31 6691-7704",
         "2024-02-07",
         "21:01:24"
        ],
        [
         4,
         "Elisa da Rocha",
         "enascimento@gmail.com",
         "11 1007-1988",
         "2024-02-07",
         "21:01:24"
        ],
        [
         5,
         "Sr. Kevin da Luz",
         "moreirajoao-felipe@gmail.com",
         "0500-152-8310",
         "2024-02-07",
         "21:01:24"
        ],
        [
         6,
         "Gabriela Cunha",
         "alexandre58@gmail.com",
         "0800 925 0073",
         "2024-02-07",
         "21:01:24"
        ],
        [
         7,
         "Lucca Aragão",
         "ana-carolina81@gmail.com",
         "+55 51 3202 5452",
         "2024-02-07",
         "21:01:24"
        ],
        [
         8,
         "Dr. Vinicius Costela",
         "maysaporto@gmail.com",
         "0800 264 7109",
         "2024-02-07",
         "21:01:24"
        ],
        [
         9,
         "Cauê Teixeira",
         "marcelocostela@gmail.com",
         "84 3515 0712",
         "2024-02-07",
         "21:01:24"
        ],
        [
         10,
         "Vitor Hugo Barbosa",
         "xnunes@gmail.com",
         "(041) 1168 4578",
         "2024-02-07",
         "21:01:24"
        ],
        [
         11,
         "Daniela das Neves",
         "pauloda-rocha@gmail.com",
         "11 8447 5932",
         "2024-02-07",
         "21:01:24"
        ],
        [
         12,
         "Srta. Alexia Barbosa",
         "maria-luiza70@gmail.com",
         "+55 (011) 1491 8733",
         "2024-02-07",
         "21:01:24"
        ],
        [
         13,
         "Clara Duarte",
         "zcastro@gmail.com",
         "+55 (011) 7970 2820",
         "2024-02-07",
         "21:01:24"
        ],
        [
         14,
         "Isadora Farias",
         "oda-conceicao@gmail.com",
         "+55 (071) 3621-2422",
         "2024-02-07",
         "21:01:24"
        ],
        [
         15,
         "Yago Silva",
         "eduardogoncalves@gmail.com",
         "+55 11 3961 4788",
         "2024-02-07",
         "21:01:24"
        ],
        [
         16,
         "Sra. Joana Campos",
         "icaldeira@gmail.com",
         "+55 51 1033 2053",
         "2024-02-07",
         "21:01:24"
        ],
        [
         17,
         "Theo Vieira",
         "uteixeira@gmail.com",
         "+55 21 9451 6609",
         "2024-02-07",
         "21:01:24"
        ],
        [
         18,
         "Sr. Vitor Gabriel da Mata",
         "marianelopes@gmail.com",
         "+55 (071) 1609-1632",
         "2024-02-07",
         "21:01:24"
        ],
        [
         19,
         "Juan Freitas",
         "dda-mota@gmail.com",
         "+55 (081) 3267-8941",
         "2024-02-07",
         "21:01:24"
        ],
        [
         20,
         "Stephany Correia",
         "aragaomaria-eduarda@gmail.com",
         "61 1192 3023",
         "2024-02-07",
         "21:01:24"
        ],
        [
         21,
         "Manuela Monteiro",
         "nogueiralivia@gmail.com",
         "+55 (084) 2093 8030",
         "2024-02-07",
         "21:01:24"
        ],
        [
         22,
         "Stephany Lima",
         "rcardoso@gmail.com",
         "(011) 6355 4304",
         "2024-02-07",
         "21:01:24"
        ],
        [
         23,
         "Vinicius Oliveira",
         "calebecavalcanti@gmail.com",
         "(084) 8565-9643",
         "2024-02-07",
         "21:01:24"
        ],
        [
         24,
         "Maysa Farias",
         "rodriguessabrina@gmail.com",
         "71 5335-4258",
         "2024-02-07",
         "21:01:24"
        ],
        [
         25,
         "André da Mota",
         "bmoraes@gmail.com",
         "21 0253 1149",
         "2024-02-07",
         "21:01:24"
        ],
        [
         26,
         "Vitor Gabriel Teixeira",
         "mendesana-beatriz@gmail.com",
         "+55 41 0985 8614",
         "2024-02-07",
         "21:01:24"
        ],
        [
         27,
         "Giovanna Ferreira",
         "enricocorreia@gmail.com",
         "+55 (061) 5577 8085",
         "2024-02-07",
         "21:01:24"
        ],
        [
         28,
         "Dr. Rafael Teixeira",
         "jmelo@gmail.com",
         "(081) 7403 1112",
         "2024-02-07",
         "21:01:24"
        ],
        [
         29,
         "Alexia Araújo",
         "eloahnogueira@gmail.com",
         "+55 (031) 8191 4994",
         "2024-02-07",
         "21:01:24"
        ],
        [
         30,
         "Stephany Oliveira",
         "barrosmaria-fernanda@gmail.com",
         "+55 11 3473 7452",
         "2024-02-07",
         "21:01:24"
        ],
        [
         31,
         "Leandro Gonçalves",
         "camilada-rocha@gmail.com",
         "(041) 8751 0192",
         "2024-02-07",
         "21:01:24"
        ],
        [
         32,
         "Pietra Azevedo",
         "alvescalebe@gmail.com",
         "+55 21 0566-2634",
         "2024-02-07",
         "21:01:24"
        ],
        [
         33,
         "Cauã Fernandes",
         "diogojesus@gmail.com",
         "+55 51 7802 0695",
         "2024-02-07",
         "21:01:24"
        ],
        [
         34,
         "Dr. Rodrigo Pereira",
         "ana-julia10@gmail.com",
         "+55 (021) 8917-1989",
         "2024-02-07",
         "21:01:24"
        ],
        [
         35,
         "Nicolas Alves",
         "luiz-gustavo59@gmail.com",
         "+55 (021) 9891 6736",
         "2024-02-07",
         "21:01:24"
        ],
        [
         36,
         "Arthur Teixeira",
         "clarice18@gmail.com",
         "+55 (084) 8921 0905",
         "2024-02-07",
         "21:01:24"
        ],
        [
         37,
         "Dr. Caio Alves",
         "gustavo16@gmail.com",
         "+55 11 6362-9209",
         "2024-02-07",
         "21:01:24"
        ],
        [
         38,
         "Emanuella Peixoto",
         "xcostela@gmail.com",
         "(084) 5163 1570",
         "2024-02-07",
         "21:01:24"
        ],
        [
         39,
         "Luiz Fernando Moraes",
         "jcorreia@gmail.com",
         "0900 539 8131",
         "2024-02-07",
         "21:01:24"
        ],
        [
         40,
         "Dr. Pedro Henrique Lima",
         "crocha@gmail.com",
         "0900-639-9941",
         "2024-02-07",
         "21:01:24"
        ],
        [
         41,
         "Laura Nunes",
         "mouraenzo-gabriel@gmail.com",
         "+55 (051) 2456-0688",
         "2024-02-07",
         "21:01:24"
        ],
        [
         42,
         "Rodrigo Aragão",
         "luiz-miguelgomes@gmail.com",
         "+55 31 7274-3856",
         "2024-02-07",
         "21:01:24"
        ],
        [
         43,
         "Danilo Costela",
         "ada-rocha@gmail.com",
         "(011) 0634 4629",
         "2024-02-07",
         "21:01:24"
        ],
        [
         44,
         "João Vitor Viana",
         "juliamelo@gmail.com",
         "81 0696-5852",
         "2024-02-07",
         "21:01:24"
        ],
        [
         45,
         "Marcos Vinicius da Luz",
         "wpires@gmail.com",
         "+55 (021) 3422 8667",
         "2024-02-07",
         "21:01:24"
        ],
        [
         46,
         "Isabel Dias",
         "ana-julia28@gmail.com",
         "+55 31 1730 3081",
         "2024-02-07",
         "21:01:24"
        ],
        [
         47,
         "Dr. Luigi Gonçalves",
         "lrocha@gmail.com",
         "(051) 4136-9767",
         "2024-02-07",
         "21:01:24"
        ],
        [
         48,
         "Leonardo Martins",
         "dmelo@gmail.com",
         "+55 41 5084-0399",
         "2024-02-07",
         "21:01:24"
        ],
        [
         49,
         "Lívia Monteiro",
         "felipe31@gmail.com",
         "+55 51 7858 3681",
         "2024-02-07",
         "21:01:24"
        ],
        [
         50,
         "Augusto Costela",
         "clariceda-cruz@gmail.com",
         "+55 (071) 8763 6001",
         "2024-02-07",
         "21:01:24"
        ],
        [
         51,
         "Joana Carvalho",
         "ralmeida@gmail.com",
         "41 5265 6840",
         "2024-02-07",
         "21:01:24"
        ],
        [
         52,
         "Gustavo Dias",
         "diasgiovanna@gmail.com",
         "71 7393-3162",
         "2024-02-07",
         "21:01:24"
        ],
        [
         53,
         "Caroline Martins",
         "raquellima@gmail.com",
         "+55 (081) 1516 6202",
         "2024-02-07",
         "21:01:24"
        ],
        [
         54,
         "Natália Aragão",
         "ana-livia49@gmail.com",
         "0500 188 6965",
         "2024-02-07",
         "21:01:24"
        ],
        [
         55,
         "Davi Lucas Ferreira",
         "alvesjoao-gabriel@gmail.com",
         "0500 807 9266",
         "2024-02-07",
         "21:01:24"
        ],
        [
         56,
         "Laís Azevedo",
         "fernandesjoao@gmail.com",
         "31 5523 9337",
         "2024-02-07",
         "21:01:24"
        ],
        [
         57,
         "Pedro Henrique Pires",
         "da-pazana-livia@gmail.com",
         "11 6438 3626",
         "2024-02-07",
         "21:01:24"
        ],
        [
         58,
         "Cauê Souza",
         "vitoriacostela@gmail.com",
         "+55 (021) 4097 4930",
         "2024-02-07",
         "21:01:24"
        ],
        [
         59,
         "Olivia Viana",
         "fogacapedro-miguel@gmail.com",
         "41 3744 3847",
         "2024-02-07",
         "21:01:24"
        ],
        [
         60,
         "Fernanda Barros",
         "luiz-fernando09@gmail.com",
         "+55 (031) 6928-0773",
         "2024-02-07",
         "21:01:24"
        ],
        [
         61,
         "Nicolas Silveira",
         "almeidalivia@gmail.com",
         "41 9532 5954",
         "2024-02-07",
         "21:01:24"
        ],
        [
         62,
         "Larissa Campos",
         "xmartins@gmail.com",
         "+55 71 8000 2285",
         "2024-02-07",
         "21:01:24"
        ],
        [
         63,
         "Benjamin Carvalho",
         "eduardafreitas@gmail.com",
         "+55 (061) 4909-9127",
         "2024-02-07",
         "21:01:24"
        ],
        [
         64,
         "Diogo Cavalcanti",
         "cmoreira@gmail.com",
         "(051) 2128 6900",
         "2024-02-07",
         "21:01:24"
        ],
        [
         65,
         "Natália Caldeira",
         "fnunes@gmail.com",
         "+55 21 7111-4556",
         "2024-02-07",
         "21:01:24"
        ],
        [
         66,
         "Sra. Laura Dias",
         "maria-luiza16@gmail.com",
         "+55 (051) 4270 4453",
         "2024-02-07",
         "21:01:24"
        ],
        [
         67,
         "Dr. Pedro Miguel da Cunha",
         "brunaramos@gmail.com",
         "21 5431 3398",
         "2024-02-07",
         "21:01:24"
        ],
        [
         68,
         "Júlia Viana",
         "bjesus@gmail.com",
         "(061) 6650 4153",
         "2024-02-07",
         "21:01:24"
        ],
        [
         69,
         "Eduardo Duarte",
         "aalmeida@gmail.com",
         "61 1056 3225",
         "2024-02-07",
         "21:01:24"
        ],
        [
         70,
         "Leonardo da Conceição",
         "rafaelasouza@gmail.com",
         "+55 51 4389 6478",
         "2024-02-07",
         "21:01:24"
        ],
        [
         71,
         "Lucas Gabriel Souza",
         "mirella41@gmail.com",
         "+55 81 4703-4973",
         "2024-02-07",
         "21:01:24"
        ],
        [
         72,
         "Luana Melo",
         "jmonteiro@gmail.com.net",
         "+55 11 4582-8079",
         "2024-02-07",
         "21:01:24"
        ],
        [
         73,
         "Lívia Porto",
         "lucas-gabriel90@gmail.com",
         "(084) 6006 8049",
         "2024-02-07",
         "21:01:24"
        ],
        [
         74,
         "Pietra Cardoso",
         "pcardoso@gmail.com",
         "(084) 7988 2194",
         "2024-02-07",
         "21:01:24"
        ],
        [
         75,
         "Juliana Oliveira",
         "thales15@gmail.com",
         "+55 71 3235 0657",
         "2024-02-07",
         "21:01:24"
        ],
        [
         76,
         "Alana Carvalho",
         "eloahmonteiro@gmail.com",
         "81 4331-9567",
         "2024-02-07",
         "21:01:24"
        ],
        [
         77,
         "Bianca Farias",
         "pfreitas@gmail.com",
         "(061) 9089 8659",
         "2024-02-07",
         "21:01:24"
        ],
        [
         78,
         "Laís Cardoso",
         "isabel87@gmail.com",
         "+55 51 8369 0366",
         "2024-02-07",
         "21:01:24"
        ],
        [
         79,
         "Luiz Fernando Rezende",
         "souzavalentina@gmail.com",
         "+55 71 4084 5652",
         "2024-02-07",
         "21:01:24"
        ],
        [
         80,
         "Milena da Cruz",
         "naraujo@gmail.com",
         "+55 21 8106-1838",
         "2024-02-07",
         "21:01:24"
        ],
        [
         81,
         "Luigi Ramos",
         "brunalima@gmail.com",
         "51 7734 2272",
         "2024-02-07",
         "21:01:24"
        ],
        [
         82,
         "Samuel Nascimento",
         "da-mataana-vitoria@gmail.com",
         "0900-286-0502",
         "2024-02-07",
         "21:01:24"
        ],
        [
         83,
         "Sr. Cauã da Rosa",
         "caroline32@gmail.com",
         "+55 41 5317 0926",
         "2024-02-07",
         "21:01:24"
        ],
        [
         84,
         "Vinicius da Cruz",
         "cardososabrina@gmail.com",
         "81 0296-2985",
         "2024-02-07",
         "21:01:24"
        ],
        [
         85,
         "Dra. Alana Gonçalves",
         "jgomes@gmail.com",
         "(081) 8564 8732",
         "2024-02-07",
         "21:01:24"
        ],
        [
         86,
         "Caio Melo",
         "melissanovaes@gmail.com",
         "+55 41 1746 3121",
         "2024-02-07",
         "21:01:24"
        ],
        [
         87,
         "Srta. Evelyn Aragão",
         "costelamurilo@gmail.com",
         "+55 (041) 8783 6971",
         "2024-02-07",
         "21:01:24"
        ],
        [
         88,
         "Samuel Teixeira",
         "olivialopes@gmail.com",
         "51 4778 1642",
         "2024-02-07",
         "21:01:24"
        ],
        [
         89,
         "Matheus Rocha",
         "nascimentoguilherme@gmail.com",
         "41 6983-1899",
         "2024-02-07",
         "21:01:24"
        ],
        [
         90,
         "Diogo Duarte",
         "ian64@gmail.com",
         "(041) 3534 7583",
         "2024-02-07",
         "21:01:24"
        ],
        [
         91,
         "João Felipe Mendes",
         "ryan94@gmail.com",
         "(061) 7467-7063",
         "2024-02-07",
         "21:01:24"
        ],
        [
         92,
         "Natália Barros",
         "joaquim76@gmail.com",
         "0300-383-7003",
         "2024-02-07",
         "21:01:24"
        ],
        [
         93,
         "Joaquim da Cunha",
         "mvieira@gmail.com",
         "+55 71 7392-5194",
         "2024-02-07",
         "21:01:24"
        ],
        [
         94,
         "Sophia Duarte",
         "bdias@gmail.com",
         "+55 (041) 0488 4557",
         "2024-02-07",
         "21:01:24"
        ],
        [
         95,
         "Sr. Davi Luiz Ramos",
         "joao-vitormoraes@gmail.com",
         "51 5535 5941",
         "2024-02-07",
         "21:01:24"
        ],
        [
         96,
         "Davi Luiz da Costa",
         "das-neveseduardo@gmail.com",
         "11 9336-8713",
         "2024-02-07",
         "21:01:24"
        ],
        [
         97,
         "Sra. Mariana Moraes",
         "klopes@gmail.com",
         "+55 (051) 3687 4036",
         "2024-02-07",
         "21:01:24"
        ],
        [
         98,
         "Ana Clara da Costa",
         "lcardoso@gmail.com",
         "+55 (011) 8094 2877",
         "2024-02-07",
         "21:01:24"
        ],
        [
         99,
         "Eduardo Nogueira",
         "rochabryan@gmail.com",
         "(041) 3113 5914",
         "2024-02-07",
         "21:01:24"
        ],
        [
         100,
         "Isabelly Pinto",
         "joao-lucas21@gmail.com",
         "+55 (011) 7369-8203",
         "2024-02-07",
         "21:01:24"
        ],
        [
         101,
         "André Viana",
         "vdias@gmail.com",
         "0900-296-3899",
         "2024-02-07",
         "21:01:24"
        ],
        [
         102,
         "Ana Julia Oliveira",
         "costelamaysa@gmail.com",
         "(061) 8967-8565",
         "2024-02-07",
         "21:01:24"
        ],
        [
         103,
         "Larissa Almeida",
         "pereiraevelyn@gmail.com",
         "+55 31 0149-0575",
         "2024-02-07",
         "21:01:24"
        ],
        [
         104,
         "Vitor Hugo Rodrigues",
         "renangoncalves@gmail.com",
         "0900 475 6832",
         "2024-02-07",
         "21:01:24"
        ],
        [
         105,
         "Emanuella Barros",
         "barroslucas-gabriel@gmail.com",
         "+55 (081) 6928 3628",
         "2024-02-07",
         "21:01:24"
        ],
        [
         106,
         "Gustavo Araújo",
         "bcardoso@gmail.com",
         "61 3336-3989",
         "2024-02-07",
         "21:01:24"
        ],
        [
         107,
         "Laís Araújo",
         "xrocha@gmail.com",
         "(061) 3458-7731",
         "2024-02-07",
         "21:01:24"
        ],
        [
         108,
         "João Pedro Araújo",
         "pintomariane@gmail.com",
         "(031) 3497 9527",
         "2024-02-07",
         "21:01:24"
        ],
        [
         109,
         "Dr. Levi Souza",
         "lavinia33@gmail.com",
         "0300 323 4036",
         "2024-02-07",
         "21:01:24"
        ],
        [
         110,
         "Joana Melo",
         "almeidalara@gmail.com",
         "+55 41 9408-9786",
         "2024-02-07",
         "21:01:24"
        ],
        [
         111,
         "Mariane Rodrigues",
         "pietro70@gmail.com",
         "+55 (031) 9181 7327",
         "2024-02-07",
         "21:01:24"
        ],
        [
         112,
         "Dr. Matheus da Cruz",
         "pereiracaua@gmail.com",
         "0500-713-7842",
         "2024-02-07",
         "21:01:24"
        ],
        [
         113,
         "Ana Lívia Rezende",
         "da-conceicaoluana@gmail.com",
         "+55 (031) 9111 8615",
         "2024-02-07",
         "21:01:24"
        ],
        [
         114,
         "Luiz Otávio Gomes",
         "marcelo92@gmail.com",
         "+55 (084) 1855-0649",
         "2024-02-07",
         "21:01:24"
        ],
        [
         115,
         "Clara Cardoso",
         "moreiramilena@gmail.com",
         "0300 265 4006",
         "2024-02-07",
         "21:01:24"
        ],
        [
         116,
         "Maria Araújo",
         "maysacavalcanti@gmail.com",
         "84 8076-6705",
         "2024-02-07",
         "21:01:24"
        ],
        [
         117,
         "Dra. Maria Jesus",
         "marinamonteiro@gmail.com",
         "0800-688-4291",
         "2024-02-07",
         "21:01:24"
        ],
        [
         118,
         "Otávio Rocha",
         "samuel69@gmail.com",
         "(081) 1636 4417",
         "2024-02-07",
         "21:01:24"
        ],
        [
         119,
         "Ana Carolina Alves",
         "vitor-gabrielsouza@gmail.com",
         "+55 51 1140 4939",
         "2024-02-07",
         "21:01:24"
        ],
        [
         120,
         "Clarice Santos",
         "nina56@gmail.com",
         "(021) 7122-5770",
         "2024-02-07",
         "21:01:24"
        ],
        [
         121,
         "Vitória Ramos",
         "emanuella73@gmail.com",
         "+55 41 0849 9236",
         "2024-02-07",
         "21:01:24"
        ],
        [
         122,
         "Paulo das Neves",
         "xgoncalves@gmail.com",
         "+55 41 0976 1393",
         "2024-02-07",
         "21:01:24"
        ],
        [
         123,
         "Theo da Rosa",
         "cardosojoao-gabriel@gmail.com",
         "51 8187 4789",
         "2024-02-07",
         "21:01:24"
        ],
        [
         124,
         "Heloísa Azevedo",
         "sda-conceicao@gmail.com",
         "(084) 7704-7002",
         "2024-02-07",
         "21:01:24"
        ],
        [
         125,
         "João Santos",
         "theo51@gmail.com",
         "31 5128 9543",
         "2024-02-07",
         "21:01:24"
        ],
        [
         126,
         "Ryan Lima",
         "maria-sophiada-costa@gmail.com",
         "(084) 3916 5292",
         "2024-02-07",
         "21:01:24"
        ],
        [
         127,
         "Kaique da Paz",
         "fernandonascimento@gmail.com",
         "+55 (061) 2880-2323",
         "2024-02-07",
         "21:01:24"
        ],
        [
         128,
         "Murilo da Rosa",
         "levimoraes@gmail.com",
         "0300-700-1247",
         "2024-02-07",
         "21:01:24"
        ],
        [
         129,
         "Marcela Monteiro",
         "theo37@gmail.com",
         "(011) 8189-0760",
         "2024-02-07",
         "21:01:24"
        ],
        [
         130,
         "Rafaela Fernandes",
         "zda-rosa@gmail.com",
         "41 0663 6195",
         "2024-02-07",
         "21:01:24"
        ],
        [
         131,
         "Vicente Carvalho",
         "oliveirafelipe@gmail.com",
         "+55 61 7836-9352",
         "2024-02-07",
         "21:01:24"
        ],
        [
         132,
         "Dra. Vitória Cardoso",
         "calebe34@gmail.com",
         "+55 (081) 3479-6252",
         "2024-02-07",
         "21:01:24"
        ],
        [
         133,
         "Lorenzo Lopes",
         "milena63@gmail.com",
         "+55 31 4643 2215",
         "2024-02-07",
         "21:01:24"
        ],
        [
         134,
         "Dr. Igor Cardoso",
         "marcos-vinicius15@gmail.com",
         "(011) 9447 3530",
         "2024-02-07",
         "21:01:24"
        ],
        [
         135,
         "Laís Mendes",
         "aragaocarolina@gmail.com",
         "+55 41 3825 9136",
         "2024-02-07",
         "21:01:24"
        ],
        [
         136,
         "Isabella Dias",
         "mmoreira@gmail.com",
         "(061) 6048 1864",
         "2024-02-07",
         "21:01:24"
        ],
        [
         137,
         "Larissa da Paz",
         "ncaldeira@gmail.com",
         "31 1282-9511",
         "2024-02-07",
         "21:01:24"
        ],
        [
         138,
         "Srta. Ana Júlia Ferreira",
         "levimonteiro@gmail.com",
         "71 1556-9309",
         "2024-02-07",
         "21:01:24"
        ],
        [
         139,
         "Valentina Nogueira",
         "xrocha@gmail.com",
         "0300-684-6876",
         "2024-02-07",
         "21:01:24"
        ],
        [
         140,
         "Sr. Lucas Martins",
         "larasales@gmail.com",
         "31 3674 2945",
         "2024-02-07",
         "21:01:24"
        ],
        [
         141,
         "Ana Vitória Castro",
         "uferreira@gmail.com",
         "+55 (031) 9276-6074",
         "2024-02-07",
         "21:01:24"
        ],
        [
         142,
         "Maria Sophia Fernandes",
         "nicolaslopes@gmail.com",
         "+55 (041) 2837 0760",
         "2024-02-07",
         "21:01:24"
        ],
        [
         143,
         "Nathan Cardoso",
         "manuelasantos@gmail.com",
         "+55 84 6215-1248",
         "2024-02-07",
         "21:01:24"
        ],
        [
         144,
         "Caroline Martins",
         "monteiroemanuelly@gmail.com",
         "+55 41 9572-3155",
         "2024-02-07",
         "21:01:24"
        ],
        [
         145,
         "Valentina Melo",
         "emanuelporto@gmail.com",
         "81 0872 1793",
         "2024-02-07",
         "21:01:24"
        ],
        [
         146,
         "Emilly da Rosa",
         "fariaslaura@gmail.com",
         "61 6455 7288",
         "2024-02-07",
         "21:01:24"
        ],
        [
         147,
         "Henrique Rezende",
         "yasminda-mata@gmail.com",
         "0800-623-5438",
         "2024-02-07",
         "21:01:24"
        ],
        [
         148,
         "Leonardo Sales",
         "ninacarvalho@gmail.com",
         "+55 81 6008 3856",
         "2024-02-07",
         "21:01:24"
        ],
        [
         149,
         "Srta. Agatha Fernandes",
         "peixotoana-laura@gmail.com",
         "+55 11 5224-5214",
         "2024-02-07",
         "21:01:24"
        ],
        [
         150,
         "Luiza Lima",
         "davi-lucasbarbosa@gmail.com",
         "+55 61 5641-4366",
         "2024-02-07",
         "21:01:24"
        ],
        [
         151,
         "Marcela Correia",
         "almeidaelisa@gmail.com",
         "61 6757-4277",
         "2024-02-07",
         "21:01:24"
        ],
        [
         152,
         "João Vitor Campos",
         "diego45@gmail.com",
         "71 5905 2214",
         "2024-02-07",
         "21:01:24"
        ],
        [
         153,
         "Daniela Cardoso",
         "marcela05@gmail.com",
         "(084) 9908 6394",
         "2024-02-07",
         "21:01:24"
        ],
        [
         154,
         "Sr. Leonardo Silva",
         "heitor44@gmail.com",
         "+55 (061) 6111 8966",
         "2024-02-07",
         "21:01:24"
        ],
        [
         155,
         "Bryan Castro",
         "vitor-gabriel72@gmail.com",
         "+55 51 6308 2661",
         "2024-02-07",
         "21:01:24"
        ],
        [
         156,
         "Kamilly Fernandes",
         "danilo64@gmail.com",
         "(061) 7449 0789",
         "2024-02-07",
         "21:01:24"
        ],
        [
         157,
         "Pedro Lucas Ramos",
         "pfogaca@gmail.com",
         "0800-106-1834",
         "2024-02-07",
         "21:01:24"
        ],
        [
         158,
         "Alícia Vieira",
         "osilveira@gmail.com",
         "(071) 3993 1572",
         "2024-02-07",
         "21:01:24"
        ],
        [
         159,
         "Srta. Maria Eduarda Caldeira",
         "thomas85@gmail.com",
         "+55 (061) 6770-1299",
         "2024-02-07",
         "21:01:24"
        ],
        [
         160,
         "João Gabriel Aragão",
         "vianaluiz-otavio@gmail.com",
         "(084) 9185-3877",
         "2024-02-07",
         "21:01:24"
        ],
        [
         161,
         "Sra. Letícia Teixeira",
         "joao-felipecostela@gmail.com",
         "(011) 5902 8659",
         "2024-02-07",
         "21:01:24"
        ],
        [
         162,
         "Dra. Sophie Monteiro",
         "tdias@gmail.com",
         "0800 522 8980",
         "2024-02-07",
         "21:01:24"
        ],
        [
         163,
         "Sra. Melissa Cardoso",
         "martinsgabriela@gmail.com",
         "84 5164 7564",
         "2024-02-07",
         "21:01:24"
        ],
        [
         164,
         "Cauê Moreira",
         "clara47@gmail.com",
         "(051) 3018 0023",
         "2024-02-07",
         "21:01:24"
        ],
        [
         165,
         "André das Neves",
         "diaspietro@gmail.com",
         "(061) 3148-3663",
         "2024-02-07",
         "21:01:24"
        ],
        [
         166,
         "Stephany Azevedo",
         "luiz-henrique29@gmail.com",
         "0800 424 4530",
         "2024-02-07",
         "21:01:24"
        ],
        [
         167,
         "Matheus da Cruz",
         "amonteiro@gmail.com",
         "+55 84 9997-0267",
         "2024-02-07",
         "21:01:24"
        ],
        [
         168,
         "Diego Pereira",
         "franciscofarias@gmail.com",
         "(081) 4822-5616",
         "2024-02-07",
         "21:01:24"
        ],
        [
         169,
         "André Nunes",
         "da-conceicaosophie@gmail.com",
         "0800-955-3700",
         "2024-02-07",
         "21:01:24"
        ],
        [
         170,
         "Maria Clara da Rosa",
         "muriloaragao@gmail.com",
         "+55 11 9115-9800",
         "2024-02-07",
         "21:01:24"
        ],
        [
         171,
         "Maria Vitória da Cruz",
         "rebeca08@gmail.com",
         "+55 (061) 0381 2937",
         "2024-02-07",
         "21:01:24"
        ],
        [
         172,
         "Diego Santos",
         "lucca90@gmail.com",
         "0800 366 0651",
         "2024-02-07",
         "21:01:24"
        ],
        [
         173,
         "Breno Fernandes",
         "marinasales@gmail.com",
         "(071) 0428 5649",
         "2024-02-07",
         "21:01:24"
        ],
        [
         174,
         "Alexia Lopes",
         "caiorodrigues@gmail.com",
         "+55 81 2852 6705",
         "2024-02-07",
         "21:01:24"
        ],
        [
         175,
         "Daniel Porto",
         "ana-julia94@gmail.com",
         "+55 (031) 6243 8076",
         "2024-02-07",
         "21:01:24"
        ],
        [
         176,
         "Juan das Neves",
         "sarah52@gmail.com",
         "(081) 2275 5389",
         "2024-02-07",
         "21:01:24"
        ],
        [
         177,
         "Luiz Miguel Oliveira",
         "wmoraes@gmail.com",
         "+55 (011) 9041-2863",
         "2024-02-07",
         "21:01:24"
        ],
        [
         178,
         "Alana da Rocha",
         "marcelo79@gmail.com",
         "61 2753-6700",
         "2024-02-07",
         "21:01:24"
        ],
        [
         179,
         "Manuela Monteiro",
         "da-rochadavi@gmail.com",
         "+55 84 5802-3401",
         "2024-02-07",
         "21:01:24"
        ],
        [
         180,
         "Dra. Maitê Freitas",
         "nina14@gmail.com",
         "+55 61 9945-1181",
         "2024-02-07",
         "21:01:24"
        ],
        [
         181,
         "Ana Júlia Rocha",
         "bcarvalho@gmail.com",
         "0500 276 9791",
         "2024-02-07",
         "21:01:24"
        ],
        [
         182,
         "Dra. Joana Nogueira",
         "barrosjoao-miguel@gmail.com",
         "84 8138-4377",
         "2024-02-07",
         "21:01:24"
        ],
        [
         183,
         "Diego Gomes",
         "ifernandes@gmail.com",
         "71 5942 4773",
         "2024-02-07",
         "21:01:24"
        ],
        [
         184,
         "Isaac Correia",
         "da-cruznicole@gmail.com",
         "+55 (021) 3043 4778",
         "2024-02-07",
         "21:01:24"
        ],
        [
         185,
         "Laís Rezende",
         "ramoslivia@gmail.com",
         "+55 (081) 2178 0335",
         "2024-02-07",
         "21:01:24"
        ],
        [
         186,
         "Letícia Campos",
         "yago55@gmail.com",
         "+55 81 4115 5836",
         "2024-02-07",
         "21:01:24"
        ],
        [
         187,
         "Sr. Benjamin Pires",
         "barrosdavi-luiz@gmail.com",
         "+55 (071) 7723 6844",
         "2024-02-07",
         "21:01:24"
        ],
        [
         188,
         "Enrico da Rosa",
         "emanuel23@gmail.com",
         "+55 (081) 7933-8009",
         "2024-02-07",
         "21:01:24"
        ],
        [
         189,
         "Maria Fernanda Ribeiro",
         "zgomes@gmail.com",
         "+55 (031) 3014-4422",
         "2024-02-07",
         "21:01:24"
        ],
        [
         190,
         "Elisa Castro",
         "barrosmiguel@gmail.com",
         "+55 (084) 1897-2777",
         "2024-02-07",
         "21:01:24"
        ],
        [
         191,
         "Cauã Dias",
         "raquelsouza@gmail.com",
         "+55 (071) 0740 5744",
         "2024-02-07",
         "21:01:24"
        ],
        [
         192,
         "Carlos Eduardo Mendes",
         "emanuella96@gmail.com",
         "+55 (071) 5870-7735",
         "2024-02-07",
         "21:01:24"
        ],
        [
         193,
         "Diego Gomes",
         "anthony66@gmail.com",
         "+55 51 2729 3368",
         "2024-02-07",
         "21:01:24"
        ],
        [
         194,
         "Fernanda Alves",
         "evieira@gmail.com",
         "+55 31 5709 5377",
         "2024-02-07",
         "21:01:24"
        ],
        [
         195,
         "Bernardo Mendes",
         "vitorferreira@gmail.com",
         "+55 (011) 2611-4183",
         "2024-02-07",
         "21:01:24"
        ],
        [
         196,
         "Davi Luiz da Mata",
         "fernandafogaca@gmail.com",
         "+55 (071) 6247 5781",
         "2024-02-07",
         "21:01:24"
        ],
        [
         197,
         "Carlos Eduardo Peixoto",
         "sofiaribeiro@gmail.com",
         "+55 11 5880-0807",
         "2024-02-07",
         "21:01:24"
        ],
        [
         198,
         "Sra. Isabella da Cunha",
         "peixotoyuri@gmail.com",
         "31 1648-6424",
         "2024-02-07",
         "21:01:24"
        ],
        [
         199,
         "Sr. Levi Nunes",
         "jda-mota@gmail.com",
         "+55 11 3602-9543",
         "2024-02-07",
         "21:01:24"
        ],
        [
         200,
         "Manuela Silveira",
         "lucca28@gmail.com",
         "+55 (061) 6738 0436",
         "2024-02-07",
         "21:01:24"
        ]
       ],
       "datasetInfos": [],
       "dbfsResultPath": null,
       "isJsonSchema": true,
       "metadata": {},
       "overflow": false,
       "plotOptions": {
        "customPlotOptions": {},
        "displayType": "table",
        "pivotAggregation": null,
        "pivotColumns": null,
        "xColumns": null,
        "yColumns": null
       },
       "removedWidgets": [],
       "schema": [
        {
         "metadata": "{}",
         "name": "id_cliente",
         "type": "\"integer\""
        },
        {
         "metadata": "{}",
         "name": "nome",
         "type": "\"string\""
        },
        {
         "metadata": "{}",
         "name": "email",
         "type": "\"string\""
        },
        {
         "metadata": "{}",
         "name": "telefone",
         "type": "\"string\""
        },
        {
         "metadata": "{}",
         "name": "data_carga",
         "type": "\"date\""
        },
        {
         "metadata": "{}",
         "name": "hora_carga",
         "type": "\"string\""
        }
       ],
       "type": "table"
      }
     },
     "output_type": "display_data"
    }
   ],
   "source": [
    "%sql\n",
    "select *\n",
    "from bronze.clientes"
   ]
  }
 ],
 "metadata": {
  "application/vnd.databricks.v1+notebook": {
   "dashboards": [],
   "language": "python",
   "notebookMetadata": {
    "mostRecentlyExecutedCommandWithImplicitDF": {
     "commandId": 4206025876379844,
     "dataframes": [
      "_sqldf"
     ]
    },
    "pythonIndentUnit": 4
   },
   "notebookName": "01 - clientes (bronze)",
   "widgets": {}
  }
 },
 "nbformat": 4,
 "nbformat_minor": 0
}
