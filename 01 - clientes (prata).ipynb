{
 "cells": [
  {
   "cell_type": "markdown",
   "metadata": {
    "application/vnd.databricks.v1+cell": {
     "cellMetadata": {
      "byteLimit": 2048000,
      "rowLimit": 10000
     },
     "inputWidgets": {},
     "nuid": "72a14414-10bf-4f00-8376-fc3a7679c5e2",
     "showTitle": false,
     "title": ""
    }
   },
   "source": [
    "# Tabela Silver Clientes\n",
    "\n",
    "## Overview\n",
    "\n",
    " | Detail Tag | Information |\n",
    " |------------|-------------|\n",
    " |Versão inicial | Paulo Henrique  |\n",
    " |Tabela final | prata.clientes |\n",
    " |Origem dos dados |Camada Silver |\n",
    "\n",
    "\n",
    "## Histórico de atualização\n",
    " | Date | Developed By | Reason |\n",
    " |:----:|--------------|--------|\n",
    " |30/01/2024 | Paulo Henrique |Criação do notebook |\n",
    " \n",
    " \n",
    "\n",
    "## Informações\n",
    "\n",
    "Este notebook contém a construção da tabela silver contendo os dados de clientes"
   ]
  },
  {
   "cell_type": "code",
   "execution_count": 0,
   "metadata": {
    "application/vnd.databricks.v1+cell": {
     "cellMetadata": {
      "byteLimit": 2048000,
      "rowLimit": 10000
     },
     "inputWidgets": {},
     "nuid": "e6535e70-5a25-492b-834a-28c3372e8017",
     "showTitle": false,
     "title": ""
    }
   },
   "outputs": [
    {
     "output_type": "display_data",
     "data": {
      "text/html": [
       "<style scoped>\n",
       "  .table-result-container {\n",
       "    max-height: 300px;\n",
       "    overflow: auto;\n",
       "  }\n",
       "  table, th, td {\n",
       "    border: 1px solid black;\n",
       "    border-collapse: collapse;\n",
       "  }\n",
       "  th, td {\n",
       "    padding: 5px;\n",
       "  }\n",
       "  th {\n",
       "    text-align: left;\n",
       "  }\n",
       "</style><div class='table-result-container'><table class='table-result'><thead style='background-color: white'><tr></tr></thead><tbody></tbody></table></div>"
      ]
     },
     "metadata": {
      "application/vnd.databricks.v1+output": {
       "addedWidgets": {},
       "aggData": [],
       "aggError": "",
       "aggOverflow": false,
       "aggSchema": [],
       "aggSeriesLimitReached": false,
       "aggType": "",
       "arguments": {},
       "columnCustomDisplayInfos": {},
       "data": [],
       "datasetInfos": [],
       "dbfsResultPath": null,
       "isJsonSchema": true,
       "metadata": {
        "isDbfsCommandResult": false
       },
       "overflow": false,
       "plotOptions": {
        "customPlotOptions": {},
        "displayType": "table",
        "pivotAggregation": null,
        "pivotColumns": null,
        "xColumns": null,
        "yColumns": null
       },
       "removedWidgets": [],
       "schema": [],
       "type": "table"
      }
     },
     "output_type": "display_data"
    }
   ],
   "source": [
    "%sql\n",
    "CREATE DATABASE IF NOT EXISTS prata;\n"
   ]
  },
  {
   "cell_type": "code",
   "execution_count": 0,
   "metadata": {
    "application/vnd.databricks.v1+cell": {
     "cellMetadata": {
      "byteLimit": 2048000,
      "rowLimit": 10000
     },
     "inputWidgets": {},
     "nuid": "6384b9c8-84f7-4f36-8ead-bcf4ce15e57f",
     "showTitle": false,
     "title": ""
    }
   },
   "outputs": [],
   "source": [
    "%python\n",
    "from pyspark.sql.functions import concat, lit, substring, regexp_replace, col, when"
   ]
  },
  {
   "cell_type": "code",
   "execution_count": 0,
   "metadata": {
    "application/vnd.databricks.v1+cell": {
     "cellMetadata": {
      "byteLimit": 2048000,
      "rowLimit": 10000
     },
     "inputWidgets": {},
     "nuid": "f33c19c8-fa2b-4d92-a49d-daf2ffade949",
     "showTitle": false,
     "title": ""
    }
   },
   "outputs": [
    {
     "output_type": "display_data",
     "data": {
      "text/html": [
       "<style scoped>\n",
       "  .table-result-container {\n",
       "    max-height: 300px;\n",
       "    overflow: auto;\n",
       "  }\n",
       "  table, th, td {\n",
       "    border: 1px solid black;\n",
       "    border-collapse: collapse;\n",
       "  }\n",
       "  th, td {\n",
       "    padding: 5px;\n",
       "  }\n",
       "  th {\n",
       "    text-align: left;\n",
       "  }\n",
       "</style><div class='table-result-container'><table class='table-result'><thead style='background-color: white'><tr><th>num_affected_rows</th><th>num_inserted_rows</th></tr></thead><tbody></tbody></table></div>"
      ]
     },
     "metadata": {
      "application/vnd.databricks.v1+output": {
       "addedWidgets": {},
       "aggData": [],
       "aggError": "",
       "aggOverflow": false,
       "aggSchema": [],
       "aggSeriesLimitReached": false,
       "aggType": "",
       "arguments": {},
       "columnCustomDisplayInfos": {},
       "data": [],
       "datasetInfos": [],
       "dbfsResultPath": null,
       "isJsonSchema": true,
       "metadata": {
        "isDbfsCommandResult": false
       },
       "overflow": false,
       "plotOptions": {
        "customPlotOptions": {},
        "displayType": "table",
        "pivotAggregation": null,
        "pivotColumns": null,
        "xColumns": null,
        "yColumns": null
       },
       "removedWidgets": [],
       "schema": [
        {
         "metadata": "{}",
         "name": "num_affected_rows",
         "type": "\"long\""
        },
        {
         "metadata": "{}",
         "name": "num_inserted_rows",
         "type": "\"long\""
        }
       ],
       "type": "table"
      }
     },
     "output_type": "display_data"
    }
   ],
   "source": [
    "%sql\n",
    "create or replace table prata.clientes as\n",
    "select * from bronze.clientes"
   ]
  },
  {
   "cell_type": "code",
   "execution_count": 0,
   "metadata": {
    "application/vnd.databricks.v1+cell": {
     "cellMetadata": {
      "byteLimit": 2048000,
      "rowLimit": 10000
     },
     "inputWidgets": {},
     "nuid": "06653ce9-a389-431d-a552-1f62576e4b0d",
     "showTitle": false,
     "title": ""
    }
   },
   "outputs": [
    {
     "output_type": "display_data",
     "data": {
      "text/html": [
       "<style scoped>\n",
       "  .table-result-container {\n",
       "    max-height: 300px;\n",
       "    overflow: auto;\n",
       "  }\n",
       "  table, th, td {\n",
       "    border: 1px solid black;\n",
       "    border-collapse: collapse;\n",
       "  }\n",
       "  th, td {\n",
       "    padding: 5px;\n",
       "  }\n",
       "  th {\n",
       "    text-align: left;\n",
       "  }\n",
       "</style><div class='table-result-container'><table class='table-result'><thead style='background-color: white'><tr><th>num_affected_rows</th></tr></thead><tbody><tr><td>200</td></tr></tbody></table></div>"
      ]
     },
     "metadata": {
      "application/vnd.databricks.v1+output": {
       "addedWidgets": {},
       "aggData": [],
       "aggError": "",
       "aggOverflow": false,
       "aggSchema": [],
       "aggSeriesLimitReached": false,
       "aggType": "",
       "arguments": {},
       "columnCustomDisplayInfos": {},
       "data": [
        [
         200
        ]
       ],
       "datasetInfos": [],
       "dbfsResultPath": null,
       "isJsonSchema": true,
       "metadata": {
        "isDbfsCommandResult": false
       },
       "overflow": false,
       "plotOptions": {
        "customPlotOptions": {},
        "displayType": "table",
        "pivotAggregation": null,
        "pivotColumns": null,
        "xColumns": null,
        "yColumns": null
       },
       "removedWidgets": [],
       "schema": [
        {
         "metadata": "{}",
         "name": "num_affected_rows",
         "type": "\"long\""
        }
       ],
       "type": "table"
      }
     },
     "output_type": "display_data"
    }
   ],
   "source": [
    "%sql\n",
    "UPDATE prata.clientes\n",
    "SET Nome = REPLACE(REPLACE(REPLACE(REPLACE(Nome, 'Sr.', ''), 'Srta.', ''), 'Sra.', ''), 'Dr.', '')"
   ]
  },
  {
   "cell_type": "code",
   "execution_count": 0,
   "metadata": {
    "application/vnd.databricks.v1+cell": {
     "cellMetadata": {
      "byteLimit": 2048000,
      "rowLimit": 10000
     },
     "inputWidgets": {},
     "nuid": "ec0f2868-5d79-46df-b91d-d92b41db3066",
     "showTitle": false,
     "title": ""
    }
   },
   "outputs": [
    {
     "output_type": "stream",
     "name": "stdout",
     "output_type": "stream",
     "text": [
      "+----------+--------------------+--------------------+-------------------+----------+----------+\n|id_cliente|                nome|               email|           telefone|data_carga|hora_carga|\n+----------+--------------------+--------------------+-------------------+----------+----------+\n|         1|Marcos Vinicius P...|moreirarafael@gma...|+55 (051) 1476-7634|2024-02-20|  16:22:21|\n|         2|    Ana Laura Novaes|aliciapires@gmail...|   +55 71 2686-2429|2024-02-20|  16:22:21|\n|         3|  Francisco Silveira| pteixeira@gmail.com|       31 6691-7704|2024-02-20|  16:22:21|\n|         4|      Elisa da Rocha|enascimento@gmail...|       11 1007-1988|2024-02-20|  16:22:21|\n|         5|        Kevin da Luz|moreirajoao-felip...|      0500-152-8310|2024-02-20|  16:22:21|\n|         6|      Gabriela Cunha|alexandre58@gmail...|      0800 925 0073|2024-02-20|  16:22:21|\n|         7|        Lucca Aragão|ana-carolina81@gm...|   +55 51 3202 5452|2024-02-20|  16:22:21|\n|         8|    Vinicius Costela|maysaporto@gmail.com|      0800 264 7109|2024-02-20|  16:22:21|\n|         9|       Cauê Teixeira|marcelocostela@gm...|       84 3515 0712|2024-02-20|  16:22:21|\n|        10|  Vitor Hugo Barbosa|    xnunes@gmail.com|    (041) 1168 4578|2024-02-20|  16:22:21|\n|        11|   Daniela das Neves|pauloda-rocha@gma...|       11 8447 5932|2024-02-20|  16:22:21|\n|        12|      Alexia Barbosa|maria-luiza70@gma...|+55 (011) 1491 8733|2024-02-20|  16:22:21|\n|        13|        Clara Duarte|   zcastro@gmail.com|+55 (011) 7970 2820|2024-02-20|  16:22:21|\n|        14|      Isadora Farias|oda-conceicao@gma...|+55 (071) 3621-2422|2024-02-20|  16:22:21|\n|        15|          Yago Silva|eduardogoncalves@...|   +55 11 3961 4788|2024-02-20|  16:22:21|\n|        16|        Joana Campos| icaldeira@gmail.com|   +55 51 1033 2053|2024-02-20|  16:22:21|\n|        17|         Theo Vieira| uteixeira@gmail.com|   +55 21 9451 6609|2024-02-20|  16:22:21|\n|        18| Vitor Gabriel da...|marianelopes@gmai...|+55 (071) 1609-1632|2024-02-20|  16:22:21|\n|        19|        Juan Freitas|  dda-mota@gmail.com|+55 (081) 3267-8941|2024-02-20|  16:22:21|\n|        20|    Stephany Correia|aragaomaria-eduar...|       61 1192 3023|2024-02-20|  16:22:21|\n+----------+--------------------+--------------------+-------------------+----------+----------+\nonly showing top 20 rows\n\n"
     ]
    }
   ],
   "source": [
    "%python\n",
    "df=spark.table('prata.clientes')\n",
    "df.show()"
   ]
  },
  {
   "cell_type": "code",
   "execution_count": 0,
   "metadata": {
    "application/vnd.databricks.v1+cell": {
     "cellMetadata": {
      "byteLimit": 2048000,
      "rowLimit": 10000
     },
     "inputWidgets": {},
     "nuid": "270fc408-5eb8-4634-b100-1b1c5d4a275b",
     "showTitle": false,
     "title": ""
    }
   },
   "outputs": [
    {
     "output_type": "stream",
     "name": "stdout",
     "output_type": "stream",
     "text": [
      "+----------+--------------------+--------------------+-----------+----------+----------+\n|id_cliente|                nome|               email|   telefone|data_carga|hora_carga|\n+----------+--------------------+--------------------+-----------+----------+----------+\n|         1|Marcos Vinicius P...|moreirarafael@gma...|51 14767634|2024-02-20|  16:22:21|\n|         2|    Ana Laura Novaes|aliciapires@gmail...|71 26862429|2024-02-20|  16:22:21|\n|         3|  Francisco Silveira| pteixeira@gmail.com|31 66917704|2024-02-20|  16:22:21|\n|         4|      Elisa da Rocha|enascimento@gmail...|11 10071988|2024-02-20|  16:22:21|\n|         5|        Kevin da Luz|moreirajoao-felip...|99 99999999|2024-02-20|  16:22:21|\n|         6|      Gabriela Cunha|alexandre58@gmail...|99 99999999|2024-02-20|  16:22:21|\n|         7|        Lucca Aragão|ana-carolina81@gm...|51 32025452|2024-02-20|  16:22:21|\n|         8|    Vinicius Costela|maysaporto@gmail.com|99 99999999|2024-02-20|  16:22:21|\n|         9|       Cauê Teixeira|marcelocostela@gm...|84 35150712|2024-02-20|  16:22:21|\n|        10|  Vitor Hugo Barbosa|    xnunes@gmail.com|41 11684578|2024-02-20|  16:22:21|\n|        11|   Daniela das Neves|pauloda-rocha@gma...|11 84475932|2024-02-20|  16:22:21|\n|        12|      Alexia Barbosa|maria-luiza70@gma...|11 14918733|2024-02-20|  16:22:21|\n|        13|        Clara Duarte|   zcastro@gmail.com|11 79702820|2024-02-20|  16:22:21|\n|        14|      Isadora Farias|oda-conceicao@gma...|71 36212422|2024-02-20|  16:22:21|\n|        15|          Yago Silva|eduardogoncalves@...|11 39614788|2024-02-20|  16:22:21|\n|        16|        Joana Campos| icaldeira@gmail.com|51 10332053|2024-02-20|  16:22:21|\n|        17|         Theo Vieira| uteixeira@gmail.com|21 94516609|2024-02-20|  16:22:21|\n|        18| Vitor Gabriel da...|marianelopes@gmai...|71 16091632|2024-02-20|  16:22:21|\n|        19|        Juan Freitas|  dda-mota@gmail.com|81 32678941|2024-02-20|  16:22:21|\n|        20|    Stephany Correia|aragaomaria-eduar...|61 11923023|2024-02-20|  16:22:21|\n+----------+--------------------+--------------------+-----------+----------+----------+\nonly showing top 20 rows\n\n"
     ]
    }
   ],
   "source": [
    "%python\n",
    "\n",
    "\n",
    "# Primeiro, remover '+55', os parênteses e espaços da coluna 'telefone'\n",
    "df = df.withColumn(\"telefone\", regexp_replace(\"telefone\", \"\\+55|\\(|\\)|\\s+\", \"\"))\n",
    "\n",
    "# Remover caracteres não numéricos para garantir que estamos partindo de uma base numérica limpa\n",
    "df = df.withColumn(\"telefone\", regexp_replace(col(\"telefone\"), \"[^0-9]\", \"\"))\n",
    "\n",
    "# Remover zeros à esquerda\n",
    "df = df.withColumn(\"telefone\", regexp_replace(col(\"telefone\"), \"^0+\", \"\"))\n",
    "\n",
    "# Substituir registros que comecem com 100, 200, 300, 400, 500, 600, 700, 800, 900 por '99 99999999'\n",
    "df = df.withColumn(\"telefone\", when(col(\"telefone\").rlike(\"^(100|200|300|400|500|600|700|800|900)\"), \"99 99999999\").otherwise(col(\"telefone\")))\n",
    "\n",
    "# Inserir um espaço após os dois primeiros números\n",
    "df = df.withColumn(\"telefone\", regexp_replace(col(\"telefone\"), \"^(\\\\d{2})(\\\\d+)\", \"$1 $2\"))\n",
    "df.show()\n",
    "\n",
    "\n"
   ]
  },
  {
   "cell_type": "code",
   "execution_count": 0,
   "metadata": {
    "application/vnd.databricks.v1+cell": {
     "cellMetadata": {
      "byteLimit": 2048000,
      "rowLimit": 10000
     },
     "inputWidgets": {},
     "nuid": "1c6890b5-9031-4ebf-a1a5-f661bcb8b8c7",
     "showTitle": false,
     "title": ""
    }
   },
   "outputs": [],
   "source": [
    "%python\n",
    "df.write.format('delta').mode('overwrite').option('overwriteSchema', True).saveAsTable(f'prata.clientes')"
   ]
  },
  {
   "cell_type": "code",
   "execution_count": 0,
   "metadata": {
    "application/vnd.databricks.v1+cell": {
     "cellMetadata": {
      "byteLimit": 2048000,
      "rowLimit": 10000
     },
     "inputWidgets": {},
     "nuid": "22d2037b-0269-4e4b-ac83-924b68db22b4",
     "showTitle": false,
     "title": ""
    }
   },
   "outputs": [
    {
     "output_type": "display_data",
     "data": {
      "text/html": [
       "<style scoped>\n",
       "  .table-result-container {\n",
       "    max-height: 300px;\n",
       "    overflow: auto;\n",
       "  }\n",
       "  table, th, td {\n",
       "    border: 1px solid black;\n",
       "    border-collapse: collapse;\n",
       "  }\n",
       "  th, td {\n",
       "    padding: 5px;\n",
       "  }\n",
       "  th {\n",
       "    text-align: left;\n",
       "  }\n",
       "</style><div class='table-result-container'><table class='table-result'><thead style='background-color: white'><tr><th>id_cliente</th><th>nome</th><th>email</th><th>telefone</th><th>data_carga</th><th>hora_carga</th></tr></thead><tbody><tr><td>1</td><td>Marcos Vinicius Pires</td><td>moreirarafael@gmail.com</td><td>51 14767634</td><td>2024-02-20</td><td>16:22:21</td></tr><tr><td>2</td><td> Ana Laura Novaes</td><td>aliciapires@gmail.com</td><td>71 26862429</td><td>2024-02-20</td><td>16:22:21</td></tr><tr><td>3</td><td> Francisco Silveira</td><td>pteixeira@gmail.com</td><td>31 66917704</td><td>2024-02-20</td><td>16:22:21</td></tr><tr><td>4</td><td>Elisa da Rocha</td><td>enascimento@gmail.com</td><td>11 10071988</td><td>2024-02-20</td><td>16:22:21</td></tr><tr><td>5</td><td> Kevin da Luz</td><td>moreirajoao-felipe@gmail.com</td><td>99 99999999</td><td>2024-02-20</td><td>16:22:21</td></tr><tr><td>6</td><td>Gabriela Cunha</td><td>alexandre58@gmail.com</td><td>99 99999999</td><td>2024-02-20</td><td>16:22:21</td></tr><tr><td>7</td><td>Lucca Aragão</td><td>ana-carolina81@gmail.com</td><td>51 32025452</td><td>2024-02-20</td><td>16:22:21</td></tr><tr><td>8</td><td> Vinicius Costela</td><td>maysaporto@gmail.com</td><td>99 99999999</td><td>2024-02-20</td><td>16:22:21</td></tr><tr><td>9</td><td>Cauê Teixeira</td><td>marcelocostela@gmail.com</td><td>84 35150712</td><td>2024-02-20</td><td>16:22:21</td></tr><tr><td>10</td><td>Vitor Hugo Barbosa</td><td>xnunes@gmail.com</td><td>41 11684578</td><td>2024-02-20</td><td>16:22:21</td></tr><tr><td>11</td><td>Daniela das Neves</td><td>pauloda-rocha@gmail.com</td><td>11 84475932</td><td>2024-02-20</td><td>16:22:21</td></tr><tr><td>12</td><td> Alexia Barbosa</td><td>maria-luiza70@gmail.com</td><td>11 14918733</td><td>2024-02-20</td><td>16:22:21</td></tr><tr><td>13</td><td>Clara Duarte</td><td>zcastro@gmail.com</td><td>11 79702820</td><td>2024-02-20</td><td>16:22:21</td></tr><tr><td>14</td><td>Isadora Farias</td><td>oda-conceicao@gmail.com</td><td>71 36212422</td><td>2024-02-20</td><td>16:22:21</td></tr><tr><td>15</td><td>Yago Silva</td><td>eduardogoncalves@gmail.com</td><td>11 39614788</td><td>2024-02-20</td><td>16:22:21</td></tr><tr><td>16</td><td> Joana Campos</td><td>icaldeira@gmail.com</td><td>51 10332053</td><td>2024-02-20</td><td>16:22:21</td></tr><tr><td>17</td><td>Theo Vieira</td><td>uteixeira@gmail.com</td><td>21 94516609</td><td>2024-02-20</td><td>16:22:21</td></tr><tr><td>18</td><td> Vitor Gabriel da Mata</td><td>marianelopes@gmail.com</td><td>71 16091632</td><td>2024-02-20</td><td>16:22:21</td></tr><tr><td>19</td><td>Juan Freitas</td><td>dda-mota@gmail.com</td><td>81 32678941</td><td>2024-02-20</td><td>16:22:21</td></tr><tr><td>20</td><td>Stephany Correia</td><td>aragaomaria-eduarda@gmail.com</td><td>61 11923023</td><td>2024-02-20</td><td>16:22:21</td></tr><tr><td>21</td><td>Manuela Monteiro</td><td>nogueiralivia@gmail.com</td><td>84 20938030</td><td>2024-02-20</td><td>16:22:21</td></tr><tr><td>22</td><td>Stephany Lima</td><td>rcardoso@gmail.com</td><td>11 63554304</td><td>2024-02-20</td><td>16:22:21</td></tr><tr><td>23</td><td>Vinicius Oliveira</td><td>calebecavalcanti@gmail.com</td><td>84 85659643</td><td>2024-02-20</td><td>16:22:21</td></tr><tr><td>24</td><td>Maysa Farias</td><td>rodriguessabrina@gmail.com</td><td>71 53354258</td><td>2024-02-20</td><td>16:22:21</td></tr><tr><td>25</td><td>André da Mota</td><td>bmoraes@gmail.com</td><td>21 02531149</td><td>2024-02-20</td><td>16:22:21</td></tr><tr><td>26</td><td>Vitor Gabriel Teixeira</td><td>mendesana-beatriz@gmail.com</td><td>41 09858614</td><td>2024-02-20</td><td>16:22:21</td></tr><tr><td>27</td><td>Giovanna Ferreira</td><td>enricocorreia@gmail.com</td><td>61 55778085</td><td>2024-02-20</td><td>16:22:21</td></tr><tr><td>28</td><td> Rafael Teixeira</td><td>jmelo@gmail.com</td><td>81 74031112</td><td>2024-02-20</td><td>16:22:21</td></tr><tr><td>29</td><td>Alexia Araújo</td><td>eloahnogueira@gmail.com</td><td>31 81914994</td><td>2024-02-20</td><td>16:22:21</td></tr><tr><td>30</td><td>Stephany Oliveira</td><td>barrosmaria-fernanda@gmail.com</td><td>11 34737452</td><td>2024-02-20</td><td>16:22:21</td></tr><tr><td>31</td><td>Leandro Gonçalves</td><td>camilada-rocha@gmail.com</td><td>41 87510192</td><td>2024-02-20</td><td>16:22:21</td></tr><tr><td>32</td><td>Pietra Azevedo</td><td>alvescalebe@gmail.com</td><td>21 05662634</td><td>2024-02-20</td><td>16:22:21</td></tr><tr><td>33</td><td>Cauã Fernandes</td><td>diogojesus@gmail.com</td><td>51 78020695</td><td>2024-02-20</td><td>16:22:21</td></tr><tr><td>34</td><td> Rodrigo Pereira</td><td>ana-julia10@gmail.com</td><td>21 89171989</td><td>2024-02-20</td><td>16:22:21</td></tr><tr><td>35</td><td>Nicolas Alves</td><td>luiz-gustavo59@gmail.com</td><td>21 98916736</td><td>2024-02-20</td><td>16:22:21</td></tr><tr><td>36</td><td>Arthur Teixeira</td><td>clarice18@gmail.com</td><td>84 89210905</td><td>2024-02-20</td><td>16:22:21</td></tr><tr><td>37</td><td> Caio Alves</td><td>gustavo16@gmail.com</td><td>11 63629209</td><td>2024-02-20</td><td>16:22:21</td></tr><tr><td>38</td><td>Emanuella Peixoto</td><td>xcostela@gmail.com</td><td>84 51631570</td><td>2024-02-20</td><td>16:22:21</td></tr><tr><td>39</td><td>Luiz Fernando Moraes</td><td>jcorreia@gmail.com</td><td>99 99999999</td><td>2024-02-20</td><td>16:22:21</td></tr><tr><td>40</td><td> Pedro Henrique Lima</td><td>crocha@gmail.com</td><td>99 99999999</td><td>2024-02-20</td><td>16:22:21</td></tr><tr><td>41</td><td>Laura Nunes</td><td>mouraenzo-gabriel@gmail.com</td><td>51 24560688</td><td>2024-02-20</td><td>16:22:21</td></tr><tr><td>42</td><td>Rodrigo Aragão</td><td>luiz-miguelgomes@gmail.com</td><td>31 72743856</td><td>2024-02-20</td><td>16:22:21</td></tr><tr><td>43</td><td>Danilo Costela</td><td>ada-rocha@gmail.com</td><td>11 06344629</td><td>2024-02-20</td><td>16:22:21</td></tr><tr><td>44</td><td>João Vitor Viana</td><td>juliamelo@gmail.com</td><td>81 06965852</td><td>2024-02-20</td><td>16:22:21</td></tr><tr><td>45</td><td>Marcos Vinicius da Luz</td><td>wpires@gmail.com</td><td>21 34228667</td><td>2024-02-20</td><td>16:22:21</td></tr><tr><td>46</td><td>Isabel Dias</td><td>ana-julia28@gmail.com</td><td>31 17303081</td><td>2024-02-20</td><td>16:22:21</td></tr><tr><td>47</td><td> Luigi Gonçalves</td><td>lrocha@gmail.com</td><td>51 41369767</td><td>2024-02-20</td><td>16:22:21</td></tr><tr><td>48</td><td>Leonardo Martins</td><td>dmelo@gmail.com</td><td>41 50840399</td><td>2024-02-20</td><td>16:22:21</td></tr><tr><td>49</td><td>Lívia Monteiro</td><td>felipe31@gmail.com</td><td>51 78583681</td><td>2024-02-20</td><td>16:22:21</td></tr><tr><td>50</td><td>Augusto Costela</td><td>clariceda-cruz@gmail.com</td><td>71 87636001</td><td>2024-02-20</td><td>16:22:21</td></tr><tr><td>51</td><td>Joana Carvalho</td><td>ralmeida@gmail.com</td><td>41 52656840</td><td>2024-02-20</td><td>16:22:21</td></tr><tr><td>52</td><td>Gustavo Dias</td><td>diasgiovanna@gmail.com</td><td>71 73933162</td><td>2024-02-20</td><td>16:22:21</td></tr><tr><td>53</td><td>Caroline Martins</td><td>raquellima@gmail.com</td><td>81 15166202</td><td>2024-02-20</td><td>16:22:21</td></tr><tr><td>54</td><td>Natália Aragão</td><td>ana-livia49@gmail.com</td><td>99 99999999</td><td>2024-02-20</td><td>16:22:21</td></tr><tr><td>55</td><td>Davi Lucas Ferreira</td><td>alvesjoao-gabriel@gmail.com</td><td>99 99999999</td><td>2024-02-20</td><td>16:22:21</td></tr><tr><td>56</td><td>Laís Azevedo</td><td>fernandesjoao@gmail.com</td><td>31 55239337</td><td>2024-02-20</td><td>16:22:21</td></tr><tr><td>57</td><td>Pedro Henrique Pires</td><td>da-pazana-livia@gmail.com</td><td>11 64383626</td><td>2024-02-20</td><td>16:22:21</td></tr><tr><td>58</td><td>Cauê Souza</td><td>vitoriacostela@gmail.com</td><td>21 40974930</td><td>2024-02-20</td><td>16:22:21</td></tr><tr><td>59</td><td>Olivia Viana</td><td>fogacapedro-miguel@gmail.com</td><td>41 37443847</td><td>2024-02-20</td><td>16:22:21</td></tr><tr><td>60</td><td>Fernanda Barros</td><td>luiz-fernando09@gmail.com</td><td>31 69280773</td><td>2024-02-20</td><td>16:22:21</td></tr><tr><td>61</td><td>Nicolas Silveira</td><td>almeidalivia@gmail.com</td><td>41 95325954</td><td>2024-02-20</td><td>16:22:21</td></tr><tr><td>62</td><td>Larissa Campos</td><td>xmartins@gmail.com</td><td>71 80002285</td><td>2024-02-20</td><td>16:22:21</td></tr><tr><td>63</td><td>Benjamin Carvalho</td><td>eduardafreitas@gmail.com</td><td>61 49099127</td><td>2024-02-20</td><td>16:22:21</td></tr><tr><td>64</td><td>Diogo Cavalcanti</td><td>cmoreira@gmail.com</td><td>51 21286900</td><td>2024-02-20</td><td>16:22:21</td></tr><tr><td>65</td><td>Natália Caldeira</td><td>fnunes@gmail.com</td><td>21 71114556</td><td>2024-02-20</td><td>16:22:21</td></tr><tr><td>66</td><td> Laura Dias</td><td>maria-luiza16@gmail.com</td><td>51 42704453</td><td>2024-02-20</td><td>16:22:21</td></tr><tr><td>67</td><td> Pedro Miguel da Cunha</td><td>brunaramos@gmail.com</td><td>21 54313398</td><td>2024-02-20</td><td>16:22:21</td></tr><tr><td>68</td><td>Júlia Viana</td><td>bjesus@gmail.com</td><td>61 66504153</td><td>2024-02-20</td><td>16:22:21</td></tr><tr><td>69</td><td>Eduardo Duarte</td><td>aalmeida@gmail.com</td><td>61 10563225</td><td>2024-02-20</td><td>16:22:21</td></tr><tr><td>70</td><td>Leonardo da Conceição</td><td>rafaelasouza@gmail.com</td><td>51 43896478</td><td>2024-02-20</td><td>16:22:21</td></tr><tr><td>71</td><td>Lucas Gabriel Souza</td><td>mirella41@gmail.com</td><td>81 47034973</td><td>2024-02-20</td><td>16:22:21</td></tr><tr><td>72</td><td>Luana Melo</td><td>jmonteiro@gmail.com.net</td><td>11 45828079</td><td>2024-02-20</td><td>16:22:21</td></tr><tr><td>73</td><td>Lívia Porto</td><td>lucas-gabriel90@gmail.com</td><td>84 60068049</td><td>2024-02-20</td><td>16:22:21</td></tr><tr><td>74</td><td>Pietra Cardoso</td><td>pcardoso@gmail.com</td><td>84 79882194</td><td>2024-02-20</td><td>16:22:21</td></tr><tr><td>75</td><td>Juliana Oliveira</td><td>thales15@gmail.com</td><td>71 32350657</td><td>2024-02-20</td><td>16:22:21</td></tr><tr><td>76</td><td>Alana Carvalho</td><td>eloahmonteiro@gmail.com</td><td>81 43319567</td><td>2024-02-20</td><td>16:22:21</td></tr><tr><td>77</td><td>Bianca Farias</td><td>pfreitas@gmail.com</td><td>61 90898659</td><td>2024-02-20</td><td>16:22:21</td></tr><tr><td>78</td><td>Laís Cardoso</td><td>isabel87@gmail.com</td><td>51 83690366</td><td>2024-02-20</td><td>16:22:21</td></tr><tr><td>79</td><td>Luiz Fernando Rezende</td><td>souzavalentina@gmail.com</td><td>71 40845652</td><td>2024-02-20</td><td>16:22:21</td></tr><tr><td>80</td><td>Milena da Cruz</td><td>naraujo@gmail.com</td><td>21 81061838</td><td>2024-02-20</td><td>16:22:21</td></tr><tr><td>81</td><td>Luigi Ramos</td><td>brunalima@gmail.com</td><td>51 77342272</td><td>2024-02-20</td><td>16:22:21</td></tr><tr><td>82</td><td>Samuel Nascimento</td><td>da-mataana-vitoria@gmail.com</td><td>99 99999999</td><td>2024-02-20</td><td>16:22:21</td></tr><tr><td>83</td><td> Cauã da Rosa</td><td>caroline32@gmail.com</td><td>41 53170926</td><td>2024-02-20</td><td>16:22:21</td></tr><tr><td>84</td><td>Vinicius da Cruz</td><td>cardososabrina@gmail.com</td><td>81 02962985</td><td>2024-02-20</td><td>16:22:21</td></tr><tr><td>85</td><td>Dra. Alana Gonçalves</td><td>jgomes@gmail.com</td><td>81 85648732</td><td>2024-02-20</td><td>16:22:21</td></tr><tr><td>86</td><td>Caio Melo</td><td>melissanovaes@gmail.com</td><td>41 17463121</td><td>2024-02-20</td><td>16:22:21</td></tr><tr><td>87</td><td> Evelyn Aragão</td><td>costelamurilo@gmail.com</td><td>41 87836971</td><td>2024-02-20</td><td>16:22:21</td></tr><tr><td>88</td><td>Samuel Teixeira</td><td>olivialopes@gmail.com</td><td>51 47781642</td><td>2024-02-20</td><td>16:22:21</td></tr><tr><td>89</td><td>Matheus Rocha</td><td>nascimentoguilherme@gmail.com</td><td>41 69831899</td><td>2024-02-20</td><td>16:22:21</td></tr><tr><td>90</td><td>Diogo Duarte</td><td>ian64@gmail.com</td><td>41 35347583</td><td>2024-02-20</td><td>16:22:21</td></tr><tr><td>91</td><td>João Felipe Mendes</td><td>ryan94@gmail.com</td><td>61 74677063</td><td>2024-02-20</td><td>16:22:21</td></tr><tr><td>92</td><td>Natália Barros</td><td>joaquim76@gmail.com</td><td>99 99999999</td><td>2024-02-20</td><td>16:22:21</td></tr><tr><td>93</td><td>Joaquim da Cunha</td><td>mvieira@gmail.com</td><td>71 73925194</td><td>2024-02-20</td><td>16:22:21</td></tr><tr><td>94</td><td>Sophia Duarte</td><td>bdias@gmail.com</td><td>41 04884557</td><td>2024-02-20</td><td>16:22:21</td></tr><tr><td>95</td><td> Davi Luiz Ramos</td><td>joao-vitormoraes@gmail.com</td><td>51 55355941</td><td>2024-02-20</td><td>16:22:21</td></tr><tr><td>96</td><td>Davi Luiz da Costa</td><td>das-neveseduardo@gmail.com</td><td>11 93368713</td><td>2024-02-20</td><td>16:22:21</td></tr><tr><td>97</td><td> Mariana Moraes</td><td>klopes@gmail.com</td><td>51 36874036</td><td>2024-02-20</td><td>16:22:21</td></tr><tr><td>98</td><td>Ana Clara da Costa</td><td>lcardoso@gmail.com</td><td>11 80942877</td><td>2024-02-20</td><td>16:22:21</td></tr><tr><td>99</td><td>Eduardo Nogueira</td><td>rochabryan@gmail.com</td><td>41 31135914</td><td>2024-02-20</td><td>16:22:21</td></tr><tr><td>100</td><td>Isabelly Pinto</td><td>joao-lucas21@gmail.com</td><td>11 73698203</td><td>2024-02-20</td><td>16:22:21</td></tr><tr><td>101</td><td>André Viana</td><td>vdias@gmail.com</td><td>99 99999999</td><td>2024-02-20</td><td>16:22:21</td></tr><tr><td>102</td><td>Ana Julia Oliveira</td><td>costelamaysa@gmail.com</td><td>61 89678565</td><td>2024-02-20</td><td>16:22:21</td></tr><tr><td>103</td><td>Larissa Almeida</td><td>pereiraevelyn@gmail.com</td><td>31 01490575</td><td>2024-02-20</td><td>16:22:21</td></tr><tr><td>104</td><td>Vitor Hugo Rodrigues</td><td>renangoncalves@gmail.com</td><td>99 99999999</td><td>2024-02-20</td><td>16:22:21</td></tr><tr><td>105</td><td>Emanuella Barros</td><td>barroslucas-gabriel@gmail.com</td><td>81 69283628</td><td>2024-02-20</td><td>16:22:21</td></tr><tr><td>106</td><td>Gustavo Araújo</td><td>bcardoso@gmail.com</td><td>61 33363989</td><td>2024-02-20</td><td>16:22:21</td></tr><tr><td>107</td><td>Laís Araújo</td><td>xrocha@gmail.com</td><td>61 34587731</td><td>2024-02-20</td><td>16:22:21</td></tr><tr><td>108</td><td>João Pedro Araújo</td><td>pintomariane@gmail.com</td><td>31 34979527</td><td>2024-02-20</td><td>16:22:21</td></tr><tr><td>109</td><td> Levi Souza</td><td>lavinia33@gmail.com</td><td>99 99999999</td><td>2024-02-20</td><td>16:22:21</td></tr><tr><td>110</td><td>Joana Melo</td><td>almeidalara@gmail.com</td><td>41 94089786</td><td>2024-02-20</td><td>16:22:21</td></tr><tr><td>111</td><td>Mariane Rodrigues</td><td>pietro70@gmail.com</td><td>31 91817327</td><td>2024-02-20</td><td>16:22:21</td></tr><tr><td>112</td><td> Matheus da Cruz</td><td>pereiracaua@gmail.com</td><td>99 99999999</td><td>2024-02-20</td><td>16:22:21</td></tr><tr><td>113</td><td>Ana Lívia Rezende</td><td>da-conceicaoluana@gmail.com</td><td>31 91118615</td><td>2024-02-20</td><td>16:22:21</td></tr><tr><td>114</td><td>Luiz Otávio Gomes</td><td>marcelo92@gmail.com</td><td>84 18550649</td><td>2024-02-20</td><td>16:22:21</td></tr><tr><td>115</td><td>Clara Cardoso</td><td>moreiramilena@gmail.com</td><td>99 99999999</td><td>2024-02-20</td><td>16:22:21</td></tr><tr><td>116</td><td>Maria Araújo</td><td>maysacavalcanti@gmail.com</td><td>84 80766705</td><td>2024-02-20</td><td>16:22:21</td></tr><tr><td>117</td><td>Dra. Maria Jesus</td><td>marinamonteiro@gmail.com</td><td>99 99999999</td><td>2024-02-20</td><td>16:22:21</td></tr><tr><td>118</td><td>Otávio Rocha</td><td>samuel69@gmail.com</td><td>81 16364417</td><td>2024-02-20</td><td>16:22:21</td></tr><tr><td>119</td><td>Ana Carolina Alves</td><td>vitor-gabrielsouza@gmail.com</td><td>51 11404939</td><td>2024-02-20</td><td>16:22:21</td></tr><tr><td>120</td><td>Clarice Santos</td><td>nina56@gmail.com</td><td>21 71225770</td><td>2024-02-20</td><td>16:22:21</td></tr><tr><td>121</td><td>Vitória Ramos</td><td>emanuella73@gmail.com</td><td>41 08499236</td><td>2024-02-20</td><td>16:22:21</td></tr><tr><td>122</td><td>Paulo das Neves</td><td>xgoncalves@gmail.com</td><td>41 09761393</td><td>2024-02-20</td><td>16:22:21</td></tr><tr><td>123</td><td>Theo da Rosa</td><td>cardosojoao-gabriel@gmail.com</td><td>51 81874789</td><td>2024-02-20</td><td>16:22:21</td></tr><tr><td>124</td><td>Heloísa Azevedo</td><td>sda-conceicao@gmail.com</td><td>84 77047002</td><td>2024-02-20</td><td>16:22:21</td></tr><tr><td>125</td><td>João Santos</td><td>theo51@gmail.com</td><td>31 51289543</td><td>2024-02-20</td><td>16:22:21</td></tr><tr><td>126</td><td>Ryan Lima</td><td>maria-sophiada-costa@gmail.com</td><td>84 39165292</td><td>2024-02-20</td><td>16:22:21</td></tr><tr><td>127</td><td>Kaique da Paz</td><td>fernandonascimento@gmail.com</td><td>61 28802323</td><td>2024-02-20</td><td>16:22:21</td></tr><tr><td>128</td><td>Murilo da Rosa</td><td>levimoraes@gmail.com</td><td>99 99999999</td><td>2024-02-20</td><td>16:22:21</td></tr><tr><td>129</td><td>Marcela Monteiro</td><td>theo37@gmail.com</td><td>11 81890760</td><td>2024-02-20</td><td>16:22:21</td></tr><tr><td>130</td><td>Rafaela Fernandes</td><td>zda-rosa@gmail.com</td><td>41 06636195</td><td>2024-02-20</td><td>16:22:21</td></tr><tr><td>131</td><td>Vicente Carvalho</td><td>oliveirafelipe@gmail.com</td><td>61 78369352</td><td>2024-02-20</td><td>16:22:21</td></tr><tr><td>132</td><td>Dra. Vitória Cardoso</td><td>calebe34@gmail.com</td><td>81 34796252</td><td>2024-02-20</td><td>16:22:21</td></tr><tr><td>133</td><td>Lorenzo Lopes</td><td>milena63@gmail.com</td><td>31 46432215</td><td>2024-02-20</td><td>16:22:21</td></tr><tr><td>134</td><td> Igor Cardoso</td><td>marcos-vinicius15@gmail.com</td><td>11 94473530</td><td>2024-02-20</td><td>16:22:21</td></tr><tr><td>135</td><td>Laís Mendes</td><td>aragaocarolina@gmail.com</td><td>41 38259136</td><td>2024-02-20</td><td>16:22:21</td></tr><tr><td>136</td><td>Isabella Dias</td><td>mmoreira@gmail.com</td><td>61 60481864</td><td>2024-02-20</td><td>16:22:21</td></tr><tr><td>137</td><td>Larissa da Paz</td><td>ncaldeira@gmail.com</td><td>31 12829511</td><td>2024-02-20</td><td>16:22:21</td></tr><tr><td>138</td><td> Ana Júlia Ferreira</td><td>levimonteiro@gmail.com</td><td>71 15569309</td><td>2024-02-20</td><td>16:22:21</td></tr><tr><td>139</td><td>Valentina Nogueira</td><td>xrocha@gmail.com</td><td>99 99999999</td><td>2024-02-20</td><td>16:22:21</td></tr><tr><td>140</td><td> Lucas Martins</td><td>larasales@gmail.com</td><td>31 36742945</td><td>2024-02-20</td><td>16:22:21</td></tr><tr><td>141</td><td>Ana Vitória Castro</td><td>uferreira@gmail.com</td><td>31 92766074</td><td>2024-02-20</td><td>16:22:21</td></tr><tr><td>142</td><td>Maria Sophia Fernandes</td><td>nicolaslopes@gmail.com</td><td>41 28370760</td><td>2024-02-20</td><td>16:22:21</td></tr><tr><td>143</td><td>Nathan Cardoso</td><td>manuelasantos@gmail.com</td><td>84 62151248</td><td>2024-02-20</td><td>16:22:21</td></tr><tr><td>144</td><td>Caroline Martins</td><td>monteiroemanuelly@gmail.com</td><td>41 95723155</td><td>2024-02-20</td><td>16:22:21</td></tr><tr><td>145</td><td>Valentina Melo</td><td>emanuelporto@gmail.com</td><td>81 08721793</td><td>2024-02-20</td><td>16:22:21</td></tr><tr><td>146</td><td>Emilly da Rosa</td><td>fariaslaura@gmail.com</td><td>61 64557288</td><td>2024-02-20</td><td>16:22:21</td></tr><tr><td>147</td><td>Henrique Rezende</td><td>yasminda-mata@gmail.com</td><td>99 99999999</td><td>2024-02-20</td><td>16:22:21</td></tr><tr><td>148</td><td>Leonardo Sales</td><td>ninacarvalho@gmail.com</td><td>81 60083856</td><td>2024-02-20</td><td>16:22:21</td></tr><tr><td>149</td><td> Agatha Fernandes</td><td>peixotoana-laura@gmail.com</td><td>11 52245214</td><td>2024-02-20</td><td>16:22:21</td></tr><tr><td>150</td><td>Luiza Lima</td><td>davi-lucasbarbosa@gmail.com</td><td>61 56414366</td><td>2024-02-20</td><td>16:22:21</td></tr><tr><td>151</td><td>Marcela Correia</td><td>almeidaelisa@gmail.com</td><td>61 67574277</td><td>2024-02-20</td><td>16:22:21</td></tr><tr><td>152</td><td>João Vitor Campos</td><td>diego45@gmail.com</td><td>71 59052214</td><td>2024-02-20</td><td>16:22:21</td></tr><tr><td>153</td><td>Daniela Cardoso</td><td>marcela05@gmail.com</td><td>84 99086394</td><td>2024-02-20</td><td>16:22:21</td></tr><tr><td>154</td><td> Leonardo Silva</td><td>heitor44@gmail.com</td><td>61 61118966</td><td>2024-02-20</td><td>16:22:21</td></tr><tr><td>155</td><td>Bryan Castro</td><td>vitor-gabriel72@gmail.com</td><td>51 63082661</td><td>2024-02-20</td><td>16:22:21</td></tr><tr><td>156</td><td>Kamilly Fernandes</td><td>danilo64@gmail.com</td><td>61 74490789</td><td>2024-02-20</td><td>16:22:21</td></tr><tr><td>157</td><td>Pedro Lucas Ramos</td><td>pfogaca@gmail.com</td><td>99 99999999</td><td>2024-02-20</td><td>16:22:21</td></tr><tr><td>158</td><td>Alícia Vieira</td><td>osilveira@gmail.com</td><td>71 39931572</td><td>2024-02-20</td><td>16:22:21</td></tr><tr><td>159</td><td> Maria Eduarda Caldeira</td><td>thomas85@gmail.com</td><td>61 67701299</td><td>2024-02-20</td><td>16:22:21</td></tr><tr><td>160</td><td>João Gabriel Aragão</td><td>vianaluiz-otavio@gmail.com</td><td>84 91853877</td><td>2024-02-20</td><td>16:22:21</td></tr><tr><td>161</td><td> Letícia Teixeira</td><td>joao-felipecostela@gmail.com</td><td>11 59028659</td><td>2024-02-20</td><td>16:22:21</td></tr><tr><td>162</td><td>Dra. Sophie Monteiro</td><td>tdias@gmail.com</td><td>99 99999999</td><td>2024-02-20</td><td>16:22:21</td></tr><tr><td>163</td><td> Melissa Cardoso</td><td>martinsgabriela@gmail.com</td><td>84 51647564</td><td>2024-02-20</td><td>16:22:21</td></tr><tr><td>164</td><td>Cauê Moreira</td><td>clara47@gmail.com</td><td>51 30180023</td><td>2024-02-20</td><td>16:22:21</td></tr><tr><td>165</td><td>André das Neves</td><td>diaspietro@gmail.com</td><td>61 31483663</td><td>2024-02-20</td><td>16:22:21</td></tr><tr><td>166</td><td>Stephany Azevedo</td><td>luiz-henrique29@gmail.com</td><td>99 99999999</td><td>2024-02-20</td><td>16:22:21</td></tr><tr><td>167</td><td>Matheus da Cruz</td><td>amonteiro@gmail.com</td><td>84 99970267</td><td>2024-02-20</td><td>16:22:21</td></tr><tr><td>168</td><td>Diego Pereira</td><td>franciscofarias@gmail.com</td><td>81 48225616</td><td>2024-02-20</td><td>16:22:21</td></tr><tr><td>169</td><td>André Nunes</td><td>da-conceicaosophie@gmail.com</td><td>99 99999999</td><td>2024-02-20</td><td>16:22:21</td></tr><tr><td>170</td><td>Maria Clara da Rosa</td><td>muriloaragao@gmail.com</td><td>11 91159800</td><td>2024-02-20</td><td>16:22:21</td></tr><tr><td>171</td><td>Maria Vitória da Cruz</td><td>rebeca08@gmail.com</td><td>61 03812937</td><td>2024-02-20</td><td>16:22:21</td></tr><tr><td>172</td><td>Diego Santos</td><td>lucca90@gmail.com</td><td>99 99999999</td><td>2024-02-20</td><td>16:22:21</td></tr><tr><td>173</td><td>Breno Fernandes</td><td>marinasales@gmail.com</td><td>71 04285649</td><td>2024-02-20</td><td>16:22:21</td></tr><tr><td>174</td><td>Alexia Lopes</td><td>caiorodrigues@gmail.com</td><td>81 28526705</td><td>2024-02-20</td><td>16:22:21</td></tr><tr><td>175</td><td>Daniel Porto</td><td>ana-julia94@gmail.com</td><td>31 62438076</td><td>2024-02-20</td><td>16:22:21</td></tr><tr><td>176</td><td>Juan das Neves</td><td>sarah52@gmail.com</td><td>81 22755389</td><td>2024-02-20</td><td>16:22:21</td></tr><tr><td>177</td><td>Luiz Miguel Oliveira</td><td>wmoraes@gmail.com</td><td>11 90412863</td><td>2024-02-20</td><td>16:22:21</td></tr><tr><td>178</td><td>Alana da Rocha</td><td>marcelo79@gmail.com</td><td>61 27536700</td><td>2024-02-20</td><td>16:22:21</td></tr><tr><td>179</td><td>Manuela Monteiro</td><td>da-rochadavi@gmail.com</td><td>84 58023401</td><td>2024-02-20</td><td>16:22:21</td></tr><tr><td>180</td><td>Dra. Maitê Freitas</td><td>nina14@gmail.com</td><td>61 99451181</td><td>2024-02-20</td><td>16:22:21</td></tr><tr><td>181</td><td>Ana Júlia Rocha</td><td>bcarvalho@gmail.com</td><td>99 99999999</td><td>2024-02-20</td><td>16:22:21</td></tr><tr><td>182</td><td>Dra. Joana Nogueira</td><td>barrosjoao-miguel@gmail.com</td><td>84 81384377</td><td>2024-02-20</td><td>16:22:21</td></tr><tr><td>183</td><td>Diego Gomes</td><td>ifernandes@gmail.com</td><td>71 59424773</td><td>2024-02-20</td><td>16:22:21</td></tr><tr><td>184</td><td>Isaac Correia</td><td>da-cruznicole@gmail.com</td><td>21 30434778</td><td>2024-02-20</td><td>16:22:21</td></tr><tr><td>185</td><td>Laís Rezende</td><td>ramoslivia@gmail.com</td><td>81 21780335</td><td>2024-02-20</td><td>16:22:21</td></tr><tr><td>186</td><td>Letícia Campos</td><td>yago55@gmail.com</td><td>81 41155836</td><td>2024-02-20</td><td>16:22:21</td></tr><tr><td>187</td><td> Benjamin Pires</td><td>barrosdavi-luiz@gmail.com</td><td>71 77236844</td><td>2024-02-20</td><td>16:22:21</td></tr><tr><td>188</td><td>Enrico da Rosa</td><td>emanuel23@gmail.com</td><td>81 79338009</td><td>2024-02-20</td><td>16:22:21</td></tr><tr><td>189</td><td>Maria Fernanda Ribeiro</td><td>zgomes@gmail.com</td><td>31 30144422</td><td>2024-02-20</td><td>16:22:21</td></tr><tr><td>190</td><td>Elisa Castro</td><td>barrosmiguel@gmail.com</td><td>84 18972777</td><td>2024-02-20</td><td>16:22:21</td></tr><tr><td>191</td><td>Cauã Dias</td><td>raquelsouza@gmail.com</td><td>71 07405744</td><td>2024-02-20</td><td>16:22:21</td></tr><tr><td>192</td><td>Carlos Eduardo Mendes</td><td>emanuella96@gmail.com</td><td>71 58707735</td><td>2024-02-20</td><td>16:22:21</td></tr><tr><td>193</td><td>Diego Gomes</td><td>anthony66@gmail.com</td><td>51 27293368</td><td>2024-02-20</td><td>16:22:21</td></tr><tr><td>194</td><td>Fernanda Alves</td><td>evieira@gmail.com</td><td>31 57095377</td><td>2024-02-20</td><td>16:22:21</td></tr><tr><td>195</td><td>Bernardo Mendes</td><td>vitorferreira@gmail.com</td><td>11 26114183</td><td>2024-02-20</td><td>16:22:21</td></tr><tr><td>196</td><td>Davi Luiz da Mata</td><td>fernandafogaca@gmail.com</td><td>71 62475781</td><td>2024-02-20</td><td>16:22:21</td></tr><tr><td>197</td><td>Carlos Eduardo Peixoto</td><td>sofiaribeiro@gmail.com</td><td>11 58800807</td><td>2024-02-20</td><td>16:22:21</td></tr><tr><td>198</td><td> Isabella da Cunha</td><td>peixotoyuri@gmail.com</td><td>31 16486424</td><td>2024-02-20</td><td>16:22:21</td></tr><tr><td>199</td><td> Levi Nunes</td><td>jda-mota@gmail.com</td><td>11 36029543</td><td>2024-02-20</td><td>16:22:21</td></tr><tr><td>200</td><td>Manuela Silveira</td><td>lucca28@gmail.com</td><td>61 67380436</td><td>2024-02-20</td><td>16:22:21</td></tr></tbody></table></div>"
      ]
     },
     "metadata": {
      "application/vnd.databricks.v1+output": {
       "addedWidgets": {},
       "aggData": [],
       "aggError": "",
       "aggOverflow": false,
       "aggSchema": [],
       "aggSeriesLimitReached": false,
       "aggType": "",
       "arguments": {},
       "columnCustomDisplayInfos": {},
       "data": [
        [
         1,
         "Marcos Vinicius Pires",
         "moreirarafael@gmail.com",
         "51 14767634",
         "2024-02-20",
         "16:22:21"
        ],
        [
         2,
         " Ana Laura Novaes",
         "aliciapires@gmail.com",
         "71 26862429",
         "2024-02-20",
         "16:22:21"
        ],
        [
         3,
         " Francisco Silveira",
         "pteixeira@gmail.com",
         "31 66917704",
         "2024-02-20",
         "16:22:21"
        ],
        [
         4,
         "Elisa da Rocha",
         "enascimento@gmail.com",
         "11 10071988",
         "2024-02-20",
         "16:22:21"
        ],
        [
         5,
         " Kevin da Luz",
         "moreirajoao-felipe@gmail.com",
         "99 99999999",
         "2024-02-20",
         "16:22:21"
        ],
        [
         6,
         "Gabriela Cunha",
         "alexandre58@gmail.com",
         "99 99999999",
         "2024-02-20",
         "16:22:21"
        ],
        [
         7,
         "Lucca Aragão",
         "ana-carolina81@gmail.com",
         "51 32025452",
         "2024-02-20",
         "16:22:21"
        ],
        [
         8,
         " Vinicius Costela",
         "maysaporto@gmail.com",
         "99 99999999",
         "2024-02-20",
         "16:22:21"
        ],
        [
         9,
         "Cauê Teixeira",
         "marcelocostela@gmail.com",
         "84 35150712",
         "2024-02-20",
         "16:22:21"
        ],
        [
         10,
         "Vitor Hugo Barbosa",
         "xnunes@gmail.com",
         "41 11684578",
         "2024-02-20",
         "16:22:21"
        ],
        [
         11,
         "Daniela das Neves",
         "pauloda-rocha@gmail.com",
         "11 84475932",
         "2024-02-20",
         "16:22:21"
        ],
        [
         12,
         " Alexia Barbosa",
         "maria-luiza70@gmail.com",
         "11 14918733",
         "2024-02-20",
         "16:22:21"
        ],
        [
         13,
         "Clara Duarte",
         "zcastro@gmail.com",
         "11 79702820",
         "2024-02-20",
         "16:22:21"
        ],
        [
         14,
         "Isadora Farias",
         "oda-conceicao@gmail.com",
         "71 36212422",
         "2024-02-20",
         "16:22:21"
        ],
        [
         15,
         "Yago Silva",
         "eduardogoncalves@gmail.com",
         "11 39614788",
         "2024-02-20",
         "16:22:21"
        ],
        [
         16,
         " Joana Campos",
         "icaldeira@gmail.com",
         "51 10332053",
         "2024-02-20",
         "16:22:21"
        ],
        [
         17,
         "Theo Vieira",
         "uteixeira@gmail.com",
         "21 94516609",
         "2024-02-20",
         "16:22:21"
        ],
        [
         18,
         " Vitor Gabriel da Mata",
         "marianelopes@gmail.com",
         "71 16091632",
         "2024-02-20",
         "16:22:21"
        ],
        [
         19,
         "Juan Freitas",
         "dda-mota@gmail.com",
         "81 32678941",
         "2024-02-20",
         "16:22:21"
        ],
        [
         20,
         "Stephany Correia",
         "aragaomaria-eduarda@gmail.com",
         "61 11923023",
         "2024-02-20",
         "16:22:21"
        ],
        [
         21,
         "Manuela Monteiro",
         "nogueiralivia@gmail.com",
         "84 20938030",
         "2024-02-20",
         "16:22:21"
        ],
        [
         22,
         "Stephany Lima",
         "rcardoso@gmail.com",
         "11 63554304",
         "2024-02-20",
         "16:22:21"
        ],
        [
         23,
         "Vinicius Oliveira",
         "calebecavalcanti@gmail.com",
         "84 85659643",
         "2024-02-20",
         "16:22:21"
        ],
        [
         24,
         "Maysa Farias",
         "rodriguessabrina@gmail.com",
         "71 53354258",
         "2024-02-20",
         "16:22:21"
        ],
        [
         25,
         "André da Mota",
         "bmoraes@gmail.com",
         "21 02531149",
         "2024-02-20",
         "16:22:21"
        ],
        [
         26,
         "Vitor Gabriel Teixeira",
         "mendesana-beatriz@gmail.com",
         "41 09858614",
         "2024-02-20",
         "16:22:21"
        ],
        [
         27,
         "Giovanna Ferreira",
         "enricocorreia@gmail.com",
         "61 55778085",
         "2024-02-20",
         "16:22:21"
        ],
        [
         28,
         " Rafael Teixeira",
         "jmelo@gmail.com",
         "81 74031112",
         "2024-02-20",
         "16:22:21"
        ],
        [
         29,
         "Alexia Araújo",
         "eloahnogueira@gmail.com",
         "31 81914994",
         "2024-02-20",
         "16:22:21"
        ],
        [
         30,
         "Stephany Oliveira",
         "barrosmaria-fernanda@gmail.com",
         "11 34737452",
         "2024-02-20",
         "16:22:21"
        ],
        [
         31,
         "Leandro Gonçalves",
         "camilada-rocha@gmail.com",
         "41 87510192",
         "2024-02-20",
         "16:22:21"
        ],
        [
         32,
         "Pietra Azevedo",
         "alvescalebe@gmail.com",
         "21 05662634",
         "2024-02-20",
         "16:22:21"
        ],
        [
         33,
         "Cauã Fernandes",
         "diogojesus@gmail.com",
         "51 78020695",
         "2024-02-20",
         "16:22:21"
        ],
        [
         34,
         " Rodrigo Pereira",
         "ana-julia10@gmail.com",
         "21 89171989",
         "2024-02-20",
         "16:22:21"
        ],
        [
         35,
         "Nicolas Alves",
         "luiz-gustavo59@gmail.com",
         "21 98916736",
         "2024-02-20",
         "16:22:21"
        ],
        [
         36,
         "Arthur Teixeira",
         "clarice18@gmail.com",
         "84 89210905",
         "2024-02-20",
         "16:22:21"
        ],
        [
         37,
         " Caio Alves",
         "gustavo16@gmail.com",
         "11 63629209",
         "2024-02-20",
         "16:22:21"
        ],
        [
         38,
         "Emanuella Peixoto",
         "xcostela@gmail.com",
         "84 51631570",
         "2024-02-20",
         "16:22:21"
        ],
        [
         39,
         "Luiz Fernando Moraes",
         "jcorreia@gmail.com",
         "99 99999999",
         "2024-02-20",
         "16:22:21"
        ],
        [
         40,
         " Pedro Henrique Lima",
         "crocha@gmail.com",
         "99 99999999",
         "2024-02-20",
         "16:22:21"
        ],
        [
         41,
         "Laura Nunes",
         "mouraenzo-gabriel@gmail.com",
         "51 24560688",
         "2024-02-20",
         "16:22:21"
        ],
        [
         42,
         "Rodrigo Aragão",
         "luiz-miguelgomes@gmail.com",
         "31 72743856",
         "2024-02-20",
         "16:22:21"
        ],
        [
         43,
         "Danilo Costela",
         "ada-rocha@gmail.com",
         "11 06344629",
         "2024-02-20",
         "16:22:21"
        ],
        [
         44,
         "João Vitor Viana",
         "juliamelo@gmail.com",
         "81 06965852",
         "2024-02-20",
         "16:22:21"
        ],
        [
         45,
         "Marcos Vinicius da Luz",
         "wpires@gmail.com",
         "21 34228667",
         "2024-02-20",
         "16:22:21"
        ],
        [
         46,
         "Isabel Dias",
         "ana-julia28@gmail.com",
         "31 17303081",
         "2024-02-20",
         "16:22:21"
        ],
        [
         47,
         " Luigi Gonçalves",
         "lrocha@gmail.com",
         "51 41369767",
         "2024-02-20",
         "16:22:21"
        ],
        [
         48,
         "Leonardo Martins",
         "dmelo@gmail.com",
         "41 50840399",
         "2024-02-20",
         "16:22:21"
        ],
        [
         49,
         "Lívia Monteiro",
         "felipe31@gmail.com",
         "51 78583681",
         "2024-02-20",
         "16:22:21"
        ],
        [
         50,
         "Augusto Costela",
         "clariceda-cruz@gmail.com",
         "71 87636001",
         "2024-02-20",
         "16:22:21"
        ],
        [
         51,
         "Joana Carvalho",
         "ralmeida@gmail.com",
         "41 52656840",
         "2024-02-20",
         "16:22:21"
        ],
        [
         52,
         "Gustavo Dias",
         "diasgiovanna@gmail.com",
         "71 73933162",
         "2024-02-20",
         "16:22:21"
        ],
        [
         53,
         "Caroline Martins",
         "raquellima@gmail.com",
         "81 15166202",
         "2024-02-20",
         "16:22:21"
        ],
        [
         54,
         "Natália Aragão",
         "ana-livia49@gmail.com",
         "99 99999999",
         "2024-02-20",
         "16:22:21"
        ],
        [
         55,
         "Davi Lucas Ferreira",
         "alvesjoao-gabriel@gmail.com",
         "99 99999999",
         "2024-02-20",
         "16:22:21"
        ],
        [
         56,
         "Laís Azevedo",
         "fernandesjoao@gmail.com",
         "31 55239337",
         "2024-02-20",
         "16:22:21"
        ],
        [
         57,
         "Pedro Henrique Pires",
         "da-pazana-livia@gmail.com",
         "11 64383626",
         "2024-02-20",
         "16:22:21"
        ],
        [
         58,
         "Cauê Souza",
         "vitoriacostela@gmail.com",
         "21 40974930",
         "2024-02-20",
         "16:22:21"
        ],
        [
         59,
         "Olivia Viana",
         "fogacapedro-miguel@gmail.com",
         "41 37443847",
         "2024-02-20",
         "16:22:21"
        ],
        [
         60,
         "Fernanda Barros",
         "luiz-fernando09@gmail.com",
         "31 69280773",
         "2024-02-20",
         "16:22:21"
        ],
        [
         61,
         "Nicolas Silveira",
         "almeidalivia@gmail.com",
         "41 95325954",
         "2024-02-20",
         "16:22:21"
        ],
        [
         62,
         "Larissa Campos",
         "xmartins@gmail.com",
         "71 80002285",
         "2024-02-20",
         "16:22:21"
        ],
        [
         63,
         "Benjamin Carvalho",
         "eduardafreitas@gmail.com",
         "61 49099127",
         "2024-02-20",
         "16:22:21"
        ],
        [
         64,
         "Diogo Cavalcanti",
         "cmoreira@gmail.com",
         "51 21286900",
         "2024-02-20",
         "16:22:21"
        ],
        [
         65,
         "Natália Caldeira",
         "fnunes@gmail.com",
         "21 71114556",
         "2024-02-20",
         "16:22:21"
        ],
        [
         66,
         " Laura Dias",
         "maria-luiza16@gmail.com",
         "51 42704453",
         "2024-02-20",
         "16:22:21"
        ],
        [
         67,
         " Pedro Miguel da Cunha",
         "brunaramos@gmail.com",
         "21 54313398",
         "2024-02-20",
         "16:22:21"
        ],
        [
         68,
         "Júlia Viana",
         "bjesus@gmail.com",
         "61 66504153",
         "2024-02-20",
         "16:22:21"
        ],
        [
         69,
         "Eduardo Duarte",
         "aalmeida@gmail.com",
         "61 10563225",
         "2024-02-20",
         "16:22:21"
        ],
        [
         70,
         "Leonardo da Conceição",
         "rafaelasouza@gmail.com",
         "51 43896478",
         "2024-02-20",
         "16:22:21"
        ],
        [
         71,
         "Lucas Gabriel Souza",
         "mirella41@gmail.com",
         "81 47034973",
         "2024-02-20",
         "16:22:21"
        ],
        [
         72,
         "Luana Melo",
         "jmonteiro@gmail.com.net",
         "11 45828079",
         "2024-02-20",
         "16:22:21"
        ],
        [
         73,
         "Lívia Porto",
         "lucas-gabriel90@gmail.com",
         "84 60068049",
         "2024-02-20",
         "16:22:21"
        ],
        [
         74,
         "Pietra Cardoso",
         "pcardoso@gmail.com",
         "84 79882194",
         "2024-02-20",
         "16:22:21"
        ],
        [
         75,
         "Juliana Oliveira",
         "thales15@gmail.com",
         "71 32350657",
         "2024-02-20",
         "16:22:21"
        ],
        [
         76,
         "Alana Carvalho",
         "eloahmonteiro@gmail.com",
         "81 43319567",
         "2024-02-20",
         "16:22:21"
        ],
        [
         77,
         "Bianca Farias",
         "pfreitas@gmail.com",
         "61 90898659",
         "2024-02-20",
         "16:22:21"
        ],
        [
         78,
         "Laís Cardoso",
         "isabel87@gmail.com",
         "51 83690366",
         "2024-02-20",
         "16:22:21"
        ],
        [
         79,
         "Luiz Fernando Rezende",
         "souzavalentina@gmail.com",
         "71 40845652",
         "2024-02-20",
         "16:22:21"
        ],
        [
         80,
         "Milena da Cruz",
         "naraujo@gmail.com",
         "21 81061838",
         "2024-02-20",
         "16:22:21"
        ],
        [
         81,
         "Luigi Ramos",
         "brunalima@gmail.com",
         "51 77342272",
         "2024-02-20",
         "16:22:21"
        ],
        [
         82,
         "Samuel Nascimento",
         "da-mataana-vitoria@gmail.com",
         "99 99999999",
         "2024-02-20",
         "16:22:21"
        ],
        [
         83,
         " Cauã da Rosa",
         "caroline32@gmail.com",
         "41 53170926",
         "2024-02-20",
         "16:22:21"
        ],
        [
         84,
         "Vinicius da Cruz",
         "cardososabrina@gmail.com",
         "81 02962985",
         "2024-02-20",
         "16:22:21"
        ],
        [
         85,
         "Dra. Alana Gonçalves",
         "jgomes@gmail.com",
         "81 85648732",
         "2024-02-20",
         "16:22:21"
        ],
        [
         86,
         "Caio Melo",
         "melissanovaes@gmail.com",
         "41 17463121",
         "2024-02-20",
         "16:22:21"
        ],
        [
         87,
         " Evelyn Aragão",
         "costelamurilo@gmail.com",
         "41 87836971",
         "2024-02-20",
         "16:22:21"
        ],
        [
         88,
         "Samuel Teixeira",
         "olivialopes@gmail.com",
         "51 47781642",
         "2024-02-20",
         "16:22:21"
        ],
        [
         89,
         "Matheus Rocha",
         "nascimentoguilherme@gmail.com",
         "41 69831899",
         "2024-02-20",
         "16:22:21"
        ],
        [
         90,
         "Diogo Duarte",
         "ian64@gmail.com",
         "41 35347583",
         "2024-02-20",
         "16:22:21"
        ],
        [
         91,
         "João Felipe Mendes",
         "ryan94@gmail.com",
         "61 74677063",
         "2024-02-20",
         "16:22:21"
        ],
        [
         92,
         "Natália Barros",
         "joaquim76@gmail.com",
         "99 99999999",
         "2024-02-20",
         "16:22:21"
        ],
        [
         93,
         "Joaquim da Cunha",
         "mvieira@gmail.com",
         "71 73925194",
         "2024-02-20",
         "16:22:21"
        ],
        [
         94,
         "Sophia Duarte",
         "bdias@gmail.com",
         "41 04884557",
         "2024-02-20",
         "16:22:21"
        ],
        [
         95,
         " Davi Luiz Ramos",
         "joao-vitormoraes@gmail.com",
         "51 55355941",
         "2024-02-20",
         "16:22:21"
        ],
        [
         96,
         "Davi Luiz da Costa",
         "das-neveseduardo@gmail.com",
         "11 93368713",
         "2024-02-20",
         "16:22:21"
        ],
        [
         97,
         " Mariana Moraes",
         "klopes@gmail.com",
         "51 36874036",
         "2024-02-20",
         "16:22:21"
        ],
        [
         98,
         "Ana Clara da Costa",
         "lcardoso@gmail.com",
         "11 80942877",
         "2024-02-20",
         "16:22:21"
        ],
        [
         99,
         "Eduardo Nogueira",
         "rochabryan@gmail.com",
         "41 31135914",
         "2024-02-20",
         "16:22:21"
        ],
        [
         100,
         "Isabelly Pinto",
         "joao-lucas21@gmail.com",
         "11 73698203",
         "2024-02-20",
         "16:22:21"
        ],
        [
         101,
         "André Viana",
         "vdias@gmail.com",
         "99 99999999",
         "2024-02-20",
         "16:22:21"
        ],
        [
         102,
         "Ana Julia Oliveira",
         "costelamaysa@gmail.com",
         "61 89678565",
         "2024-02-20",
         "16:22:21"
        ],
        [
         103,
         "Larissa Almeida",
         "pereiraevelyn@gmail.com",
         "31 01490575",
         "2024-02-20",
         "16:22:21"
        ],
        [
         104,
         "Vitor Hugo Rodrigues",
         "renangoncalves@gmail.com",
         "99 99999999",
         "2024-02-20",
         "16:22:21"
        ],
        [
         105,
         "Emanuella Barros",
         "barroslucas-gabriel@gmail.com",
         "81 69283628",
         "2024-02-20",
         "16:22:21"
        ],
        [
         106,
         "Gustavo Araújo",
         "bcardoso@gmail.com",
         "61 33363989",
         "2024-02-20",
         "16:22:21"
        ],
        [
         107,
         "Laís Araújo",
         "xrocha@gmail.com",
         "61 34587731",
         "2024-02-20",
         "16:22:21"
        ],
        [
         108,
         "João Pedro Araújo",
         "pintomariane@gmail.com",
         "31 34979527",
         "2024-02-20",
         "16:22:21"
        ],
        [
         109,
         " Levi Souza",
         "lavinia33@gmail.com",
         "99 99999999",
         "2024-02-20",
         "16:22:21"
        ],
        [
         110,
         "Joana Melo",
         "almeidalara@gmail.com",
         "41 94089786",
         "2024-02-20",
         "16:22:21"
        ],
        [
         111,
         "Mariane Rodrigues",
         "pietro70@gmail.com",
         "31 91817327",
         "2024-02-20",
         "16:22:21"
        ],
        [
         112,
         " Matheus da Cruz",
         "pereiracaua@gmail.com",
         "99 99999999",
         "2024-02-20",
         "16:22:21"
        ],
        [
         113,
         "Ana Lívia Rezende",
         "da-conceicaoluana@gmail.com",
         "31 91118615",
         "2024-02-20",
         "16:22:21"
        ],
        [
         114,
         "Luiz Otávio Gomes",
         "marcelo92@gmail.com",
         "84 18550649",
         "2024-02-20",
         "16:22:21"
        ],
        [
         115,
         "Clara Cardoso",
         "moreiramilena@gmail.com",
         "99 99999999",
         "2024-02-20",
         "16:22:21"
        ],
        [
         116,
         "Maria Araújo",
         "maysacavalcanti@gmail.com",
         "84 80766705",
         "2024-02-20",
         "16:22:21"
        ],
        [
         117,
         "Dra. Maria Jesus",
         "marinamonteiro@gmail.com",
         "99 99999999",
         "2024-02-20",
         "16:22:21"
        ],
        [
         118,
         "Otávio Rocha",
         "samuel69@gmail.com",
         "81 16364417",
         "2024-02-20",
         "16:22:21"
        ],
        [
         119,
         "Ana Carolina Alves",
         "vitor-gabrielsouza@gmail.com",
         "51 11404939",
         "2024-02-20",
         "16:22:21"
        ],
        [
         120,
         "Clarice Santos",
         "nina56@gmail.com",
         "21 71225770",
         "2024-02-20",
         "16:22:21"
        ],
        [
         121,
         "Vitória Ramos",
         "emanuella73@gmail.com",
         "41 08499236",
         "2024-02-20",
         "16:22:21"
        ],
        [
         122,
         "Paulo das Neves",
         "xgoncalves@gmail.com",
         "41 09761393",
         "2024-02-20",
         "16:22:21"
        ],
        [
         123,
         "Theo da Rosa",
         "cardosojoao-gabriel@gmail.com",
         "51 81874789",
         "2024-02-20",
         "16:22:21"
        ],
        [
         124,
         "Heloísa Azevedo",
         "sda-conceicao@gmail.com",
         "84 77047002",
         "2024-02-20",
         "16:22:21"
        ],
        [
         125,
         "João Santos",
         "theo51@gmail.com",
         "31 51289543",
         "2024-02-20",
         "16:22:21"
        ],
        [
         126,
         "Ryan Lima",
         "maria-sophiada-costa@gmail.com",
         "84 39165292",
         "2024-02-20",
         "16:22:21"
        ],
        [
         127,
         "Kaique da Paz",
         "fernandonascimento@gmail.com",
         "61 28802323",
         "2024-02-20",
         "16:22:21"
        ],
        [
         128,
         "Murilo da Rosa",
         "levimoraes@gmail.com",
         "99 99999999",
         "2024-02-20",
         "16:22:21"
        ],
        [
         129,
         "Marcela Monteiro",
         "theo37@gmail.com",
         "11 81890760",
         "2024-02-20",
         "16:22:21"
        ],
        [
         130,
         "Rafaela Fernandes",
         "zda-rosa@gmail.com",
         "41 06636195",
         "2024-02-20",
         "16:22:21"
        ],
        [
         131,
         "Vicente Carvalho",
         "oliveirafelipe@gmail.com",
         "61 78369352",
         "2024-02-20",
         "16:22:21"
        ],
        [
         132,
         "Dra. Vitória Cardoso",
         "calebe34@gmail.com",
         "81 34796252",
         "2024-02-20",
         "16:22:21"
        ],
        [
         133,
         "Lorenzo Lopes",
         "milena63@gmail.com",
         "31 46432215",
         "2024-02-20",
         "16:22:21"
        ],
        [
         134,
         " Igor Cardoso",
         "marcos-vinicius15@gmail.com",
         "11 94473530",
         "2024-02-20",
         "16:22:21"
        ],
        [
         135,
         "Laís Mendes",
         "aragaocarolina@gmail.com",
         "41 38259136",
         "2024-02-20",
         "16:22:21"
        ],
        [
         136,
         "Isabella Dias",
         "mmoreira@gmail.com",
         "61 60481864",
         "2024-02-20",
         "16:22:21"
        ],
        [
         137,
         "Larissa da Paz",
         "ncaldeira@gmail.com",
         "31 12829511",
         "2024-02-20",
         "16:22:21"
        ],
        [
         138,
         " Ana Júlia Ferreira",
         "levimonteiro@gmail.com",
         "71 15569309",
         "2024-02-20",
         "16:22:21"
        ],
        [
         139,
         "Valentina Nogueira",
         "xrocha@gmail.com",
         "99 99999999",
         "2024-02-20",
         "16:22:21"
        ],
        [
         140,
         " Lucas Martins",
         "larasales@gmail.com",
         "31 36742945",
         "2024-02-20",
         "16:22:21"
        ],
        [
         141,
         "Ana Vitória Castro",
         "uferreira@gmail.com",
         "31 92766074",
         "2024-02-20",
         "16:22:21"
        ],
        [
         142,
         "Maria Sophia Fernandes",
         "nicolaslopes@gmail.com",
         "41 28370760",
         "2024-02-20",
         "16:22:21"
        ],
        [
         143,
         "Nathan Cardoso",
         "manuelasantos@gmail.com",
         "84 62151248",
         "2024-02-20",
         "16:22:21"
        ],
        [
         144,
         "Caroline Martins",
         "monteiroemanuelly@gmail.com",
         "41 95723155",
         "2024-02-20",
         "16:22:21"
        ],
        [
         145,
         "Valentina Melo",
         "emanuelporto@gmail.com",
         "81 08721793",
         "2024-02-20",
         "16:22:21"
        ],
        [
         146,
         "Emilly da Rosa",
         "fariaslaura@gmail.com",
         "61 64557288",
         "2024-02-20",
         "16:22:21"
        ],
        [
         147,
         "Henrique Rezende",
         "yasminda-mata@gmail.com",
         "99 99999999",
         "2024-02-20",
         "16:22:21"
        ],
        [
         148,
         "Leonardo Sales",
         "ninacarvalho@gmail.com",
         "81 60083856",
         "2024-02-20",
         "16:22:21"
        ],
        [
         149,
         " Agatha Fernandes",
         "peixotoana-laura@gmail.com",
         "11 52245214",
         "2024-02-20",
         "16:22:21"
        ],
        [
         150,
         "Luiza Lima",
         "davi-lucasbarbosa@gmail.com",
         "61 56414366",
         "2024-02-20",
         "16:22:21"
        ],
        [
         151,
         "Marcela Correia",
         "almeidaelisa@gmail.com",
         "61 67574277",
         "2024-02-20",
         "16:22:21"
        ],
        [
         152,
         "João Vitor Campos",
         "diego45@gmail.com",
         "71 59052214",
         "2024-02-20",
         "16:22:21"
        ],
        [
         153,
         "Daniela Cardoso",
         "marcela05@gmail.com",
         "84 99086394",
         "2024-02-20",
         "16:22:21"
        ],
        [
         154,
         " Leonardo Silva",
         "heitor44@gmail.com",
         "61 61118966",
         "2024-02-20",
         "16:22:21"
        ],
        [
         155,
         "Bryan Castro",
         "vitor-gabriel72@gmail.com",
         "51 63082661",
         "2024-02-20",
         "16:22:21"
        ],
        [
         156,
         "Kamilly Fernandes",
         "danilo64@gmail.com",
         "61 74490789",
         "2024-02-20",
         "16:22:21"
        ],
        [
         157,
         "Pedro Lucas Ramos",
         "pfogaca@gmail.com",
         "99 99999999",
         "2024-02-20",
         "16:22:21"
        ],
        [
         158,
         "Alícia Vieira",
         "osilveira@gmail.com",
         "71 39931572",
         "2024-02-20",
         "16:22:21"
        ],
        [
         159,
         " Maria Eduarda Caldeira",
         "thomas85@gmail.com",
         "61 67701299",
         "2024-02-20",
         "16:22:21"
        ],
        [
         160,
         "João Gabriel Aragão",
         "vianaluiz-otavio@gmail.com",
         "84 91853877",
         "2024-02-20",
         "16:22:21"
        ],
        [
         161,
         " Letícia Teixeira",
         "joao-felipecostela@gmail.com",
         "11 59028659",
         "2024-02-20",
         "16:22:21"
        ],
        [
         162,
         "Dra. Sophie Monteiro",
         "tdias@gmail.com",
         "99 99999999",
         "2024-02-20",
         "16:22:21"
        ],
        [
         163,
         " Melissa Cardoso",
         "martinsgabriela@gmail.com",
         "84 51647564",
         "2024-02-20",
         "16:22:21"
        ],
        [
         164,
         "Cauê Moreira",
         "clara47@gmail.com",
         "51 30180023",
         "2024-02-20",
         "16:22:21"
        ],
        [
         165,
         "André das Neves",
         "diaspietro@gmail.com",
         "61 31483663",
         "2024-02-20",
         "16:22:21"
        ],
        [
         166,
         "Stephany Azevedo",
         "luiz-henrique29@gmail.com",
         "99 99999999",
         "2024-02-20",
         "16:22:21"
        ],
        [
         167,
         "Matheus da Cruz",
         "amonteiro@gmail.com",
         "84 99970267",
         "2024-02-20",
         "16:22:21"
        ],
        [
         168,
         "Diego Pereira",
         "franciscofarias@gmail.com",
         "81 48225616",
         "2024-02-20",
         "16:22:21"
        ],
        [
         169,
         "André Nunes",
         "da-conceicaosophie@gmail.com",
         "99 99999999",
         "2024-02-20",
         "16:22:21"
        ],
        [
         170,
         "Maria Clara da Rosa",
         "muriloaragao@gmail.com",
         "11 91159800",
         "2024-02-20",
         "16:22:21"
        ],
        [
         171,
         "Maria Vitória da Cruz",
         "rebeca08@gmail.com",
         "61 03812937",
         "2024-02-20",
         "16:22:21"
        ],
        [
         172,
         "Diego Santos",
         "lucca90@gmail.com",
         "99 99999999",
         "2024-02-20",
         "16:22:21"
        ],
        [
         173,
         "Breno Fernandes",
         "marinasales@gmail.com",
         "71 04285649",
         "2024-02-20",
         "16:22:21"
        ],
        [
         174,
         "Alexia Lopes",
         "caiorodrigues@gmail.com",
         "81 28526705",
         "2024-02-20",
         "16:22:21"
        ],
        [
         175,
         "Daniel Porto",
         "ana-julia94@gmail.com",
         "31 62438076",
         "2024-02-20",
         "16:22:21"
        ],
        [
         176,
         "Juan das Neves",
         "sarah52@gmail.com",
         "81 22755389",
         "2024-02-20",
         "16:22:21"
        ],
        [
         177,
         "Luiz Miguel Oliveira",
         "wmoraes@gmail.com",
         "11 90412863",
         "2024-02-20",
         "16:22:21"
        ],
        [
         178,
         "Alana da Rocha",
         "marcelo79@gmail.com",
         "61 27536700",
         "2024-02-20",
         "16:22:21"
        ],
        [
         179,
         "Manuela Monteiro",
         "da-rochadavi@gmail.com",
         "84 58023401",
         "2024-02-20",
         "16:22:21"
        ],
        [
         180,
         "Dra. Maitê Freitas",
         "nina14@gmail.com",
         "61 99451181",
         "2024-02-20",
         "16:22:21"
        ],
        [
         181,
         "Ana Júlia Rocha",
         "bcarvalho@gmail.com",
         "99 99999999",
         "2024-02-20",
         "16:22:21"
        ],
        [
         182,
         "Dra. Joana Nogueira",
         "barrosjoao-miguel@gmail.com",
         "84 81384377",
         "2024-02-20",
         "16:22:21"
        ],
        [
         183,
         "Diego Gomes",
         "ifernandes@gmail.com",
         "71 59424773",
         "2024-02-20",
         "16:22:21"
        ],
        [
         184,
         "Isaac Correia",
         "da-cruznicole@gmail.com",
         "21 30434778",
         "2024-02-20",
         "16:22:21"
        ],
        [
         185,
         "Laís Rezende",
         "ramoslivia@gmail.com",
         "81 21780335",
         "2024-02-20",
         "16:22:21"
        ],
        [
         186,
         "Letícia Campos",
         "yago55@gmail.com",
         "81 41155836",
         "2024-02-20",
         "16:22:21"
        ],
        [
         187,
         " Benjamin Pires",
         "barrosdavi-luiz@gmail.com",
         "71 77236844",
         "2024-02-20",
         "16:22:21"
        ],
        [
         188,
         "Enrico da Rosa",
         "emanuel23@gmail.com",
         "81 79338009",
         "2024-02-20",
         "16:22:21"
        ],
        [
         189,
         "Maria Fernanda Ribeiro",
         "zgomes@gmail.com",
         "31 30144422",
         "2024-02-20",
         "16:22:21"
        ],
        [
         190,
         "Elisa Castro",
         "barrosmiguel@gmail.com",
         "84 18972777",
         "2024-02-20",
         "16:22:21"
        ],
        [
         191,
         "Cauã Dias",
         "raquelsouza@gmail.com",
         "71 07405744",
         "2024-02-20",
         "16:22:21"
        ],
        [
         192,
         "Carlos Eduardo Mendes",
         "emanuella96@gmail.com",
         "71 58707735",
         "2024-02-20",
         "16:22:21"
        ],
        [
         193,
         "Diego Gomes",
         "anthony66@gmail.com",
         "51 27293368",
         "2024-02-20",
         "16:22:21"
        ],
        [
         194,
         "Fernanda Alves",
         "evieira@gmail.com",
         "31 57095377",
         "2024-02-20",
         "16:22:21"
        ],
        [
         195,
         "Bernardo Mendes",
         "vitorferreira@gmail.com",
         "11 26114183",
         "2024-02-20",
         "16:22:21"
        ],
        [
         196,
         "Davi Luiz da Mata",
         "fernandafogaca@gmail.com",
         "71 62475781",
         "2024-02-20",
         "16:22:21"
        ],
        [
         197,
         "Carlos Eduardo Peixoto",
         "sofiaribeiro@gmail.com",
         "11 58800807",
         "2024-02-20",
         "16:22:21"
        ],
        [
         198,
         " Isabella da Cunha",
         "peixotoyuri@gmail.com",
         "31 16486424",
         "2024-02-20",
         "16:22:21"
        ],
        [
         199,
         " Levi Nunes",
         "jda-mota@gmail.com",
         "11 36029543",
         "2024-02-20",
         "16:22:21"
        ],
        [
         200,
         "Manuela Silveira",
         "lucca28@gmail.com",
         "61 67380436",
         "2024-02-20",
         "16:22:21"
        ]
       ],
       "datasetInfos": [],
       "dbfsResultPath": null,
       "isJsonSchema": true,
       "metadata": {},
       "overflow": false,
       "plotOptions": {
        "customPlotOptions": {},
        "displayType": "table",
        "pivotAggregation": null,
        "pivotColumns": null,
        "xColumns": null,
        "yColumns": null
       },
       "removedWidgets": [],
       "schema": [
        {
         "metadata": "{}",
         "name": "id_cliente",
         "type": "\"integer\""
        },
        {
         "metadata": "{}",
         "name": "nome",
         "type": "\"string\""
        },
        {
         "metadata": "{}",
         "name": "email",
         "type": "\"string\""
        },
        {
         "metadata": "{}",
         "name": "telefone",
         "type": "\"string\""
        },
        {
         "metadata": "{}",
         "name": "data_carga",
         "type": "\"date\""
        },
        {
         "metadata": "{}",
         "name": "hora_carga",
         "type": "\"string\""
        }
       ],
       "type": "table"
      }
     },
     "output_type": "display_data"
    }
   ],
   "source": [
    "%sql\n",
    "select * from prata.clientes"
   ]
  }
 ],
 "metadata": {
  "application/vnd.databricks.v1+notebook": {
   "dashboards": [],
   "language": "python",
   "notebookMetadata": {
    "pythonIndentUnit": 4
   },
   "notebookName": "01 - clientes (prata)",
   "widgets": {}
  }
 },
 "nbformat": 4,
 "nbformat_minor": 0
}
